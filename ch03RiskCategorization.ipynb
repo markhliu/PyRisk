{
 "cells": [
  {
   "cell_type": "markdown",
   "id": "7a3a1c4d",
   "metadata": {},
   "source": [
    "# Chapter 3: Categorizing Risks \n",
    "\n",
    "In this chapter, we will explore various methods for categorizing risks based on their potential gains, connections to debt, diversifiability, and underlying causes. We will also examine standard risk management strategies. Lastly, we will cover the objectives of risk management.\n",
    "\n",
    "Chapter Objectives:\n",
    "\n",
    "1. Categorize risks\n",
    "2. Review risk management strategies\n",
    "3. Identify the costs associated with risks\n",
    "4. Evaluate strategies for minimizing risk costs\n",
    "\n",
    "Risk is a multifaceted concept that encompasses numerous aspects. Consequently, there are multiple approaches to segmenting risks faced by contemporary businesses, based on the chosen classification criteria. First, we will discuss different ways to categorize risks. After that, we will delve into risk management strategies. Finally, we will discuss the purpose of risk management, especially for modern corporations, including financial institutions."
   ]
  },
  {
   "cell_type": "code",
   "execution_count": 1,
   "id": "08b9a4b5",
   "metadata": {},
   "outputs": [
    {
     "name": "stdout",
     "output_type": "stream",
     "text": [
      "the expected loss for the car is $1350.00\n",
      "the expected payment from the insurer is $975.00\n",
      "the insurance policy is fairly priced: False\n"
     ]
    }
   ],
   "source": [
    "# losses and the associated probabilities\n",
    "losses = [0, 1000, 5000, 10000, 30000]\n",
    "ps = [0.7, 0.15, 0.1, 0.04, 0.01]\n",
    "# calculate payments from the insurance company\n",
    "payments = [0]*len(ps)\n",
    "deductible = 1500\n",
    "for i in range(len(ps)):\n",
    "    if losses[i]>deductible:\n",
    "        payments[i]=losses[i]-deductible\n",
    "    else:\n",
    "        payments[i]=0\n",
    "# expected loss for the car\n",
    "mu_loss=0\n",
    "for i in range(len(ps)):\n",
    "    mu_loss += ps[i]*losses[i]\n",
    "print(f\"the expected loss for the car is ${mu_loss:.2f}\")\n",
    "# expected payment from the insurance company\n",
    "mu_payment=0\n",
    "for i in range(len(ps)):\n",
    "    mu_payment += ps[i]*payments[i]\n",
    "print(f\"the expected payment from the insurer is ${mu_payment:.2f}\")\n",
    "# calculate loading\n",
    "premium = 1000\n",
    "loading = premium - mu_payment\n",
    "fairly_price = (loading==0)\n",
    "print(\"the insurance policy is fairly priced:\", fairly_price)\n"
   ]
  },
  {
   "cell_type": "code",
   "execution_count": 2,
   "id": "6aee2a6c",
   "metadata": {},
   "outputs": [
    {
     "name": "stdout",
     "output_type": "stream",
     "text": [
      "the expected payoff is $48.00\n",
      "the expected profit is $-2.00\n"
     ]
    }
   ],
   "source": [
    "# payoffs and the associated probabilities\n",
    "payoffs = [100, 50, 10]\n",
    "ps = [0.2, 0.5, 0.3]\n",
    "# expected payoff\n",
    "mu_payoff=0\n",
    "for i in range(len(ps)):\n",
    "    mu_payoff += ps[i]*payoffs[i]\n",
    "print(f\"the expected payoff is ${mu_payoff:.2f}\")\n",
    "# expected profit\n",
    "purchase_price=50\n",
    "profit= mu_payoff-purchase_price\n",
    "print(f\"the expected profit is ${profit:.2f}\")       "
   ]
  },
  {
   "cell_type": "code",
   "execution_count": 3,
   "id": "76ccd033",
   "metadata": {},
   "outputs": [
    {
     "name": "stdout",
     "output_type": "stream",
     "text": [
      "John's expected payoff if playing once is $-0.26\n",
      "John's expected payoff if playing twice is $-0.53\n",
      "John's expected payoff if playing 35 times is $-9.21\n",
      "Casino's expected payoff if playing once is $0.26\n",
      "Casino's expected payoff if playing twice is $0.53\n",
      "Casino's expected payoff if playing 35 times is $9.21\n"
     ]
    }
   ],
   "source": [
    "# payoffs and the associated probabilities\n",
    "payoffs_John = [360, -10]\n",
    "payoffs_Casino = [-360, 10]\n",
    "ps = [1/38, 37/38]\n",
    "# expected payoffs\n",
    "mu_payoff_John=0\n",
    "mu_payoff_Casino=0\n",
    "for i in range(len(ps)):\n",
    "    mu_payoff_John += ps[i]*payoffs_John[i]\n",
    "    mu_payoff_Casino += ps[i]*payoffs_Casino[i]    \n",
    "# John's expected net payout\n",
    "payoff_John_twice = 2*mu_payoff_John\n",
    "payoff_John_35 = 35*mu_payoff_John\n",
    "print(f\"John's expected payoff if playing once is ${mu_payoff_John:.2f}\")\n",
    "print(f\"John's expected payoff if playing twice is ${payoff_John_twice:.2f}\")\n",
    "print(f\"John's expected payoff if playing 35 times is ${payoff_John_35:.2f}\")\n",
    "# Casino's expected net payout\n",
    "payoff_Casino_twice = 2*mu_payoff_Casino\n",
    "payoff_Casino_35 = 35*mu_payoff_Casino\n",
    "print(f\"Casino's expected payoff if playing once is ${mu_payoff_Casino:.2f}\")\n",
    "print(f\"Casino's expected payoff if playing twice is ${payoff_Casino_twice:.2f}\")\n",
    "print(f\"Casino's expected payoff if playing 35 times is ${payoff_Casino_35:.2f}\") \n"
   ]
  },
  {
   "cell_type": "code",
   "execution_count": 4,
   "id": "66a85738",
   "metadata": {},
   "outputs": [
    {
     "name": "stdout",
     "output_type": "stream",
     "text": [
      "The expected rate of return is 0.4\n",
      "The business risk for the pizza parlor is 0.6\n"
     ]
    }
   ],
   "source": [
    "import math\n",
    "returns = {1:0.5, -0.2:0.5}\n",
    "mu = 0\n",
    "var = 0\n",
    "std = 0\n",
    "for val, p in returns.items():\n",
    "    mu += val*p\n",
    "print(\"The expected rate of return is\", mu)\n",
    "for val, p in returns.items():\n",
    "    var += p*(val - mu)**2\n",
    "std = round(math.sqrt(var),2)\n",
    "print(\"The business risk for the pizza parlor is\", std)\n"
   ]
  },
  {
   "cell_type": "code",
   "execution_count": 5,
   "id": "1e987656",
   "metadata": {},
   "outputs": [
    {
     "name": "stdout",
     "output_type": "stream",
     "text": [
      "The expected rate of to the equity holder is 0.4875\n",
      "The risk to the business owner is 0.75\n"
     ]
    }
   ],
   "source": [
    "ret_equity = {1.2375:0.5, -0.2625:0.5}\n",
    "mu_equity = 0\n",
    "var_equity = 0\n",
    "std_equity = 0\n",
    "for val, p in ret_equity.items():\n",
    "    mu_equity += val*p\n",
    "print(\"The expected rate of to the equity holder is\", round(mu_equity,4))\n",
    "for val, p in ret_equity.items():\n",
    "    var_equity += p*(val - mu_equity)**2\n",
    "std_equity = round(math.sqrt(var_equity),4)\n",
    "print(\"The risk to the business owner is\", std_equity)\n"
   ]
  },
  {
   "cell_type": "code",
   "execution_count": 6,
   "id": "3d85d2d0",
   "metadata": {},
   "outputs": [
    {
     "name": "stdout",
     "output_type": "stream",
     "text": [
      "The expected exchange rate is 0.81 $/C$\n",
      "The risk to the computer manufacturer is 0.4899 m$\n"
     ]
    }
   ],
   "source": [
    "forex = {0.85:0.6, 0.75:0.4}\n",
    "mu_fx = 0\n",
    "var_fx = 0\n",
    "std_fx = 0\n",
    "for val, p in forex.items():\n",
    "    mu_fx += val*p\n",
    "print(\"The expected exchange rate is\", round(mu_fx,2),\"$/C$\")\n",
    "for val, p in forex.items():\n",
    "    var_fx += p*(val*10 - mu_fx*10)**2\n",
    "std_fx = round(math.sqrt(var_fx),4)\n",
    "print(\"The risk to the computer manufacturer is\", std_fx, \"m$\")\n"
   ]
  },
  {
   "cell_type": "code",
   "execution_count": 7,
   "id": "df8ccbbc",
   "metadata": {},
   "outputs": [],
   "source": []
  }
 ],
 "metadata": {
  "kernelspec": {
   "display_name": "Python 3 (ipykernel)",
   "language": "python",
   "name": "python3"
  },
  "language_info": {
   "codemirror_mode": {
    "name": "ipython",
    "version": 3
   },
   "file_extension": ".py",
   "mimetype": "text/x-python",
   "name": "python",
   "nbconvert_exporter": "python",
   "pygments_lexer": "ipython3",
   "version": "3.9.12"
  }
 },
 "nbformat": 4,
 "nbformat_minor": 5
}
