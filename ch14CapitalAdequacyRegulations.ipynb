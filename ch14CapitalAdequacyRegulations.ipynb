{
 "cells": [
  {
   "cell_type": "markdown",
   "id": "7a3a1c4d",
   "metadata": {},
   "source": [
    "# Chapter 14: Capital Adequacy Regulations and Basel Accords\n",
    "\n",
    "\n",
    "This chapter provides an in-depth overview of the Basel Accords, which are widely regarded as the cornerstone of banking capital and risk regulations. While the current regulatory framework is Basel III, the third installment of the Basel Accords, this chapter also examines Basel I and Basel II to offer a historical perspective. The chapter includes both the key quantitative measures of minimum capital requirements and the qualitative measures outlined in the Basel Accords.\n",
    "\n",
    "Chapter Objectives:\n",
    "\n",
    "1. Present an overview of the Basel Accords\n",
    "2. Discuss the regulatory framework under the Basel Accord's three-pillar approach, with a focus on Basel III\n",
    "3. Examine capital adequacy regulations for other financial institutions"
   ]
  },
  {
   "cell_type": "code",
   "execution_count": 1,
   "id": "618407c6",
   "metadata": {},
   "outputs": [
    {
     "name": "stdout",
     "output_type": "stream",
     "text": [
      "The credit risk weighted on-balance-sheet assets is 143.6 million dollars\n"
     ]
    }
   ],
   "source": [
    "assets = [10 + 15, 33, 64, 75, 20]\n",
    "weights = [0, 0.2, 0.5, 1, 1.5]\n",
    "RWA = 0\n",
    "TA = 0\n",
    "for i in range(len(assets)):\n",
    "    RWA += assets[i]*weights[i]\n",
    "    TA += assets[i]    \n",
    "print(f\"The credit risk weighted on-balance-sheet assets is {RWA} million dollars\") \n"
   ]
  },
  {
   "cell_type": "code",
   "execution_count": 2,
   "id": "7e9967f2",
   "metadata": {},
   "outputs": [
    {
     "name": "stdout",
     "output_type": "stream",
     "text": [
      "The bank’s Tier I capital ratio is 0.223\n",
      "The bank’s common equity Tier I capital ratio is 0.084\n",
      "The bank’s total risk-based capital ratio is 0.397\n",
      "The bank’s Tier I leverage ratio is 0.147\n"
     ]
    }
   ],
   "source": [
    "T1 = 7+5+20\n",
    "CET1 = 7+5\n",
    "CAP = 7+5+20+25\n",
    "\n",
    "# Calculate capital and leverage ratios\n",
    "R1 = T1/RWA\n",
    "R2 = CET1/RWA\n",
    "R3 = CAP/RWA\n",
    "R4 = T1/TA\n",
    "\n",
    "print(f\"The bank’s Tier I capital ratio is {R1:.3f}\")\n",
    "print(f\"The bank’s common equity Tier I capital ratio is {R2:.3f}\")\n",
    "print(f\"The bank’s total risk-based capital ratio is {R3:.3f}\")\n",
    "print(f\"The bank’s Tier I leverage ratio is {R4:.3f}\")\n"
   ]
  },
  {
   "cell_type": "code",
   "execution_count": 3,
   "id": "2174f600",
   "metadata": {},
   "outputs": [
    {
     "name": "stdout",
     "output_type": "stream",
     "text": [
      "The required capital is $40000.00\n"
     ]
    }
   ],
   "source": [
    "LoC_amout=1000000\n",
    "CCF=0.5\n",
    "credit_equivalent_amount=LoC_amout*CCF\n",
    "risk_weight=1.0\n",
    "required_capital_ratio=0.08\n",
    "required_capital=required_capital_ratio* \\\n",
    "   credit_equivalent_amount*risk_weight \n",
    "print(f\"The required capital is ${required_capital:.2f}\")\n"
   ]
  },
  {
   "cell_type": "code",
   "execution_count": null,
   "id": "07fbe7c1",
   "metadata": {},
   "outputs": [],
   "source": []
  }
 ],
 "metadata": {
  "kernelspec": {
   "display_name": "Python 3 (ipykernel)",
   "language": "python",
   "name": "python3"
  },
  "language_info": {
   "codemirror_mode": {
    "name": "ipython",
    "version": 3
   },
   "file_extension": ".py",
   "mimetype": "text/x-python",
   "name": "python",
   "nbconvert_exporter": "python",
   "pygments_lexer": "ipython3",
   "version": "3.9.12"
  }
 },
 "nbformat": 4,
 "nbformat_minor": 5
}
