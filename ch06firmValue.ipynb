{
 "cells": [
  {
   "cell_type": "markdown",
   "metadata": {},
   "source": [
    "# Chapter 6: Risk Management and Firm Value"
   ]
  },
  {
   "cell_type": "code",
   "execution_count": 1,
   "metadata": {},
   "outputs": [
    {
     "name": "stdout",
     "output_type": "stream",
     "text": [
      "Requirement already satisfied: numpy_financial in c:\\users\\hlliu2\\anaconda3\\lib\\site-packages (1.0.0)\n",
      "Requirement already satisfied: numpy>=1.15 in c:\\users\\hlliu2\\anaconda3\\lib\\site-packages (from numpy_financial) (1.18.1)\n"
     ]
    }
   ],
   "source": [
    "! pip install numpy_financial"
   ]
  },
  {
   "cell_type": "code",
   "execution_count": 2,
   "metadata": {},
   "outputs": [
    {
     "name": "stdout",
     "output_type": "stream",
     "text": [
      "the firm value is 73.03 million dollars\n"
     ]
    }
   ],
   "source": [
    "cfs = [0, 20, 30, 40]\n",
    "V = 0\n",
    "R = 0.1\n",
    "for i in range(len(cfs)):\n",
    "    V += cfs[i]/((1+R)**i)\n",
    "V = round(V,2)\n",
    "print(f\"the firm value is {V} million dollars\")    "
   ]
  },
  {
   "cell_type": "code",
   "execution_count": 3,
   "metadata": {},
   "outputs": [
    {
     "name": "stdout",
     "output_type": "stream",
     "text": [
      "the firm value is 73.03 million dollars\n"
     ]
    }
   ],
   "source": [
    "import numpy_financial as np\n",
    "\n",
    "V = np.npv(R, cfs)\n",
    "V = round(V,2)\n",
    "print(f\"the firm value is {V} million dollars\")    "
   ]
  },
  {
   "cell_type": "code",
   "execution_count": 4,
   "metadata": {},
   "outputs": [
    {
     "name": "stdout",
     "output_type": "stream",
     "text": [
      "the firm value is 8.0 million dollars\n"
     ]
    }
   ],
   "source": [
    "cf1 = {10:0.8, (10-6):0.2}\n",
    "expected_cf1 = 0\n",
    "for cf, p in cf1.items():\n",
    "    expected_cf1 += p*cf\n",
    "V = np.npv(R, [0,expected_cf1])\n",
    "V = round(V,2)\n",
    "print(f\"the firm value is {V} million dollars\") "
   ]
  },
  {
   "cell_type": "code",
   "execution_count": 2,
   "metadata": {},
   "outputs": [
    {
     "name": "stdout",
     "output_type": "stream",
     "text": [
      "the firm value is 15.27 million dollars\n"
     ]
    }
   ],
   "source": [
    "import numpy_financial as np\n",
    "cf1 = {10:0.8, (10-6):0.2}\n",
    "expected_cf1 = 0\n",
    "R = 0.1\n",
    "for cf, p in cf1.items():\n",
    "    expected_cf1 += p*cf\n",
    "V = np.npv(R, [0,expected_cf1,expected_cf1])\n",
    "V = round(V,2)\n",
    "print(f\"the firm value is {V} million dollars\") "
   ]
  },
  {
   "cell_type": "code",
   "execution_count": 5,
   "metadata": {},
   "outputs": [
    {
     "name": "stdout",
     "output_type": "stream",
     "text": [
      "the expected loss from the fire is 5.0 million dollars\n",
      "the standard deviation of the loss is 21.79 million dollars\n",
      "reserve amount without risk management is 37.69 million dollars\n"
     ]
    }
   ],
   "source": [
    "import math\n",
    "\n",
    "fire_loss = {0:0.95, 100:0.05}\n",
    "mu = 0\n",
    "var = 0\n",
    "std = 0\n",
    "for loss, p in fire_loss.items():\n",
    "    mu += loss*p  \n",
    "print(f\"the expected loss from the fire is {mu} million dollars\")  \n",
    "for loss, p in fire_loss.items():\n",
    "    var += p*(loss - mu)**2  \n",
    "std = round(math.sqrt(var),2)\n",
    "print(f\"the standard deviation of the loss is {std} million dollars\")  \n",
    "reserve = round(mu + 1.5*std, 2)\n",
    "print(f\"reserve amount without risk management is {reserve} million dollars\")    "
   ]
  },
  {
   "cell_type": "code",
   "execution_count": 6,
   "metadata": {},
   "outputs": [
    {
     "name": "stdout",
     "output_type": "stream",
     "text": [
      "the expected wage cost without insurance is 85000.0\n",
      "the expected wage cost with insurance is 71500.0\n",
      "the increase in cash flow due to risk management is 13500.0\n"
     ]
    }
   ],
   "source": [
    "wages = {100000:0.85, 0:0.15}\n",
    "wages_insured = {70000:0.85, 0:0.15}\n",
    "insurance = 12000\n",
    "\n",
    "expected_wage = 0\n",
    "for wage, p in wages.items():\n",
    "    expected_wage += wage*p \n",
    "expected_wage_insured = 0\n",
    "for wage, p in wages_insured.items():\n",
    "    expected_wage_insured += wage*p \n",
    "print(f\"the expected wage cost without insurance is {expected_wage}\")\n",
    "cost_insured = expected_wage_insured+insurance\n",
    "print(f\"the expected wage cost with insurance is {cost_insured}\")  \n",
    "increased_cf = expected_wage - cost_insured\n",
    "print(f\"the increase in cash flow due to risk management is {increased_cf}\")  "
   ]
  },
  {
   "cell_type": "code",
   "execution_count": 7,
   "metadata": {},
   "outputs": [
    {
     "name": "stdout",
     "output_type": "stream",
     "text": [
      "the gain from risk management is 5.0 million dollars\n"
     ]
    }
   ],
   "source": [
    "value = {600:0.9, 0:0.1}\n",
    "value_insured = 600\n",
    "tangible_assets = 500\n",
    "expected_value = 0\n",
    "for v, p in value.items():\n",
    "    expected_value += v*p \n",
    "loading = 0.1\n",
    "premium = tangible_assets*0.1*(1+loading)\n",
    "gain = value_insured - premium - expected_value\n",
    "print(f\"the gain from risk management is {gain} million dollars\")"
   ]
  },
  {
   "cell_type": "code",
   "execution_count": 8,
   "metadata": {},
   "outputs": [
    {
     "name": "stdout",
     "output_type": "stream",
     "text": [
      "the gain from risk management with high loading is -5.0 million dollars\n"
     ]
    }
   ],
   "source": [
    "high_loading = 0.3\n",
    "high_premium = tangible_assets*0.1*(1+high_loading)\n",
    "gain_high_premium = value_insured - high_premium - expected_value\n",
    "print(f\"the gain from risk management with high loading is {gain_high_premium} million dollars\")"
   ]
  },
  {
   "cell_type": "code",
   "execution_count": 9,
   "metadata": {},
   "outputs": [
    {
     "name": "stdout",
     "output_type": "stream",
     "text": [
      "expected tax without hedging is 1.1 million dollars\n",
      "expected after-tax income without hedging is 4.9 million dollars\n",
      "total tax with hedging is 0.9 million dollars\n",
      "tax savings due to risk management is 0.2 million dollars\n",
      "expected after-tax income with hedging is 5.1 million dollars\n"
     ]
    }
   ],
   "source": [
    "def total_tax(amount):\n",
    "    if 0<= amount <= 3:\n",
    "        return amount*0.1\n",
    "    elif 3<amount<=7:\n",
    "        return 3*0.1+(amount-3)*0.2\n",
    "    elif 7<amount<=12:\n",
    "        return 3*0.1+(7-3)*0.2+(amount-7)*0.3\n",
    "    else:\n",
    "        print(\"no a valid amount\")\n",
    "        \n",
    "income = {2:0.5, 10:0.5}\n",
    "expected_income = 0\n",
    "expected_tax = 0\n",
    "for v, p in income.items():\n",
    "    expected_income += p*v \n",
    "    expected_tax += p*total_tax(v) \n",
    "print(f\"expected tax without hedging is {expected_tax} million dollars\")  \n",
    "print(f\"expected after-tax income without hedging is {expected_income-expected_tax} million dollars\")  \n",
    "total_tax_hedged = round(total_tax(expected_income),4)\n",
    "print(f\"total tax with hedging is {total_tax_hedged} million dollars\")  \n",
    "tax_savings = round(expected_tax - total_tax_hedged, 4)\n",
    "print(f\"tax savings due to risk management is {tax_savings} million dollars\")   \n",
    "print(f\"expected after-tax income with hedging is {expected_income-total_tax_hedged} million dollars\")  "
   ]
  },
  {
   "cell_type": "code",
   "execution_count": null,
   "metadata": {},
   "outputs": [],
   "source": []
  }
 ],
 "metadata": {
  "kernelspec": {
   "display_name": "Python 3 (ipykernel)",
   "language": "python",
   "name": "python3"
  },
  "language_info": {
   "codemirror_mode": {
    "name": "ipython",
    "version": 3
   },
   "file_extension": ".py",
   "mimetype": "text/x-python",
   "name": "python",
   "nbconvert_exporter": "python",
   "pygments_lexer": "ipython3",
   "version": "3.11.3"
  }
 },
 "nbformat": 4,
 "nbformat_minor": 4
}
