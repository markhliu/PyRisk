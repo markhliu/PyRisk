{
 "cells": [
  {
   "cell_type": "markdown",
   "id": "008ead62",
   "metadata": {},
   "source": [
    "# Chapter 1: Measuring Risk\n",
    "\n",
    "\n",
    "In this chapter, we begin by defining the concept of risk, followed by an overview of fundamental statistical concepts relevant to measuring risk. You will learn how to quantify risk using random variables, comprehend the critical attributes of risk distributions, e.g., variance, semi-variance, skewness, and value of risk, and examine how risk management strategies can modify the level of risk. Practical exercises and examples are provided, utilizing the Python programming language.\n",
    " \n",
    "Chapter Objectives:\n",
    "\n",
    "1. Define the concept of risk\n",
    "2. Quantify risk using random variables\n",
    "3. Identify key characteristics of a distribution\n",
    "4. Describe how risk management influences a distribution"
   ]
  },
  {
   "cell_type": "code",
   "execution_count": 1,
   "id": "31deb0fb",
   "metadata": {},
   "outputs": [
    {
     "name": "stdout",
     "output_type": "stream",
     "text": [
      "The probability that startup stays solvent is 0.15\n"
     ]
    }
   ],
   "source": [
    "p1 = 0.01\n",
    "p2 = 0.02\n",
    "p3 = 0.05\n",
    "p4 = 0.07\n",
    "p = p1 + p2 + p3 + p4\n",
    "print('The probability that startup stays solvent is', round(p, 2))"
   ]
  },
  {
   "cell_type": "code",
   "execution_count": 2,
   "id": "efa72ed3",
   "metadata": {},
   "outputs": [
    {
     "name": "stdout",
     "output_type": "stream",
     "text": [
      "0.5\n"
     ]
    }
   ],
   "source": [
    "prob = {1:1/6, 2:1/6, 3:1/6, 4:1/6, 5:1/6, 6:1/6}\n",
    "cdf = 0\n",
    "for i in prob.keys():\n",
    "    if i<=3:\n",
    "        cdf += prob[i]\n",
    "print(cdf)            "
   ]
  },
  {
   "cell_type": "code",
   "execution_count": 3,
   "id": "2d74c401",
   "metadata": {},
   "outputs": [
    {
     "name": "stdout",
     "output_type": "stream",
     "text": [
      "0.333\n"
     ]
    }
   ],
   "source": [
    "prob = {1:1/6, 2:1/6, 3:1/6, 4:1/6, 5:1/6, 6:1/6}\n",
    "cdf3_4 = 0\n",
    "for i in prob.keys():\n",
    "    if i>2 and i<5:\n",
    "        cdf3_4 += prob[i]\n",
    "print(round(cdf3_4,3))          "
   ]
  },
  {
   "cell_type": "code",
   "execution_count": 4,
   "id": "beafe46d",
   "metadata": {},
   "outputs": [
    {
     "name": "stdout",
     "output_type": "stream",
     "text": [
      "The probability of X falling between −1 and 1 is 0.683\n"
     ]
    }
   ],
   "source": [
    "#!pip install scipy\n",
    "import scipy\n",
    "x1=-1\n",
    "x2=1\n",
    "y1 = scipy.stats.norm.cdf(x1)\n",
    "y2 = scipy.stats.norm.cdf(x2)\n",
    "cdf = y2-y1\n",
    "print('The probability of X falling between −1 and 1 is', round(cdf,3))"
   ]
  },
  {
   "cell_type": "code",
   "execution_count": 5,
   "id": "883a8646",
   "metadata": {},
   "outputs": [
    {
     "name": "stdout",
     "output_type": "stream",
     "text": [
      "0.0\n",
      "1.6448536269514722\n"
     ]
    }
   ],
   "source": [
    "from scipy.stats import norm\n",
    "print(norm.ppf(0.5))\n",
    "print(norm.ppf(0.95))"
   ]
  },
  {
   "cell_type": "code",
   "execution_count": 6,
   "id": "4c28d8d6",
   "metadata": {},
   "outputs": [
    {
     "name": "stdout",
     "output_type": "stream",
     "text": [
      "720.0\n"
     ]
    }
   ],
   "source": [
    "payoffs = {20000:0.01, 10000:0.02, 5000:0.05, 1000:0.07, 0:0.85}\n",
    "mu1 = 0\n",
    "for payoff, p in payoffs.items():\n",
    "    mu1 += p*payoff\n",
    "print(mu1)"
   ]
  },
  {
   "cell_type": "code",
   "execution_count": 7,
   "id": "7426c359",
   "metadata": {},
   "outputs": [
    {
     "name": "stdout",
     "output_type": "stream",
     "text": [
      "150.0\n"
     ]
    }
   ],
   "source": [
    "payoffs_debt = {1000:0.15, 0:0.85}\n",
    "mu2 = 0\n",
    "for payoff, p in payoffs_debt.items():\n",
    "    mu2 += payoff*p\n",
    "print(mu2)"
   ]
  },
  {
   "cell_type": "code",
   "execution_count": 8,
   "id": "1fde0ef7",
   "metadata": {},
   "outputs": [
    {
     "name": "stdout",
     "output_type": "stream",
     "text": [
      "The variance of payoff to equity is 6801600.0\n",
      "The standard deviation of payoff to equity is 2607.99\n"
     ]
    }
   ],
   "source": [
    "import math\n",
    "mu1 = 0\n",
    "for payoff, p in payoffs.items():\n",
    "  mu1 += p*payoff\n",
    "var1 = 0\n",
    "for payoff, p in payoffs.items():\n",
    "    var1 += p*(payoff - mu1)**2\n",
    "print(\"The variance of payoff to equity is\", round(var1,2))\n",
    "std1 = math.sqrt(var1)\n",
    "print(\"The standard deviation of payoff to equity is\", round(std1,2))"
   ]
  },
  {
   "cell_type": "code",
   "execution_count": 9,
   "id": "e3895c5f",
   "metadata": {},
   "outputs": [
    {
     "name": "stdout",
     "output_type": "stream",
     "text": [
      "The variance of payoff to debt is 127500.0\n",
      "The standard deviation of payoff to debt is 357.07\n"
     ]
    }
   ],
   "source": [
    "var2 = 0\n",
    "for payoff, p in payoffs_debt.items():\n",
    "    var2 += p*(payoff - mu2)**2\n",
    "print(\"The variance of payoff to debt is\", round(var2,2)) \n",
    "std2 = math.sqrt(var2)\n",
    "print(\"The standard deviation of payoff to debt is\", round(std2,2))"
   ]
  },
  {
   "cell_type": "code",
   "execution_count": 10,
   "id": "720c2673",
   "metadata": {},
   "outputs": [
    {
     "name": "stdout",
     "output_type": "stream",
     "text": [
      "The positive semivariance of payoff to equity is 6360960.0\n",
      "The negative semivariance of payoff to equity is 440640.0\n"
     ]
    }
   ],
   "source": [
    "posi_semi_var1 = 0\n",
    "nega_semi_var1 = 0\n",
    "for payoff, p in payoffs.items():\n",
    "    if payoff > mu1:\n",
    "        posi_semi_var1 += p*(payoff - mu1)**2\n",
    "    else:\n",
    "        nega_semi_var1 += p*(payoff - mu1)**2\n",
    "print(\"The positive semivariance of payoff to equity is\", posi_semi_var1)\n",
    "print(\"The negative semivariance of payoff to equity is\", nega_semi_var1)"
   ]
  },
  {
   "cell_type": "code",
   "execution_count": 11,
   "id": "cfa8588f",
   "metadata": {},
   "outputs": [
    {
     "name": "stdout",
     "output_type": "stream",
     "text": [
      "The skewness of payoff to equity is 5.14\n"
     ]
    }
   ],
   "source": [
    "skew1 = 0\n",
    "for payoff, p in payoffs.items():\n",
    "    skew1 += p*((payoff - mu1)/std1)**3\n",
    "print(\"The skewness of payoff to equity is\", round(skew1,2))"
   ]
  },
  {
   "cell_type": "code",
   "execution_count": 12,
   "id": "5740463c",
   "metadata": {},
   "outputs": [
    {
     "name": "stdout",
     "output_type": "stream",
     "text": [
      "The skewness of payoff to debt is 1.96\n"
     ]
    }
   ],
   "source": [
    "skew2 = 0\n",
    "for payoff, p in payoffs_debt.items():\n",
    "    skew2 += p*((payoff - mu2)/std2)**3\n",
    "print(\"The skewness of payoff to debt is\", round(skew2,2))"
   ]
  },
  {
   "cell_type": "code",
   "execution_count": 13,
   "id": "f4f75ae7",
   "metadata": {},
   "outputs": [
    {
     "name": "stdout",
     "output_type": "stream",
     "text": [
      "The kurtosis of payoff to equity is 33.44\n"
     ]
    }
   ],
   "source": [
    "kurtosis1 = 0\n",
    "for payoff, p in payoffs.items():\n",
    "    kurtosis1 += p*((payoff - mu1)/std1)**4\n",
    "print(\"The kurtosis of payoff to equity is\", round(kurtosis1,2))"
   ]
  },
  {
   "cell_type": "code",
   "execution_count": 14,
   "id": "82670cc0",
   "metadata": {},
   "outputs": [
    {
     "name": "stdout",
     "output_type": "stream",
     "text": [
      "The kurtosis of payoff to debt is 4.84\n"
     ]
    }
   ],
   "source": [
    "kurtosis2 = 0\n",
    "for payoff, p in payoffs_debt.items():\n",
    "    kurtosis2 += p*((payoff - mu2)/std2)**4\n",
    "print(\"The kurtosis of payoff to debt is\", round(kurtosis2,2))"
   ]
  },
  {
   "cell_type": "code",
   "execution_count": 15,
   "id": "fd61c842",
   "metadata": {},
   "outputs": [
    {
     "name": "stdout",
     "output_type": "stream",
     "text": [
      "2.3263478740408408\n"
     ]
    }
   ],
   "source": [
    "import scipy.stats as stat\n",
    "print(stat.norm.ppf(.99))"
   ]
  },
  {
   "cell_type": "code",
   "execution_count": 16,
   "id": "fb8a24eb",
   "metadata": {},
   "outputs": [
    {
     "name": "stdout",
     "output_type": "stream",
     "text": [
      "2.3263478740408408\n"
     ]
    }
   ],
   "source": [
    "import scipy.stats as stat\n",
    "print(stat.norm.ppf(.99))"
   ]
  },
  {
   "cell_type": "code",
   "execution_count": 17,
   "id": "a5224e12",
   "metadata": {},
   "outputs": [],
   "source": []
  }
 ],
 "metadata": {
  "kernelspec": {
   "display_name": "Python 3 (ipykernel)",
   "language": "python",
   "name": "python3"
  },
  "language_info": {
   "codemirror_mode": {
    "name": "ipython",
    "version": 3
   },
   "file_extension": ".py",
   "mimetype": "text/x-python",
   "name": "python",
   "nbconvert_exporter": "python",
   "pygments_lexer": "ipython3",
   "version": "3.9.12"
  }
 },
 "nbformat": 4,
 "nbformat_minor": 5
}
