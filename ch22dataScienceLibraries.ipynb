{
 "cells": [
  {
   "cell_type": "markdown",
   "metadata": {},
   "source": [
    "# Chapter 22: Python Data Science Libraries "
   ]
  },
  {
   "cell_type": "code",
   "execution_count": 41,
   "metadata": {},
   "outputs": [],
   "source": [
    "GMAT = [550, 640, 710, 590, 560, 585, 720, 660, 600, 610,\n",
    "        570, 580, 630, 690, 675]"
   ]
  },
  {
   "cell_type": "code",
   "execution_count": 42,
   "metadata": {},
   "outputs": [
    {
     "name": "stdout",
     "output_type": "stream",
     "text": [
      "the number of students who scored above 650 is 5\n"
     ]
    }
   ],
   "source": [
    "num = 0\n",
    "for score in GMAT:\n",
    "    if score > 650:\n",
    "        num += 1\n",
    "print(\"the number of students who scored above 650 is\", num)"
   ]
  },
  {
   "cell_type": "code",
   "execution_count": 43,
   "metadata": {},
   "outputs": [
    {
     "name": "stdout",
     "output_type": "stream",
     "text": [
      "5\n"
     ]
    }
   ],
   "source": [
    "import numpy as np #1\n",
    "\n",
    "GMAT = [550, 640, 710, 590, 560, 585, 720, 660, 600, 610,\n",
    "        570, 580, 630, 690, 675] #2\n",
    "GMAT_arr = np.array(GMAT) #3\n",
    "print((GMAT_arr>650).sum()) #4"
   ]
  },
  {
   "cell_type": "code",
   "execution_count": 44,
   "metadata": {},
   "outputs": [
    {
     "name": "stdout",
     "output_type": "stream",
     "text": [
      "30\n",
      "(30,)\n",
      "[[550.   640.   710.   590.   560.   585.   720.   660.   600.   610.\n",
      "  570.   580.   630.   690.   675.  ]\n",
      " [  3.     3.12   3.14   3.56   3.33   3.1    3.78   3.94   4.     3.66\n",
      "    3.45   3.88   3.92   3.03   3.22]]\n",
      "(2, 15)\n"
     ]
    }
   ],
   "source": [
    "GPA = [3.0, 3.12, 3.14, 3.56, 3.33, 3.10, 3.78, 3.94, 4.0,\n",
    "        3.66, 3.45, 3.88, 3.92, 3.03, 3.22] #1\n",
    "GMAT_GPA = GMAT + GPA #2\n",
    "GMAT_GPA_arr = np.array(GMAT_GPA)\n",
    "print(GMAT_GPA_arr.size) #3\n",
    "print(GMAT_GPA_arr.shape)\n",
    "\n",
    "GMAT_GPA_arr=GMAT_GPA_arr.reshape((2,15)) #4\n",
    "print(GMAT_GPA_arr)\n",
    "print(GMAT_GPA_arr.shape)"
   ]
  },
  {
   "cell_type": "code",
   "execution_count": 45,
   "metadata": {},
   "outputs": [
    {
     "name": "stdout",
     "output_type": "stream",
     "text": [
      "560\n"
     ]
    }
   ],
   "source": [
    "print(GMAT_arr[4])"
   ]
  },
  {
   "cell_type": "code",
   "execution_count": 46,
   "metadata": {},
   "outputs": [
    {
     "name": "stdout",
     "output_type": "stream",
     "text": [
      "3.66\n"
     ]
    }
   ],
   "source": [
    "print(GMAT_GPA_arr[1,9])"
   ]
  },
  {
   "cell_type": "code",
   "execution_count": 47,
   "metadata": {},
   "outputs": [
    {
     "name": "stdout",
     "output_type": "stream",
     "text": [
      "the GMAT scores of the first two students are [550. 640.]\n",
      "the GPAs of the last three students are [3.92 3.03 3.22]\n",
      "the GMAT score and GPA of the sixth student are [585.    3.1]\n"
     ]
    }
   ],
   "source": [
    "print(\"the GMAT scores of the first two students are\", GMAT_GPA_arr[0, 0:2])\n",
    "print(\"the GPAs of the last three students are\", GMAT_GPA_arr[1, -3:])\n",
    "print(\"the GMAT score and GPA of the sixth student are\", GMAT_GPA_arr[:, 5])"
   ]
  },
  {
   "cell_type": "code",
   "execution_count": 49,
   "metadata": {},
   "outputs": [
    {
     "name": "stdout",
     "output_type": "stream",
     "text": [
      "the average GMAT score of all students is 624.6666666666666\n",
      "the average GPA of all students is 3.4753333333333334\n"
     ]
    }
   ],
   "source": [
    "print(\"the average GMAT score of all students is\", GMAT_GPA_arr[0, :].mean())\n",
    "print(\"the average GPA of all students is\", GMAT_GPA_arr[1, :].mean())"
   ]
  },
  {
   "cell_type": "code",
   "execution_count": 50,
   "metadata": {},
   "outputs": [
    {
     "name": "stdout",
     "output_type": "stream",
     "text": [
      "the sum of GMAT score of all students is 9370.0\n",
      "the lowest GMAT score of all students is 550.0\n",
      "the highest GPA of all students is 4.0\n"
     ]
    }
   ],
   "source": [
    "print(\"the sum of GMAT score of all students is\", GMAT_GPA_arr[0, :].sum())\n",
    "print(\"the lowest GMAT score of all students is\", GMAT_GPA_arr[0, :].min())\n",
    "print(\"the highest GPA of all students is\", GMAT_GPA_arr[1, :].max())"
   ]
  },
  {
   "cell_type": "code",
   "execution_count": 51,
   "metadata": {},
   "outputs": [
    {
     "name": "stdout",
     "output_type": "stream",
     "text": [
      "the index of the lowest GMAT score is 0\n",
      "the index of the highest GPA is 8\n"
     ]
    }
   ],
   "source": [
    "print(\"the index of the lowest GMAT score is\", GMAT_GPA_arr[0, :].argmin())\n",
    "print(\"the index of the highest GPA is\", GMAT_GPA_arr[1, :].argmax())"
   ]
  },
  {
   "cell_type": "code",
   "execution_count": 52,
   "metadata": {},
   "outputs": [
    {
     "name": "stdout",
     "output_type": "stream",
     "text": [
      "the 5th percentile value of GMAT scores is 557.0\n",
      "the median value of GMAT scores is 610.0\n",
      "the median value of GPAs is 3.45\n",
      "the 90th percentile value of GPSs is 3.932\n"
     ]
    }
   ],
   "source": [
    "print(\"the 5th percentile value of GMAT scores is\", np.percentile(GMAT_GPA_arr[0, :], 5))\n",
    "print(\"the median value of GMAT scores is\", np.percentile(GMAT_GPA_arr[0, :], 50))\n",
    "print(\"the median value of GPAs is\", np.percentile(GMAT_GPA_arr[1, :], 50))\n",
    "print(\"the 90th percentile value of GPSs is\", np.percentile(GMAT_GPA_arr[1, :], 90))"
   ]
  },
  {
   "cell_type": "code",
   "execution_count": 53,
   "metadata": {},
   "outputs": [
    {
     "name": "stdout",
     "output_type": "stream",
     "text": [
      "[ True False False  True  True  True False False  True False  True  True\n",
      " False False False]\n",
      "[False False False False False False False False  True False False False\n",
      " False False False]\n",
      "number of GMAT scores below or equal to 600 is 7\n",
      "number of 4.0 GPA is 1\n"
     ]
    }
   ],
   "source": [
    "mask1 = (GMAT_GPA_arr[0, :]<=600)\n",
    "mask2 = (GMAT_GPA_arr[1, :]==4.0)\n",
    "print(mask1)\n",
    "print(mask2)\n",
    "print(\"number of GMAT scores below or equal to 600 is\", mask1.sum())\n",
    "print(\"number of 4.0 GPA is\", mask2.sum())"
   ]
  },
  {
   "cell_type": "code",
   "execution_count": 54,
   "metadata": {},
   "outputs": [
    {
     "name": "stdout",
     "output_type": "stream",
     "text": [
      "James Smith        550\n",
      "Michael Smith      640\n",
      "Maria Garcia       710\n",
      "David Smith        590\n",
      "Maria Rodriguez    560\n",
      "Mary Smith         585\n",
      "Maria Hernandez    720\n",
      "Maria Martinez     660\n",
      "James Johnson      600\n",
      "Mary Liu           610\n",
      "Gloria Zhang       570\n",
      "Raj Gupta          580\n",
      "Anna Ivanov        630\n",
      "Ali Sayed          690\n",
      "Lakisha Jones      675\n",
      "dtype: int64\n"
     ]
    }
   ],
   "source": [
    "import pandas as pd\n",
    "\n",
    "names = [\"James Smith\",\"Michael Smith\",\"Maria Garcia\",\"David Smith\",\n",
    "         \"Maria Rodriguez\",\"Mary Smith\",\"Maria Hernandez\",\"Maria Martinez\",\n",
    "         \"James Johnson\",\"Mary Liu\",\"Gloria Zhang\",\"Raj Gupta\",\"Anna Ivanov\",\n",
    "         \"Ali Sayed\",\"Lakisha Jones\"]\n",
    "\n",
    "GMAT = [550, 640, 710, 590, 560, 585, 720, 660, 600, 610,\n",
    "        570, 580, 630, 690, 675]\n",
    "\n",
    "GMAT_series = pd.Series(data=GMAT, index=names)\n",
    "print(GMAT_series) "
   ]
  },
  {
   "cell_type": "code",
   "execution_count": 55,
   "metadata": {},
   "outputs": [
    {
     "name": "stdout",
     "output_type": "stream",
     "text": [
      "the GMAT score of David Smith is 590\n",
      "the GMAT score of Anna Ivanov is 630\n"
     ]
    }
   ],
   "source": [
    "print (\"the GMAT score of David Smith is\", GMAT_series[\"David Smith\"])\n",
    "print(\"the GMAT score of Anna Ivanov is\", GMAT_series[\"Anna Ivanov\"]) "
   ]
  },
  {
   "cell_type": "code",
   "execution_count": 56,
   "metadata": {},
   "outputs": [
    {
     "name": "stdout",
     "output_type": "stream",
     "text": [
      "                 GMAT_score  GPAs\n",
      "James Smith             550  3.00\n",
      "Michael Smith           640  3.12\n",
      "Maria Garcia            710  3.14\n",
      "David Smith             590  3.56\n",
      "Maria Rodriguez         560  3.33\n",
      "Mary Smith              585  3.10\n",
      "Maria Hernandez         720  3.78\n",
      "Maria Martinez          660  3.94\n",
      "James Johnson           600  4.00\n",
      "Mary Liu                610  3.66\n",
      "Gloria Zhang            570  3.45\n",
      "Raj Gupta               580  3.88\n",
      "Anna Ivanov             630  3.92\n",
      "Ali Sayed               690  3.03\n",
      "Lakisha Jones           675  3.22\n"
     ]
    }
   ],
   "source": [
    "GPA = [3.0, 3.12, 3.14, 3.56, 3.33, 3.10, 3.78, 3.94, 4.0,\n",
    "        3.66, 3.45, 3.88, 3.92, 3.03, 3.22]\n",
    "\n",
    "dataset = {\"GMAT_score\":GMAT, \"GPAs\":GPA}\n",
    "\n",
    "df = pd.DataFrame(data=dataset, index=names)\n",
    "print(df) "
   ]
  },
  {
   "cell_type": "code",
   "execution_count": 57,
   "metadata": {},
   "outputs": [
    {
     "name": "stdout",
     "output_type": "stream",
     "text": [
      "James Smith        550\n",
      "Michael Smith      640\n",
      "Maria Garcia       710\n",
      "David Smith        590\n",
      "Maria Rodriguez    560\n",
      "Mary Smith         585\n",
      "Maria Hernandez    720\n",
      "Maria Martinez     660\n",
      "James Johnson      600\n",
      "Mary Liu           610\n",
      "Gloria Zhang       570\n",
      "Raj Gupta          580\n",
      "Anna Ivanov        630\n",
      "Ali Sayed          690\n",
      "Lakisha Jones      675\n",
      "Name: GMAT_score, dtype: int64\n",
      "the GMAT score of Maria Garcia is 710\n"
     ]
    }
   ],
   "source": [
    "print(df[\"GMAT_score\"])\n",
    "print(\"the GMAT score of Maria Garcia is\", df[\"GMAT_score\"][\"Maria Garcia\"]) "
   ]
  },
  {
   "cell_type": "code",
   "execution_count": 58,
   "metadata": {},
   "outputs": [
    {
     "name": "stdout",
     "output_type": "stream",
     "text": [
      "the GPA of Ali Sayed is 3.03\n"
     ]
    }
   ],
   "source": [
    "print(\"the GPA of Ali Sayed is\", df.at[\"Ali Sayed\",\"GPAs\"])"
   ]
  },
  {
   "cell_type": "code",
   "execution_count": 59,
   "metadata": {},
   "outputs": [
    {
     "name": "stdout",
     "output_type": "stream",
     "text": [
      "the GMAT score and GPA of Gloria Zhang is\n",
      " GMAT_score    570.00\n",
      "GPAs            3.45\n",
      "Name: Gloria Zhang, dtype: float64\n"
     ]
    }
   ],
   "source": [
    "print(\"the GMAT score and GPA of Gloria Zhang is\\n\", df.loc[\"Gloria Zhang\"])"
   ]
  }
 ],
 "metadata": {
  "kernelspec": {
   "display_name": "Python 3 (ipykernel)",
   "language": "python",
   "name": "python3"
  },
  "language_info": {
   "codemirror_mode": {
    "name": "ipython",
    "version": 3
   },
   "file_extension": ".py",
   "mimetype": "text/x-python",
   "name": "python",
   "nbconvert_exporter": "python",
   "pygments_lexer": "ipython3",
   "version": "3.11.3"
  }
 },
 "nbformat": 4,
 "nbformat_minor": 4
}
