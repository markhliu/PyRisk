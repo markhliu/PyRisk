{
 "cells": [
  {
   "cell_type": "markdown",
   "metadata": {},
   "source": [
    "# Chapter 15: Bond and Stock Valuation Models"
   ]
  },
  {
   "cell_type": "code",
   "execution_count": 1,
   "metadata": {},
   "outputs": [
    {
     "name": "stdout",
     "output_type": "stream",
     "text": [
      "Requirement already satisfied: numpy_financial in c:\\users\\hlliu2\\anaconda3\\envs\\chat\\lib\\site-packages (1.0.0)\n",
      "Requirement already satisfied: numpy>=1.15 in c:\\users\\hlliu2\\anaconda3\\envs\\chat\\lib\\site-packages (from numpy_financial) (1.19.5)\n"
     ]
    }
   ],
   "source": [
    "!pip install numpy_financial"
   ]
  },
  {
   "cell_type": "code",
   "execution_count": 3,
   "metadata": {},
   "outputs": [
    {
     "name": "stdout",
     "output_type": "stream",
     "text": [
      "future value based on numpy_financial is 17908.476965428545\n"
     ]
    }
   ],
   "source": [
    "# Import the numpy_financial package\n",
    "import numpy_financial as npf\n",
    "\n",
    "# Initial investment or present value\n",
    "pv0 = 10000 \n",
    "# Annual rate of interest\n",
    "r = 0.06 \n",
    "# Recurring payment towards investment \n",
    "pmt = 0  \n",
    "# Number of periods till maturity\n",
    "n = 10  \n",
    "\n",
    "# Use the fv function from numpy_financial\n",
    "fv10_npf = npf.fv(r, n, pmt, -pv0, 0)\n",
    "# Print out results\n",
    "print('future value based on numpy_financial is', fv10_npf)"
   ]
  },
  {
   "cell_type": "code",
   "execution_count": 4,
   "metadata": {},
   "outputs": [
    {
     "name": "stdout",
     "output_type": "stream",
     "text": [
      "future value based on formaula is 17908.476965428545\n"
     ]
    }
   ],
   "source": [
    "# Use the formula to calcualte\n",
    "fv10 = pv0*(1+r)**n\n",
    "print('future value based on formaula is', fv10)"
   ]
  },
  {
   "cell_type": "code",
   "execution_count": 5,
   "metadata": {},
   "outputs": [
    {
     "name": "stdout",
     "output_type": "stream",
     "text": [
      "the future value of the annuity is -232759.69884994862\n"
     ]
    }
   ],
   "source": [
    "# Use numpy_financial to calcultae annuity future value\n",
    "fv_annuity = npf.fv(0.06, 15, 10000, 0, 0)\n",
    "print('the future value of the annuity is', fv_annuity)"
   ]
  },
  {
   "cell_type": "code",
   "execution_count": 6,
   "metadata": {},
   "outputs": [
    {
     "name": "stdout",
     "output_type": "stream",
     "text": [
      "the present value is -385543.28942953143\n"
     ]
    }
   ],
   "source": [
    "# Future cash flow\n",
    "cf_10 = 1000000\n",
    "# Discount rate\n",
    "r = 0.10 \n",
    "# Recurring payment towards investment \n",
    "pmt = 0  \n",
    "# Number of periods \n",
    "n = 10  \n",
    "\n",
    "# Use the pv function from numpy_financial\n",
    "pv0_npf = npf.pv(r, n, pmt, cf_10, 0)\n",
    "# Print out results\n",
    "print('the present value is', pv0_npf)"
   ]
  },
  {
   "cell_type": "code",
   "execution_count": 4,
   "metadata": {},
   "outputs": [
    {
     "name": "stdout",
     "output_type": "stream",
     "text": [
      "the total present value of cash flows is -125663.93436401302\n"
     ]
    }
   ],
   "source": [
    "# Import the numpy_financial package\n",
    "import numpy_financial as npf\n",
    "\n",
    "# Create a list of cash flows\n",
    "cfs = [10000,20000,30000,40000,50000]\n",
    "\n",
    "# Create a variable tpv, set the initial value to 0\n",
    "tpv = 0\n",
    "\n",
    "# Define interest rate\n",
    "r = 0.05\n",
    "\n",
    "# Iterate through the cash flows and caculate the fv of each\n",
    "for i in range(len(cfs)):\n",
    "    pvi = npf.pv(r, i+1, 0, cfs[i], 0)\n",
    "    tpv += pvi\n",
    "    \n",
    "# Print out the sum of future values\n",
    "print(\"the total present value of cash flows is\", tpv)"
   ]
  },
  {
   "cell_type": "code",
   "execution_count": 6,
   "metadata": {},
   "outputs": [
    {
     "name": "stdout",
     "output_type": "stream",
     "text": [
      "the present value of the annuity is $77.21734929184817m\n",
      "the present value of the perpetuity is $200.0m\n"
     ]
    }
   ],
   "source": [
    "# Import the numpy_financial package\n",
    "import numpy_financial as npf\n",
    "\n",
    "# Recurring payment amount\n",
    "pmt = 10\n",
    "# Discount rate\n",
    "r = 0.05\n",
    "\n",
    "# Calculate the value of the 10-year annuity \n",
    "pv_annuity = npf.pv(r, 10, -pmt, 0, 0)\n",
    "\n",
    "# Calculate the value of the perpetuity\n",
    "pv_perpetuity = pmt/r\n",
    "    \n",
    "# Print out the results\n",
    "print(f\"the present value of the annuity is ${pv_annuity}m\")\n",
    "print(f\"the present value of the perpetuity is ${pv_perpetuity}m\")"
   ]
  },
  {
   "cell_type": "code",
   "execution_count": 8,
   "metadata": {},
   "outputs": [
    {
     "name": "stdout",
     "output_type": "stream",
     "text": [
      "the bond price is $-1043.7603196548544\n"
     ]
    }
   ],
   "source": [
    "# Import the numpy_financial package\n",
    "import numpy_financial as npf\n",
    "\n",
    "# Calculate the bond price\n",
    "p_bond = npf.pv(0.05/2, 5*2, 30, 1000, 0)\n",
    "\n",
    "# Print out the result\n",
    "print(f\"the bond price is ${p_bond}\")"
   ]
  },
  {
   "cell_type": "code",
   "execution_count": 9,
   "metadata": {},
   "outputs": [
    {
     "name": "stdout",
     "output_type": "stream",
     "text": [
      "the stock price is 73.57142857142857\n"
     ]
    }
   ],
   "source": [
    "# Define a constant dividend growth model\n",
    "def StockPrice(div, g, r):\n",
    "    Price = (div*(1+g)/(r-g))\n",
    "    return Price\n",
    "\n",
    "# Apply the function to this case\n",
    "print(\"the stock price is\", StockPrice(5, 0.03, 0.1))"
   ]
  },
  {
   "cell_type": "code",
   "execution_count": 10,
   "metadata": {},
   "outputs": [
    {
     "name": "stdout",
     "output_type": "stream",
     "text": [
      "the stock price at time 0 is -111.8343621399177\n"
     ]
    }
   ],
   "source": [
    "# Define current dividend level and short-term growth rate\n",
    "div = 5\n",
    "g1 = 0.06\n",
    "\n",
    "# Calculate the next three dividend payments\n",
    "div1 = div*(1+g1)\n",
    "div2 = div1*(1+g1)\n",
    "div3 = div2*(1+g1)\n",
    "\n",
    "# Calcualte P3 using the constant dividend growth model\n",
    "P3 = StockPrice(div3, 0.03, 0.08)\n",
    "\n",
    "# Create a list of cash flows\n",
    "cfs = [div1, div2, div3+P3]\n",
    "\n",
    "# Create a variable P0, set the initial value to 0\n",
    "P0 = 0\n",
    "\n",
    "# Define interest rate\n",
    "r = 0.08\n",
    "\n",
    "# Iterate through the cash flows and caculate the fv of each\n",
    "for i in range(len(cfs)):\n",
    "    pvi = npf.pv(r, i+1, 0, cfs[i], 0)\n",
    "    P0 += pvi\n",
    "    \n",
    "# Print out the sum of future values\n",
    "print(\"the stock price at time 0 is\", P0)"
   ]
  }
 ],
 "metadata": {
  "kernelspec": {
   "display_name": "Python 3 (ipykernel)",
   "language": "python",
   "name": "python3"
  },
  "language_info": {
   "codemirror_mode": {
    "name": "ipython",
    "version": 3
   },
   "file_extension": ".py",
   "mimetype": "text/x-python",
   "name": "python",
   "nbconvert_exporter": "python",
   "pygments_lexer": "ipython3",
   "version": "3.11.3"
  }
 },
 "nbformat": 4,
 "nbformat_minor": 4
}
