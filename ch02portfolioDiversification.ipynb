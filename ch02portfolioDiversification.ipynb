{
 "cells": [
  {
   "cell_type": "markdown",
   "metadata": {},
   "source": [
    "# Chapter 2: Portfolio Diversification "
   ]
  },
  {
   "cell_type": "code",
   "execution_count": 1,
   "metadata": {},
   "outputs": [
    {
     "name": "stdout",
     "output_type": "stream",
     "text": [
      "the expected value of the payoff is 20000.0\n",
      "the standard deviation of the payoff is 34641.016151377546\n"
     ]
    }
   ],
   "source": [
    "import math\n",
    "payoff = {80000:0.25, 0:0.75}\n",
    "mu = 0\n",
    "var = 0\n",
    "std = 0\n",
    "for val, p in payoff.items():\n",
    "    mu += val*p\n",
    "print(\"the expected value of the payoff is\", mu)  \n",
    "for val, p in payoff.items():\n",
    "    var += p*(val - mu)**2\n",
    "std = math.sqrt(var)\n",
    "print(\"the standard deviation of the payoff is\", std)  "
   ]
  },
  {
   "cell_type": "code",
   "execution_count": 2,
   "metadata": {},
   "outputs": [
    {
     "name": "stdout",
     "output_type": "stream",
     "text": [
      "expected payoff after diversification is 20000.0\n",
      "payoff volatility after diversification is 24494.89742783178\n"
     ]
    }
   ],
   "source": [
    "payoff_diversified = {80000:0.0625, 40000:0.375, 0:0.5625}\n",
    "mu_diversified = 0\n",
    "var_diversified = 0\n",
    "std_diversified = 0\n",
    "for val, p in payoff_diversified.items():\n",
    "    mu_diversified += val*p\n",
    "print(\"expected payoff after diversification is\", mu_diversified)  \n",
    "for val, p in payoff_diversified.items():\n",
    "    var_diversified += p*(val - mu_diversified)**2\n",
    "std_diversified = math.sqrt(var_diversified)\n",
    "print(\"payoff volatility after diversification is\", std_diversified)  "
   ]
  },
  {
   "cell_type": "code",
   "execution_count": 3,
   "metadata": {},
   "outputs": [
    {
     "name": "stdout",
     "output_type": "stream",
     "text": [
      "the covariance between X and Y is -8.2\n",
      "the correlation coefficient between X and Y is -0.789776981742655\n"
     ]
    }
   ],
   "source": [
    "x = [9, 4, 10, 5]\n",
    "y = [26, 30, 20, 24]\n",
    "p = [0.2, 0.3, 0.3, 0.2]\n",
    "mu_x = 0\n",
    "var_x = 0\n",
    "mu_y = 0\n",
    "var_y = 0\n",
    "covar = 0\n",
    "for i in range(len(x)):\n",
    "    mu_x += p[i]*x[i]\n",
    "    mu_y += p[i]*y[i]\n",
    "for i in range(len(x)):\n",
    "    var_x += p[i]*(x[i] - mu_x)**2\n",
    "    var_y += p[i]*(y[i] - mu_y)**2\n",
    "    covar += p[i]*(x[i] - mu_x)*(y[i] - mu_y)    \n",
    "print(\"the covariance between X and Y is\", covar)  \n",
    "corr = covar/math.sqrt(var_x*var_y)\n",
    "print(\"the correlation coefficient between X and Y is\", corr)  "
   ]
  },
  {
   "cell_type": "code",
   "execution_count": 4,
   "metadata": {},
   "outputs": [
    {
     "name": "stdout",
     "output_type": "stream",
     "text": [
      "the correlation coefficient between X and Y is 0.9999999999999998\n"
     ]
    }
   ],
   "source": [
    "x = [-2, -1, 0, 1, 2]\n",
    "y = [3, 4, 5, 6, 7]\n",
    "p = [0.1, 0.2, 0.4, 0.2, 0.1]\n",
    "mu_x = 0\n",
    "var_x = 0\n",
    "mu_y = 0\n",
    "var_y = 0\n",
    "covar = 0\n",
    "for i in range(len(x)):\n",
    "    mu_x += p[i]*x[i]\n",
    "    mu_y += p[i]*y[i]\n",
    "for i in range(len(x)):\n",
    "    var_x += p[i]*(x[i] - mu_x)**2\n",
    "    var_y += p[i]*(y[i] - mu_y)**2\n",
    "    covar += p[i]*(x[i] - mu_x)*(y[i] - mu_y)    \n",
    "corr = covar/math.sqrt(var_x*var_y)\n",
    "print(\"the correlation coefficient between X and Y is\", corr)  "
   ]
  },
  {
   "cell_type": "code",
   "execution_count": 5,
   "metadata": {},
   "outputs": [
    {
     "name": "stdout",
     "output_type": "stream",
     "text": [
      "the correlation coefficient between X and Y is 0.0\n"
     ]
    }
   ],
   "source": [
    "x = [-2, -1, 0, 1, 2]\n",
    "y = [4, 1, 0, 1, 4]\n",
    "p = [0.1, 0.2, 0.4, 0.2, 0.1]\n",
    "mu_x = 0\n",
    "var_x = 0\n",
    "mu_y = 0\n",
    "var_y = 0\n",
    "covar = 0\n",
    "for i in range(len(x)):\n",
    "    mu_x += p[i]*x[i]\n",
    "    mu_y += p[i]*y[i]\n",
    "for i in range(len(x)):\n",
    "    var_x += p[i]*(x[i] - mu_x)**2\n",
    "    var_y += p[i]*(y[i] - mu_y)**2\n",
    "    covar += p[i]*(x[i] - mu_x)*(y[i] - mu_y)    \n",
    "corr = covar/math.sqrt(var_x*var_y)\n",
    "print(\"the correlation coefficient between X and Y is\", corr)  "
   ]
  },
  {
   "cell_type": "code",
   "execution_count": null,
   "metadata": {},
   "outputs": [],
   "source": []
  }
 ],
 "metadata": {
  "kernelspec": {
   "display_name": "Python 3 (ipykernel)",
   "language": "python",
   "name": "python3"
  },
  "language_info": {
   "codemirror_mode": {
    "name": "ipython",
    "version": 3
   },
   "file_extension": ".py",
   "mimetype": "text/x-python",
   "name": "python",
   "nbconvert_exporter": "python",
   "pygments_lexer": "ipython3",
   "version": "3.11.3"
  }
 },
 "nbformat": 4,
 "nbformat_minor": 4
}
