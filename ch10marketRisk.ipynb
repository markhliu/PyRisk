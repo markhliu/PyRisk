{
 "cells": [
  {
   "cell_type": "markdown",
   "metadata": {},
   "source": [
    "# Chapter 10: Market Risk"
   ]
  },
  {
   "cell_type": "code",
   "execution_count": 1,
   "metadata": {},
   "outputs": [
    {
     "name": "stdout",
     "output_type": "stream",
     "text": [
      "DEAR for the stock is 186400.0\n",
      "DEAR for the bond is 45625.355501058344\n",
      "DEAR for the Euro is 39493.5\n",
      "DEAR for the portfolio is 214339.86635288678\n"
     ]
    }
   ],
   "source": [
    "import numpy as np\n",
    "\n",
    "DEAR_STOCK = 4000000*2.33*0.02\n",
    "DEAR_BOND = 3000000*(7/1.07243)*0.00233\n",
    "DEAR_FX = 3000000*2.33*0.00565\n",
    "print(\"DEAR for the stock is\", DEAR_STOCK)\n",
    "print(\"DEAR for the bond is\",DEAR_BOND)\n",
    "print(\"DEAR for the Euro is\",DEAR_FX)\n",
    "DEAR = np.matrix([[DEAR_STOCK, \n",
    "                DEAR_BOND, \n",
    "                DEAR_FX]])\n",
    "\n",
    "CORR = np.matrix([[1, 0.4, 0.1],\n",
    "                   [0.4, 1, -0.2],\n",
    "                   [0.1, -0.2, 1]])\n",
    "\n",
    "\n",
    "DEAR_P = np.sqrt(DEAR * CORR * DEAR.T)\n",
    "print(\"DEAR for the portfolio is\", DEAR_P.item((0,0)))"
   ]
  },
  {
   "cell_type": "code",
   "execution_count": 2,
   "metadata": {},
   "outputs": [
    {
     "name": "stdout",
     "output_type": "stream",
     "text": [
      "Requirement already satisfied: pandas_datareader in c:\\users\\hlliu2\\.conda\\envs\\test\\lib\\site-packages (0.9.0)\n",
      "Requirement already satisfied: requests>=2.19.0 in c:\\users\\hlliu2\\.conda\\envs\\test\\lib\\site-packages (from pandas_datareader) (2.23.0)\n",
      "Requirement already satisfied: pandas>=0.23 in c:\\users\\hlliu2\\.conda\\envs\\test\\lib\\site-packages (from pandas_datareader) (1.1.0)\n",
      "Requirement already satisfied: lxml in c:\\users\\hlliu2\\.conda\\envs\\test\\lib\\site-packages (from pandas_datareader) (4.5.2)\n",
      "Requirement already satisfied: idna<3,>=2.5 in c:\\users\\hlliu2\\.conda\\envs\\test\\lib\\site-packages (from requests>=2.19.0->pandas_datareader) (2.9)\n",
      "Requirement already satisfied: chardet<4,>=3.0.2 in c:\\users\\hlliu2\\.conda\\envs\\test\\lib\\site-packages (from requests>=2.19.0->pandas_datareader) (3.0.4)\n",
      "Requirement already satisfied: certifi>=2017.4.17 in c:\\users\\hlliu2\\.conda\\envs\\test\\lib\\site-packages (from requests>=2.19.0->pandas_datareader) (2020.6.20)\n",
      "Requirement already satisfied: urllib3!=1.25.0,!=1.25.1,<1.26,>=1.21.1 in c:\\users\\hlliu2\\.conda\\envs\\test\\lib\\site-packages (from requests>=2.19.0->pandas_datareader) (1.25.8)\n",
      "Requirement already satisfied: python-dateutil>=2.7.3 in c:\\users\\hlliu2\\.conda\\envs\\test\\lib\\site-packages (from pandas>=0.23->pandas_datareader) (2.8.1)\n",
      "Requirement already satisfied: numpy>=1.15.4 in c:\\users\\hlliu2\\.conda\\envs\\test\\lib\\site-packages (from pandas>=0.23->pandas_datareader) (1.19.1)\n",
      "Requirement already satisfied: pytz>=2017.2 in c:\\users\\hlliu2\\.conda\\envs\\test\\lib\\site-packages (from pandas>=0.23->pandas_datareader) (2020.1)\n",
      "Requirement already satisfied: six>=1.5 in c:\\users\\hlliu2\\.conda\\envs\\test\\lib\\site-packages (from python-dateutil>=2.7.3->pandas>=0.23->pandas_datareader) (1.14.0)\n",
      "the VaR for MSFT is -0.04682135099510945\n"
     ]
    }
   ],
   "source": [
    "!pip install pandas_datareader\n",
    "from datetime import date, timedelta\n",
    "from pandas_datareader import data as pdr\n",
    "\n",
    "# Get the ticker symbol\n",
    "ticker = 'MSFT'\n",
    "# Set the start and end dates\n",
    "end_date = date.today().strftime(\"%Y-%m-%d\")\n",
    "start_date = (date.today() - timedelta(days=365*5)).strftime(\"%Y-%m-%d\")\n",
    "# Retieve prices\n",
    "stock = pdr.get_data_yahoo(ticker, start = start_date, end = end_date)\n",
    "# Calculate returns \n",
    "stock['ret_stock'] = (stock['Adj Close']/stock['Adj Close'].shift(1))-1\n",
    "# Get the one percentile value\n",
    "VaR = stock['ret_stock'].quantile([0.01])\n",
    "print(\"the VaR for MSFT is\", VaR.iloc[0])"
   ]
  },
  {
   "cell_type": "code",
   "execution_count": 3,
   "metadata": {},
   "outputs": [
    {
     "name": "stdout",
     "output_type": "stream",
     "text": [
      "the VaR for S&P500 is -0.03519713913525719\n"
     ]
    }
   ],
   "source": [
    "# Use the ticker symbol of S&P500\n",
    "ticker = '^GSPC'\n",
    "# Set the start and end dates\n",
    "end_date = date.today().strftime(\"%Y-%m-%d\")\n",
    "start_date = (date.today() - timedelta(days=365*5)).strftime(\"%Y-%m-%d\")\n",
    "# Retieve prices\n",
    "stock = pdr.get_data_yahoo(ticker, start = start_date, end = end_date)\n",
    "# Calculate returns \n",
    "stock['ret_stock'] = (stock['Adj Close']/stock['Adj Close'].shift(1))-1\n",
    "# Get the one percentile value\n",
    "VaR = stock['ret_stock'].quantile([0.01])\n",
    "print(\"the VaR for S&P500 is\", VaR.iloc[0])"
   ]
  },
  {
   "cell_type": "code",
   "execution_count": 4,
   "metadata": {},
   "outputs": [
    {
     "name": "stdout",
     "output_type": "stream",
     "text": [
      "the VaR on the portfolio is -0.013323127551451713\n"
     ]
    }
   ],
   "source": [
    "import numpy as np\n",
    "\n",
    "ret_mkt = np.zeros((10000,))\n",
    "ret_p = np.zeros((10000,))\n",
    "\n",
    "for i in range(len(ret_mkt)):\n",
    "    ret_mkt[i] = np.random.normal(0.0002, 0.005, 1)[0]\n",
    "    ret_p[i] = 0.0001 + 1.2 * ret_mkt[i]\n",
    "    \n",
    "# Find the one percentile of the value of ret_p\n",
    "one_pct = np.percentile(ret_p, 1)\n",
    "print(\"the VaR on the portfolio is\", one_pct)"
   ]
  },
  {
   "cell_type": "code",
   "execution_count": 5,
   "metadata": {},
   "outputs": [
    {
     "name": "stdout",
     "output_type": "stream",
     "text": [
      "the value at risk is -0.04652695748081682\n",
      "the expected shortfall is -0.053280984145992624\n"
     ]
    }
   ],
   "source": [
    "from scipy.stats import norm # 1\n",
    "\n",
    "std = 0.02 # 2\n",
    "\n",
    "VaR = - std*norm.ppf(0.99)  # 3\n",
    "print(\"the value at risk is\", VaR)\n",
    "\n",
    "expected_shortfalls = [] # 4\n",
    "\n",
    "for i in range(1000):  # 5\n",
    "    confidence = 0.99+i*0.00001  # 6\n",
    "    loss = -std * norm.ppf(confidence) \n",
    "    expected_shortfalls.append(loss)\n",
    "    \n",
    "expected_shortfall = sum(expected_shortfalls)/len(expected_shortfalls) # 7\n",
    "print(\"the expected shortfall is\", expected_shortfall)\n"
   ]
  },
  {
   "cell_type": "markdown",
   "metadata": {},
   "source": [
    "Question 1:"
   ]
  },
  {
   "cell_type": "code",
   "execution_count": 2,
   "metadata": {},
   "outputs": [
    {
     "name": "stdout",
     "output_type": "stream",
     "text": [
      "the 15-day VaR is 5809475.019311125\n",
      "the 30-day VaR is 8215838.362577491\n"
     ]
    }
   ],
   "source": [
    "import math\n",
    "\n",
    "# Define the VaR_N function\n",
    "def VaR_N(DEAR, N):\n",
    "    return DEAR*math.sqrt(N)\n",
    "\n",
    "# Calculate the 15-day VaR\n",
    "VaR_15 = VaR_N(DEAR=1500000, N=15)\n",
    "print(f\"the 15-day VaR is {VaR_15}\")\n",
    "# Calculate the 30-day VaR\n",
    "VaR_30 = VaR_N(DEAR=1500000, N=30)\n",
    "print(f\"the 30-day VaR is {VaR_30}\")"
   ]
  },
  {
   "cell_type": "code",
   "execution_count": null,
   "metadata": {},
   "outputs": [],
   "source": [
    "Question 2:"
   ]
  },
  {
   "cell_type": "code",
   "execution_count": 4,
   "metadata": {},
   "outputs": [
    {
     "name": "stdout",
     "output_type": "stream",
     "text": [
      "the maximum daily percentage price change is -0.016666666666666666\n",
      "the daily earnings at risk of the bond portfolio is -1.6666666666666667 million dollars\n"
     ]
    }
   ],
   "source": [
    "# Calculate percentage price change\n",
    "D = 5\n",
    "r = 0.05\n",
    "dr = 0.0035\n",
    "price_chg = -D/(1+r)*dr\n",
    "print(f\"the maximum daily percentage price change is {price_chg}\")\n",
    "\n",
    "# Calculate DEAR for the bond portfolio\n",
    "position = 100\n",
    "DEAR_bond = position*price_chg\n",
    "print(f\"the daily earnings at risk of the bond portfolio is {DEAR_bond} million dollars\") "
   ]
  },
  {
   "cell_type": "code",
   "execution_count": null,
   "metadata": {},
   "outputs": [],
   "source": [
    "Question 3:"
   ]
  },
  {
   "cell_type": "code",
   "execution_count": 5,
   "metadata": {},
   "outputs": [
    {
     "name": "stdout",
     "output_type": "stream",
     "text": [
      "the daily earnings at risk of the ForEx portfolio is 0.031066666666666666 million dollars\n"
     ]
    }
   ],
   "source": [
    "# Calculate DEAR for the ForEx portfolio\n",
    "position = 2/0.75\n",
    "std_fx = 0.0050\n",
    "DEAR_FX = position*2.33*std_fx\n",
    "print(f\"the daily earnings at risk of the ForEx portfolio is {DEAR_FX} million dollars\") "
   ]
  },
  {
   "cell_type": "markdown",
   "metadata": {},
   "source": [
    "Question 4:"
   ]
  },
  {
   "cell_type": "code",
   "execution_count": 6,
   "metadata": {},
   "outputs": [
    {
     "name": "stdout",
     "output_type": "stream",
     "text": [
      "the maximum daily percentage price change is -0.016642857142857143\n",
      "the daily earnings at risk of the bond portfolio is -1.6642857142857144 million dollars\n"
     ]
    }
   ],
   "source": [
    "# Calculate percentage price change\n",
    "D = 5\n",
    "r = 0.05\n",
    "dr = 0.0015*2.33\n",
    "price_chg = -D/(1+r)*dr\n",
    "print(f\"the maximum daily percentage price change is {price_chg}\")\n",
    "\n",
    "# Calculate DEAR for the bond portfolio\n",
    "position = 100\n",
    "DEAR_bond = position*price_chg\n",
    "print(f\"the daily earnings at risk of the bond portfolio is {DEAR_bond} million dollars\") "
   ]
  },
  {
   "cell_type": "markdown",
   "metadata": {},
   "source": [
    "Question 5:"
   ]
  },
  {
   "cell_type": "code",
   "execution_count": 7,
   "metadata": {},
   "outputs": [
    {
     "name": "stdout",
     "output_type": "stream",
     "text": [
      "the maximum daily percentage price change is -0.016642857142857143\n",
      "the daily earnings at risk of the stock portfolio is 1.864 million dollars\n",
      "the 5-day earnings at risk of the stock portfolio is 4.168030710059608 million dollars\n"
     ]
    }
   ],
   "source": [
    "# Calculate percentage price change\n",
    "D = 5\n",
    "r = 0.05\n",
    "dr = 0.0015*2.33\n",
    "price_chg = -D/(1+r)*dr\n",
    "print(f\"the maximum daily percentage price change is {price_chg}\")\n",
    "\n",
    "# Calculate DEAR for the bond portfolio\n",
    "position = 100\n",
    "beta = 0.8\n",
    "std_mkt = 0.01\n",
    "DEAR_stock = position*beta*std_mkt*2.33\n",
    "print(f\"the daily earnings at risk of the stock portfolio is {DEAR_stock} million dollars\")\n",
    "DEAR_stock_5day = DEAR_stock*math.sqrt(5)\n",
    "print(f\"the 5-day earnings at risk of the stock portfolio is {DEAR_stock_5day} million dollars\")"
   ]
  },
  {
   "cell_type": "markdown",
   "metadata": {},
   "source": [
    "Question 6:"
   ]
  },
  {
   "cell_type": "code",
   "execution_count": 10,
   "metadata": {},
   "outputs": [
    {
     "name": "stdout",
     "output_type": "stream",
     "text": [
      "DEAR for the portfolio is 918694.7262284681 dollars\n"
     ]
    }
   ],
   "source": [
    "import numpy as np\n",
    "\n",
    "DEAR_L = 500000\n",
    "DEAR_FX = 400000\n",
    "DEAR_EQ = 300000\n",
    "\n",
    "DEAR = np.matrix([[DEAR_L, \n",
    "                DEAR_FX, \n",
    "                DEAR_EQ]])\n",
    "\n",
    "CORR = np.matrix([[1, 0.2, 0.4],\n",
    "                   [0.2, 1, 0.6],\n",
    "                   [0.4, 0.6, 1]])\n",
    "\n",
    "\n",
    "DEAR_P = np.sqrt(DEAR * CORR * DEAR.T)\n",
    "print(f\"DEAR for the portfolio is {DEAR_P.item((0,0))} dollars\")"
   ]
  },
  {
   "cell_type": "code",
   "execution_count": null,
   "metadata": {},
   "outputs": [],
   "source": [
    "Question 7:"
   ]
  },
  {
   "cell_type": "code",
   "execution_count": 11,
   "metadata": {},
   "outputs": [
    {
     "name": "stdout",
     "output_type": "stream",
     "text": [
      "the VaR for security A is 500 million dollars\n",
      "the ES for security A is 500 million dollars\n",
      "the VaR for security B is 500 million dollars\n",
      "the ES for security B is 1500 million dollars\n"
     ]
    }
   ],
   "source": [
    "print(f\"the VaR for security A is 500 million dollars\")\n",
    "print(f\"the ES for security A is 500 million dollars\")\n",
    "print(f\"the VaR for security B is 500 million dollars\")\n",
    "print(f\"the ES for security B is 1500 million dollars\")"
   ]
  },
  {
   "cell_type": "code",
   "execution_count": null,
   "metadata": {},
   "outputs": [],
   "source": []
  }
 ],
 "metadata": {
  "kernelspec": {
   "display_name": "Python 3 (ipykernel)",
   "language": "python",
   "name": "python3"
  },
  "language_info": {
   "codemirror_mode": {
    "name": "ipython",
    "version": 3
   },
   "file_extension": ".py",
   "mimetype": "text/x-python",
   "name": "python",
   "nbconvert_exporter": "python",
   "pygments_lexer": "ipython3",
   "version": "3.11.3"
  }
 },
 "nbformat": 4,
 "nbformat_minor": 4
}
