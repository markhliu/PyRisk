{
 "cells": [
  {
   "cell_type": "markdown",
   "id": "25ffb8bc",
   "metadata": {},
   "source": [
    "# Chapter 16: Required Rate of Returns and the Capital Asset Pricing Model"
   ]
  },
  {
   "cell_type": "code",
   "execution_count": 1,
   "id": "7122d709",
   "metadata": {},
   "outputs": [
    {
     "name": "stdout",
     "output_type": "stream",
     "text": [
      "holding period return = 0.295\n"
     ]
    }
   ],
   "source": [
    "# calculate holding period return of a stock\n",
    "end_price=40.33\n",
    "begin_price=35\n",
    "Dividends=5\n",
    "holding_return=(end_price-begin_price+Dividends)/begin_price\n",
    "print('holding period return =', round(holding_return,3))"
   ]
  },
  {
   "cell_type": "code",
   "execution_count": 3,
   "id": "553f9c86",
   "metadata": {},
   "outputs": [
    {
     "name": "stdout",
     "output_type": "stream",
     "text": [
      "the annual return = 0.138\n"
     ]
    }
   ],
   "source": [
    "# estimate annual return of stock investment\n",
    "holding_return=0.296\n",
    "annual_return=pow((1+holding_return),1/2)-1\n",
    "print('the annual return =', round(annual_return,3))"
   ]
  },
  {
   "cell_type": "code",
   "execution_count": 4,
   "id": "b1dd9b7e",
   "metadata": {},
   "outputs": [
    {
     "name": "stdout",
     "output_type": "stream",
     "text": [
      "the annual return on the private equity = 0.137\n"
     ]
    }
   ],
   "source": [
    "# estimate annual return of private equity\n",
    "holding_return=0.9\n",
    "H=5\n",
    "annual_return=pow((1+holding_return),1/H)-1\n",
    "print('the annual return on the private equity =', round(annual_return,3))"
   ]
  },
  {
   "cell_type": "code",
   "execution_count": 5,
   "id": "52826f9f",
   "metadata": {},
   "outputs": [
    {
     "name": "stdout",
     "output_type": "stream",
     "text": [
      "the annual return = 0.196\n"
     ]
    }
   ],
   "source": [
    "# estimate annual return when the horizon is less than a year\n",
    "holding_return=0.015\n",
    "H=30\n",
    "annual_return=pow((1+holding_return),360/H)-1\n",
    "print('the annual return =', round(annual_return,3))"
   ]
  },
  {
   "cell_type": "code",
   "execution_count": 3,
   "id": "d99c64c2",
   "metadata": {},
   "outputs": [
    {
     "name": "stdout",
     "output_type": "stream",
     "text": [
      "The standard deviations is: 0.107\n"
     ]
    }
   ],
   "source": [
    "import pandas as pd\n",
    "\n",
    "dat={'year':[2018,2019,2020,2021,2022],\n",
    "'ret':[0.1189,0.2204,0.1234,0.0129,-0.0564]}\n",
    "dret=pd.DataFrame(dat)\n",
    "std= dret['ret'].std()\n",
    "print(\"The standard deviations is:\", round(std,3))"
   ]
  },
  {
   "cell_type": "code",
   "execution_count": 4,
   "id": "f99a16ae",
   "metadata": {},
   "outputs": [
    {
     "name": "stdout",
     "output_type": "stream",
     "text": [
      "The Sharpe ratio is: 0.3151\n"
     ]
    }
   ],
   "source": [
    "# Calculate Sharpe Ratio\n",
    "rf=0.05\n",
    "mret=dret['ret'].mean()\n",
    "sharpe_ratio=(mret-rf)/std\n",
    "print(\"The Sharpe ratio is:\", round(sharpe_ratio,4))"
   ]
  },
  {
   "cell_type": "code",
   "execution_count": 10,
   "id": "4958fae7",
   "metadata": {},
   "outputs": [
    {
     "name": "stdout",
     "output_type": "stream",
     "text": [
      "[*********************100%***********************]  1 of 1 completed\n",
      "[*********************100%***********************]  1 of 1 completed\n",
      "the covariance between Microsoft and SP500 returns is 0.000299\n",
      "the variance of the SP500 return is 0.000233\n",
      "the beta of Microsoft stock is 1.284\n"
     ]
    }
   ],
   "source": [
    "from pandas_datareader import data as pdr\n",
    "import yfinance\n",
    "yfinance.pdr_override()\n",
    "\n",
    "# set the start and end dates\n",
    "start_date = \"2022-01-01\"\n",
    "end_date = \"2022-12-31\"\n",
    "# choose market index (S&P500) and stock ticker symbols\n",
    "market = \"^GSPC\" \n",
    "ticker = \"MSFT\"\n",
    "sp = pdr.get_data_yahoo( market, start=start_date, end=end_date)\n",
    "stock = pdr.get_data_yahoo(ticker, start=start_date, end=end_date)\n",
    "sp['ret_sp'] =sp['Adj Close'].pct_change()\n",
    "stock['ret_stock'] =stock['Adj Close'].pct_change()\n",
    "cov=sp['ret_sp'].cov(stock['ret_stock'])\n",
    "print(f\"the covariance between Microsoft and SP500 returns is {cov:.6f}\")\n",
    "var=sp['ret_sp'].var()\n",
    "print(f\"the variance of the SP500 return is {var:.6f}\")\n",
    "beta_MSFT=cov/var\n",
    "print(f\"the beta of Microsoft stock is {beta_MSFT:.3f}\")"
   ]
  },
  {
   "cell_type": "code",
   "execution_count": 1,
   "id": "7510582f",
   "metadata": {},
   "outputs": [
    {
     "name": "stdout",
     "output_type": "stream",
     "text": [
      "expected return of portfolio K is 0.097\n",
      "Treynor ratio of portfolio K is 0.06\n"
     ]
    }
   ],
   "source": [
    "# use CAPM to calcualte expected return  \n",
    "beta=0.95\n",
    "rf=0.04\n",
    "rm=0.1\n",
    "r=rf+beta*(rm-rf)\n",
    "print(\"expected return of portfolio K is\",round(r,4))\n",
    "\n",
    "# Treynor ratio\n",
    "TR=(r-rf)/beta\n",
    "print(\"Treynor ratio of portfolio K is\",round(TR,3))"
   ]
  },
  {
   "cell_type": "code",
   "execution_count": 3,
   "id": "3d541322",
   "metadata": {},
   "outputs": [
    {
     "name": "stdout",
     "output_type": "stream",
     "text": [
      "market return is 0.18\n"
     ]
    }
   ],
   "source": [
    "# use CAPM to calcualte market return \n",
    "r=0.2\n",
    "beta=1.2\n",
    "rf=0.08\n",
    "rm=(r-rf)/beta+rf\n",
    "print(\"market return is\",round(rm,2))"
   ]
  },
  {
   "cell_type": "code",
   "execution_count": null,
   "id": "af78035c",
   "metadata": {},
   "outputs": [],
   "source": []
  }
 ],
 "metadata": {
  "kernelspec": {
   "display_name": "Python 3 (ipykernel)",
   "language": "python",
   "name": "python3"
  },
  "language_info": {
   "codemirror_mode": {
    "name": "ipython",
    "version": 3
   },
   "file_extension": ".py",
   "mimetype": "text/x-python",
   "name": "python",
   "nbconvert_exporter": "python",
   "pygments_lexer": "ipython3",
   "version": "3.11.3"
  }
 },
 "nbformat": 4,
 "nbformat_minor": 5
}
