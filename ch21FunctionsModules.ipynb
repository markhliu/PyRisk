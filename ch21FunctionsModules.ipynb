{
 "cells": [
  {
   "cell_type": "markdown",
   "metadata": {},
   "source": [
    "# Chapter 21: Python Functions and Modules\n",
    "\n",
    "In this chapter, we will start by exploring how to utilize built-in functions in Python and import modules from the Python standard library. We will cover three different methods of importing modules, discussing the advantages and disadvantages of each approach.\n",
    "\n",
    "Next, we will discuss how functions work and how to define your own custom functions. Since many of the modules we use are not included in the Python standard library, you will also learn how to install these third-party modules on your computer.\n",
    "\n",
    "Chapter Objectives\n",
    "\n",
    "1. Understand how to use Python built-in functions.\n",
    "2. Define your own Python functions.\n",
    "3. Learn three different ways of importing Python modules.\n",
    "4. Install third-party Python libraries and packages."
   ]
  },
  {
   "cell_type": "code",
   "execution_count": 1,
   "metadata": {},
   "outputs": [
    {
     "name": "stdout",
     "output_type": "stream",
     "text": [
      "-10\n",
      "-5\n",
      "0\n",
      "5\n"
     ]
    }
   ],
   "source": [
    "for x in range(-10, 10, 5):\n",
    "    print(x)"
   ]
  },
  {
   "cell_type": "code",
   "execution_count": 2,
   "metadata": {},
   "outputs": [
    {
     "name": "stdout",
     "output_type": "stream",
     "text": [
      "0.1\n",
      "0.2\n",
      "0.30000000000000004\n",
      "0.4\n",
      "0.5\n",
      "0.6\n",
      "0.7000000000000001\n",
      "0.8\n",
      "0.9\n",
      "1.0\n"
     ]
    }
   ],
   "source": [
    "for x in [i*0.1+0.1 for i in range(10)]:\n",
    "    print(x)"
   ]
  },
  {
   "cell_type": "code",
   "execution_count": 3,
   "metadata": {},
   "outputs": [
    {
     "name": "stdout",
     "output_type": "stream",
     "text": [
      "What is your favorite number?6\n",
      "Your favorite number is 6.\n"
     ]
    }
   ],
   "source": [
    "number = input('What is your favorite number?')\n",
    "print(f'Your favorite number is {number}.')"
   ]
  },
  {
   "cell_type": "code",
   "execution_count": 4,
   "metadata": {},
   "outputs": [
    {
     "name": "stdout",
     "output_type": "stream",
     "text": [
      "Which city do you live in?\n",
      "Cincinnati\n",
      "What is your zip code?\n",
      "45221\n",
      "You live in Cincinnati with zip code 45221.\n"
     ]
    }
   ],
   "source": [
    "city = input('Which city do you live in?\\n')\n",
    "zip_code = input('What is your zip code?\\n')\n",
    "print(f'You live in {city} with zip code {zip_code}.')"
   ]
  },
  {
   "cell_type": "code",
   "execution_count": 5,
   "metadata": {},
   "outputs": [
    {
     "name": "stdout",
     "output_type": "stream",
     "text": [
      "Help on built-in function max in module builtins:\n",
      "\n",
      "max(...)\n",
      "    max(iterable, *[, default=obj, key=func]) -> value\n",
      "    max(arg1, arg2, *args, *[, key=func]) -> value\n",
      "    \n",
      "    With a single iterable argument, return its biggest item. The\n",
      "    default keyword-only argument specifies an object to return if\n",
      "    the provided iterable is empty.\n",
      "    With two or more arguments, return the largest argument.\n",
      "\n"
     ]
    }
   ],
   "source": [
    "help(max)"
   ]
  },
  {
   "cell_type": "code",
   "execution_count": 6,
   "metadata": {},
   "outputs": [
    {
     "name": "stdout",
     "output_type": "stream",
     "text": [
      "3.4011973816621555\n"
     ]
    }
   ],
   "source": [
    "import math\n",
    "print(math.log(30))"
   ]
  },
  {
   "cell_type": "code",
   "execution_count": 7,
   "metadata": {},
   "outputs": [
    {
     "name": "stdout",
     "output_type": "stream",
     "text": [
      "3.4011973816621555\n"
     ]
    }
   ],
   "source": [
    "print(math.log(30))"
   ]
  },
  {
   "cell_type": "code",
   "execution_count": 8,
   "metadata": {},
   "outputs": [
    {
     "ename": "NameError",
     "evalue": "name 'log' is not defined",
     "output_type": "error",
     "traceback": [
      "\u001b[1;31m---------------------------------------------------------------------------\u001b[0m",
      "\u001b[1;31mNameError\u001b[0m                                 Traceback (most recent call last)",
      "Cell \u001b[1;32mIn[8], line 2\u001b[0m\n\u001b[0;32m      1\u001b[0m \u001b[38;5;28;01mimport\u001b[39;00m \u001b[38;5;21;01mmath\u001b[39;00m\n\u001b[1;32m----> 2\u001b[0m \u001b[38;5;28mprint\u001b[39m(\u001b[43mlog\u001b[49m(\u001b[38;5;241m30\u001b[39m))\n",
      "\u001b[1;31mNameError\u001b[0m: name 'log' is not defined"
     ]
    }
   ],
   "source": [
    "import math\n",
    "print(log(30))"
   ]
  },
  {
   "cell_type": "code",
   "execution_count": 9,
   "metadata": {},
   "outputs": [
    {
     "name": "stdout",
     "output_type": "stream",
     "text": [
      "9.011968375907138\n"
     ]
    }
   ],
   "source": [
    "from math import sin, sqrt #\n",
    "print(sin(30)+sqrt(100))"
   ]
  },
  {
   "cell_type": "code",
   "execution_count": 10,
   "metadata": {},
   "outputs": [],
   "source": [
    "from math import *"
   ]
  },
  {
   "cell_type": "code",
   "execution_count": 11,
   "metadata": {},
   "outputs": [
    {
     "name": "stdout",
     "output_type": "stream",
     "text": [
      "1\n",
      "2\n",
      "3\n",
      "Hello!\n"
     ]
    }
   ],
   "source": [
    "def greeting(): \n",
    "    print('Hello!') \n",
    "for i in (1,2,3): \n",
    "    print(i)\n",
    "greeting()  "
   ]
  },
  {
   "cell_type": "code",
   "execution_count": 12,
   "metadata": {},
   "outputs": [],
   "source": [
    "def notes(name): \n",
    "    print(f\"Thank you for your help, {name}!\") "
   ]
  },
  {
   "cell_type": "code",
   "execution_count": 13,
   "metadata": {},
   "outputs": [
    {
     "name": "stdout",
     "output_type": "stream",
     "text": [
      "Thank you for your help, Kate!\n",
      "Thank you for your help, John!\n"
     ]
    }
   ],
   "source": [
    "notes(\"Kate\")\n",
    "notes(\"John\")"
   ]
  },
  {
   "cell_type": "code",
   "execution_count": 14,
   "metadata": {},
   "outputs": [
    {
     "name": "stdout",
     "output_type": "stream",
     "text": [
      "42.0\n"
     ]
    }
   ],
   "source": [
    "def StockPrice(div, g, r):\n",
    "    Price = (div*(1+g)/(r-g)) #\n",
    "    return Price #\n",
    "print(StockPrice(2, 0.05, 0.1)) #"
   ]
  },
  {
   "cell_type": "code",
   "execution_count": 15,
   "metadata": {},
   "outputs": [
    {
     "name": "stdout",
     "output_type": "stream",
     "text": [
      "900\n",
      "1900\n"
     ]
    }
   ],
   "source": [
    "def TotalSales(nums):\n",
    "    total = 0 #\n",
    "    for i in range(len(nums)): #\n",
    "        total = total + nums[i] #\n",
    "    return total\n",
    "print(TotalSales([200,300,400]))\n",
    "print(TotalSales([800,900,200]))  "
   ]
  },
  {
   "cell_type": "code",
   "execution_count": 16,
   "metadata": {},
   "outputs": [
    {
     "name": "stdout",
     "output_type": "stream",
     "text": [
      "\n",
      "Please wait a moment while I gather a list of all available modules...\n",
      "\n"
     ]
    },
    {
     "name": "stderr",
     "output_type": "stream",
     "text": [
      "C:\\Users\\hlliu2\\Anaconda3\\envs\\MLA\\lib\\pkgutil.py:93: UserWarning: The numpy.array_api submodule is still experimental. See NEP 47.\n",
      "  __import__(info.name)\n",
      "C:\\Users\\hlliu2\\Anaconda3\\envs\\MLA\\lib\\site-packages\\_distutils_hack\\__init__.py:33: UserWarning: Setuptools is replacing distutils.\n",
      "  warnings.warn(\"Setuptools is replacing distutils.\")\n",
      "No QCoreApplication instance found. Application patches not applied. You have to call load_stylesheet function after instantiation of QApplication to take effect. \n",
      "C:\\Users\\hlliu2\\Anaconda3\\envs\\MLA\\lib\\site-packages\\statsmodels\\tsa\\arima\\datasets\\brockwell_davis_2002\\data\\lake.py:27: FutureWarning: 'A' is deprecated and will be removed in a future version, please use 'Y' instead.\n",
      "  index=pd.period_range(start='1875', end='1972', freq='A').to_timestamp())\n",
      "C:\\Users\\hlliu2\\Anaconda3\\envs\\MLA\\lib\\site-packages\\tqdm\\auto.py:21: TqdmWarning: IProgress not found. Please update jupyter and ipywidgets. See https://ipywidgets.readthedocs.io/en/stable/user_install.html\n",
      "  from .autonotebook import tqdm as notebook_tqdm\n"
     ]
    },
    {
     "name": "stdout",
     "output_type": "stream",
     "text": [
      "IPython             cmath               multiprocessing     sre_constants\n",
      "OpenSSL             cmd                 multitasking        sre_parse\n",
      "PIL                 code                mypy_extensions     ssl\n",
      "PyQt5               codecs              nacl                sspi\n",
      "__future__          codeop              nbclient            sspicon\n",
      "_abc                collections         nbconvert           stack_data\n",
      "_aix_support        colorama            nbformat            stat\n",
      "_argon2_cffi_bindings colorsys            nest_asyncio        statistics\n",
      "_ast                comm                netbios             statsmodels\n",
      "_asyncio            commctrl            netrc               string\n",
      "_bisect             compileall          nntplib             stringprep\n",
      "_black_version      concurrent          notebook            struct\n",
      "_blake2             configparser        nt                  subprocess\n",
      "_bootlocale         contextlib          ntpath              sunau\n",
      "_bootsubprocess     contextvars         ntsecuritycon       symbol\n",
      "_bz2                cookiecutter        nturl2path          symtable\n",
      "_cffi_backend       copy                numbers             sys\n",
      "_codecs             copyreg             numpy               sysconfig\n",
      "_codecs_cn          correct_cell_number numpy_financial     tabnanny\n",
      "_codecs_hk          crypt               numpydoc            tarfile\n",
      "_codecs_iso2022     cryptography        oauthlib            telnetlib\n",
      "_codecs_jp          cssselect           odbc                tempfile\n",
      "_codecs_kr          csv                 opcode              tensorboard\n",
      "_codecs_tw          ctypes              openpyxl            tensorboard_data_server\n",
      "_collections        curses              operator            tensorflow\n",
      "_collections_abc    cv2                 opt_einsum          tensorflow_estimator\n",
      "_compat_pickle      cycler              optparse            tensorflow_io_gcs_filesystem\n",
      "_compression        dataclasses         os                  termcolor\n",
      "_contextvars        datetime            packaging           terminado\n",
      "_csv                dateutil            pandas              test\n",
      "_ctypes             dbi                 pandas_datareader   text_unidecode\n",
      "_ctypes_test        dbm                 pandocfilters       textdistance\n",
      "_datetime           dde                 paramiko            textwrap\n",
      "_decimal            debugpy             parse               this\n",
      "_distutils_hack     decimal             parser              threading\n",
      "_elementtree        decorator           parso               threadpoolctl\n",
      "_functools          defusedxml          past                three_merge\n",
      "_hashlib            diff_match_patch    pasta               time\n",
      "_heapq              difflib             pathlib             timeit\n",
      "_imp                dill                pathspec            timer\n",
      "_io                 dis                 patsy               tinycss2\n",
      "_json               distutils           pdb                 tkinter\n",
      "_locale             docstring_to_markdown perfmon             token\n",
      "_lsprof             doctest             pexpect             tokenize\n",
      "_lzma               docutils            pickle              toml\n",
      "_markupbase         dot_parser          pickleshare         tomli\n",
      "_md5                email               pickletools         tomlkit\n",
      "_msi                encodings           pip                 tornado\n",
      "_multibytecodec     ensurepip           pipes               tqdm\n",
      "_multiprocessing    entrypoints         pkg_resources       trace\n",
      "_opcode             enum                pkgutil             traceback\n",
      "_operator           errno               platform            tracemalloc\n",
      "_osx_support        et_xmlfile          platformdirs        traitlets\n",
      "_overlapped         executing           plistlib            tty\n",
      "_peg_parser         fake_useragent      pluggy              turtle\n",
      "_pickle             fastjsonschema      ply                 turtledemo\n",
      "_py_abc             faulthandler        poplib              types\n",
      "_pydecimal          feedparser          posixpath           typing\n",
      "_pyio               filecmp             poyo                typing_extensions\n",
      "_pyrsistent_version fileinput           pprint              tzdata\n",
      "_queue              flake8              profile             ujson\n",
      "_random             flatbuffers         prometheus_client   unicodedata\n",
      "_sha1               fnmatch             prompt_toolkit      unidecode\n",
      "_sha256             fontTools           pstats              unittest\n",
      "_sha3               formatter           psutil              urllib\n",
      "_sha512             formulaic           pty                 urllib3\n",
      "_signal             fractions           ptyprocess          uu\n",
      "_sitebuiltins       frozendict          pure_eval           uuid\n",
      "_socket             ftplib              pvectorc            venv\n",
      "_sqlite3            functools           py_compile          w3lib\n",
      "_sre                future              pyasn1              warnings\n",
      "_ssl                gast                pyasn1_modules      watchdog\n",
      "_stat               gc                  pyclbr              wave\n",
      "_statistics         genericpath         pycodestyle         wcwidth\n",
      "_string             getopt              pycparser           weakref\n",
      "_strptime           getpass             pydoc               webbrowser\n",
      "_struct             gettext             pydoc_data          webencodings\n",
      "_symtable           glob                pydocstyle          websockets\n",
      "_testbuffer         google_auth_oauthlib pydot               werkzeug\n",
      "_testcapi           graphlib            pyee                whatthepatch\n",
      "_testconsole        graphviz            pyexpat             wheel\n",
      "_testimportmultiple grpc                pyflakes            win2kras\n",
      "_testinternalcapi   gym                 pyglet              win32api\n",
      "_testmultiphase     gzip                pygments            win32clipboard\n",
      "_thread             h5py                pylab               win32com\n",
      "_threading_local    hashlib             pylint              win32con\n",
      "_tkinter            heapq               pylint_venv         win32console\n",
      "_tracemalloc        hmac                pyls_spyder         win32cred\n",
      "_uuid               html                pylsp               win32crypt\n",
      "_warnings           html5lib            pylsp_black         win32cryptcon\n",
      "_weakref            http                pylsp_jsonrpc       win32ctypes\n",
      "_weakrefset         idlelib             pyparsing           win32event\n",
      "_win32sysloader     idna                pyppeteer           win32evtlog\n",
      "_winapi             imageio             pyquery             win32evtlogutil\n",
      "_winxptheme         imagesize           pyrsistent          win32file\n",
      "_xxsubinterpreters  imaplib             pythoncom           win32gui\n",
      "_yaml               imghdr              pytoolconfig        win32gui_struct\n",
      "_zoneinfo           imp                 pytube              win32help\n",
      "abc                 importlib           pytz                win32inet\n",
      "absl                importlib_metadata  pywin               win32inetcon\n",
      "adodbapi            importlib_resources pywin32_bootstrap   win32job\n",
      "afxres              inflection          pywin32_testutil    win32lz\n",
      "aifc                inspect             pywintypes          win32net\n",
      "alabaster           interface_meta      qdarkstyle          win32netcon\n",
      "antigravity         intervaltree        qstylizer           win32pdh\n",
      "appdirs             io                  qtawesome           win32pdhquery\n",
      "argon2              ipaddress           qtconsole           win32pdhutil\n",
      "argparse            ipykernel           qtpy                win32pipe\n",
      "array               ipykernel_launcher  queue               win32print\n",
      "arrow               ipython_genutils    quopri              win32process\n",
      "ast                 isapi               random              win32profile\n",
      "astroid             isort               rasutil             win32ras\n",
      "asttokens           itertools           re                  win32rcparser\n",
      "astunparse          jax                 regcheck            win32security\n",
      "asynchat            jedi                regutil             win32service\n",
      "asyncio             jellyfish           reprlib             win32serviceutil\n",
      "asyncore            jinja2              requests            win32timezone\n",
      "atari_py            jinja2_time         requests_html       win32trace\n",
      "atexit              joblib              requests_oauthlib   win32traceutil\n",
      "atomicwrites        json                rlcompleter         win32transaction\n",
      "attr                jsonschema          rope                win32ts\n",
      "attrs               jupyter             rsa                 win32ui\n",
      "audioop             jupyter_client      rtree               win32uiole\n",
      "autograd            jupyter_core        runpy               win32verstamp\n",
      "autograd_gamma      jupyterlab_pygments sched               win32wnet\n",
      "autopep8            keras               scipy               win_inet_pton\n",
      "babel               keyring             seaborn             winerror\n",
      "backcall            keyword             secrets             winioctlcon\n",
      "base64              kiwisolver          select              winnt\n",
      "baselines           lazy_object_proxy   selectors           winperf\n",
      "bcrypt              lib2to3             send2trash          winpty\n",
      "bdb                 libfuturize         servicemanager      winreg\n",
      "binaryornot         libpasteurize       setup               winsound\n",
      "binascii            lifelines           setuptools          winxpgui\n",
      "binhex              linecache           sgmllib             winxptheme\n",
      "bisect              locale              shelve              wrapt\n",
      "black               logging             shlex               wsgiref\n",
      "blackd              lxml                shutil              xdrlib\n",
      "bleach              lzma                signal              xlwt\n",
      "blib2to3            mailbox             sipbuild            xml\n",
      "brotli              mailcap             site                xmlrpc\n",
      "bs4                 markdown            six                 xxsubtype\n",
      "builtins            markupsafe          sklearn             yahoo_fin\n",
      "bz2                 marshal             slugify             yaml\n",
      "cProfile            math                smtpd               yapf\n",
      "cachetools          matplotlib          smtplib             yapftests\n",
      "calendar            matplotlib_inline   sndhdr              yfinance\n",
      "certifi             mccabe              snowballstemmer     youtube_dl\n",
      "cffi                mimetypes           socket              zipapp\n",
      "cgi                 mistune             socketserver        zipfile\n",
      "cgitb               ml_dtypes           socks               zipimport\n",
      "ch6                 mmap                sockshandler        zipp\n",
      "ch7                 mmapfile            sortedcontainers    zlib\n",
      "chardet             mmsystem            soupsieve           zmq\n",
      "charset_normalizer  modulefinder        sphinx              zoneinfo\n",
      "chunk               more_itertools      spyder              ~andas\n",
      "clang               mpl_finance         spyder_kernels      \n",
      "click               msilib              sqlite3             \n",
      "cloudpickle         msvcrt              sre_compile         \n",
      "\n",
      "Enter any module name to get more help.  Or, type \"modules spam\" to search\n",
      "for modules whose name or summary contain the string \"spam\".\n",
      "\n"
     ]
    }
   ],
   "source": [
    "help(\"modules\")"
   ]
  },
  {
   "cell_type": "code",
   "execution_count": 17,
   "metadata": {},
   "outputs": [],
   "source": [
    "import pandas"
   ]
  },
  {
   "cell_type": "code",
   "execution_count": null,
   "metadata": {},
   "outputs": [],
   "source": []
  }
 ],
 "metadata": {
  "kernelspec": {
   "display_name": "Python 3 (ipykernel)",
   "language": "python",
   "name": "python3"
  },
  "language_info": {
   "codemirror_mode": {
    "name": "ipython",
    "version": 3
   },
   "file_extension": ".py",
   "mimetype": "text/x-python",
   "name": "python",
   "nbconvert_exporter": "python",
   "pygments_lexer": "ipython3",
   "version": "3.9.12"
  }
 },
 "nbformat": 4,
 "nbformat_minor": 4
}
