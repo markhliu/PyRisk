{
 "cells": [
  {
   "cell_type": "markdown",
   "metadata": {},
   "source": [
    "# Chapter 3: Risk and Risk Management"
   ]
  },
  {
   "cell_type": "code",
   "execution_count": 1,
   "metadata": {},
   "outputs": [
    {
     "name": "stdout",
     "output_type": "stream",
     "text": [
      "the expected rate of return is 0.4\n",
      "the business risk for the pizza parlor is 0.6\n"
     ]
    }
   ],
   "source": [
    "import math\n",
    "\n",
    "returns = {1:0.5, -0.2:0.5}\n",
    "mu = 0\n",
    "var = 0\n",
    "std = 0\n",
    "for val, p in returns.items():\n",
    "    mu += val*p\n",
    "print(\"the expected rate of return is\", mu)  \n",
    "for val, p in returns.items():\n",
    "    var += p*(val - mu)**2\n",
    "std = round(math.sqrt(var),2)\n",
    "print(\"the business risk for the pizza parlor is\", std)  "
   ]
  },
  {
   "cell_type": "code",
   "execution_count": 2,
   "metadata": {},
   "outputs": [
    {
     "name": "stdout",
     "output_type": "stream",
     "text": [
      "the expected rate of return to the equity holder is 0.4875\n",
      "the risk to the business owner is 0.75\n"
     ]
    }
   ],
   "source": [
    "ret_equity = {1.2375:0.5, -0.2625:0.5}\n",
    "mu_equity = 0\n",
    "var_equity = 0\n",
    "std_equity = 0\n",
    "for val, p in ret_equity.items():\n",
    "    mu_equity += val*p\n",
    "print(\"the expected rate of return to the equity holder is\", round(mu_equity,4)) \n",
    "for val, p in ret_equity.items():\n",
    "    var_equity += p*(val - mu_equity)**2\n",
    "std_equity = round(math.sqrt(var_equity),4)\n",
    "print(\"the risk to the business owner is\", std_equity)  "
   ]
  },
  {
   "cell_type": "code",
   "execution_count": 3,
   "metadata": {},
   "outputs": [
    {
     "name": "stdout",
     "output_type": "stream",
     "text": [
      "the expected exchange rate is 0.81 $/C$\n",
      "the risk to the computer manufacturer is 0.4899 m$\n"
     ]
    }
   ],
   "source": [
    "forex = {0.85:0.6, 0.75:0.4}\n",
    "mu_fx = 0\n",
    "var_fx = 0\n",
    "std_fx = 0\n",
    "for val, p in forex.items():\n",
    "    mu_fx += val*p\n",
    "print(\"the expected exchange rate is\", round(mu_fx,2),\"$/C$\") \n",
    "for val, p in forex.items():\n",
    "    var_fx += p*(val*10 - mu_fx*10)**2\n",
    "std_fx = round(math.sqrt(var_fx),4)\n",
    "print(\"the risk to the computer manufacturer is\", std_fx, \"m$\")  "
   ]
  },
  {
   "cell_type": "code",
   "execution_count": 4,
   "metadata": {},
   "outputs": [
    {
     "name": "stdout",
     "output_type": "stream",
     "text": [
      "the expected value without insurance is 485000.0\n",
      "the expected value with insurance is 484000.0\n",
      "the expected damage is 15000.0\n"
     ]
    }
   ],
   "source": [
    "values = {500000:0.95, (500000-300000):0.05}\n",
    "damages = {0:0.95, 300000:0.05}\n",
    "premium = 16000.0\n",
    "expected_value = 0\n",
    "expected_damage = 0\n",
    "for value, p in values.items():\n",
    "    expected_value += value*p \n",
    "for damage, p in damages.items():\n",
    "    expected_damage += damage*p \n",
    "print(f\"the expected value without insurance is {expected_value}\")\n",
    "print(f\"the expected value with insurance is {500000.0 - premium}\")\n",
    "print(f\"the expected damage is {expected_damage}\")  "
   ]
  },
  {
   "cell_type": "code",
   "execution_count": 5,
   "metadata": {},
   "outputs": [
    {
     "name": "stdout",
     "output_type": "stream",
     "text": [
      "the expected value without insurance is 482500.0\n",
      "the expected value with insurance is 484000.0\n",
      "the expected damage is 17500.0\n"
     ]
    }
   ],
   "source": [
    "values_indirect = {500000:0.95, (500000-300000-50000):0.05}\n",
    "damages_indirect = {0:0.95, (300000+50000):0.05}\n",
    "expected_value_indirect = 0\n",
    "expected_damage_indirect = 0\n",
    "for value, p in values_indirect.items():\n",
    "    expected_value_indirect += value*p \n",
    "for damage, p in damages_indirect.items():\n",
    "    expected_damage_indirect += damage*p \n",
    "print(f\"the expected value without insurance is {expected_value_indirect}\")\n",
    "print(f\"the expected value with insurance is {500000.0 - premium}\")\n",
    "print(f\"the expected damage is {expected_damage_indirect}\")  "
   ]
  },
  {
   "cell_type": "code",
   "execution_count": null,
   "metadata": {},
   "outputs": [],
   "source": []
  }
 ],
 "metadata": {
  "kernelspec": {
   "display_name": "Python 3 (ipykernel)",
   "language": "python",
   "name": "python3"
  },
  "language_info": {
   "codemirror_mode": {
    "name": "ipython",
    "version": 3
   },
   "file_extension": ".py",
   "mimetype": "text/x-python",
   "name": "python",
   "nbconvert_exporter": "python",
   "pygments_lexer": "ipython3",
   "version": "3.11.3"
  }
 },
 "nbformat": 4,
 "nbformat_minor": 4
}
