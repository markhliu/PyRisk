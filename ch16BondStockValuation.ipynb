{
 "cells": [
  {
   "cell_type": "markdown",
   "id": "7a3a1c4d",
   "metadata": {},
   "source": [
    "# Chapter 16: Annuity, Bond, and Stock Valuation\n",
    "\n",
    "In this chapter, we explore the valuation of annuities, bonds, and stocks. We begin with an introduction to the concept of the time value of money, which serves as the foundation for creating discounted cash flow models. These models allow us to treat any financial security as a series of cash flows and determine their value accordingly. Specifically, we will apply this framework to the pricing of annuities, bonds, and stocks, the three most fundamental financial instrumets.\n",
    "\n",
    "Chapter Objectives:\n",
    "\n",
    "1. Define the time value of mone \n",
    "2. Introduce annuity valuati n\n",
    "3. Examine bond valuat on\n",
    "4. Learn stock vauation"
   ]
  },
  {
   "cell_type": "code",
   "execution_count": 1,
   "id": "2470c4f2",
   "metadata": {
    "scrolled": true
   },
   "outputs": [
    {
     "name": "stdout",
     "output_type": "stream",
     "text": [
      "Requirement already satisfied: numpy_financial in c:\\users\\hlliu2\\anaconda3\\envs\\mla\\lib\\site-packages (1.0.0)\n",
      "Requirement already satisfied: numpy>=1.15 in c:\\users\\hlliu2\\appdata\\roaming\\python\\python39\\site-packages (from numpy_financial) (1.23.5)\n"
     ]
    }
   ],
   "source": [
    "!pip install numpy_financial"
   ]
  },
  {
   "cell_type": "code",
   "execution_count": 2,
   "id": "935b6c30",
   "metadata": {},
   "outputs": [
    {
     "name": "stdout",
     "output_type": "stream",
     "text": [
      "future value based on numpy_financial is 17908.476965428545\n"
     ]
    }
   ],
   "source": [
    "# Import the numpy_financial package\n",
    "import numpy_financial as npf\n",
    "\n",
    "# Initial investment or present value\n",
    "pv0 = 10000\n",
    "\n",
    "# Annual rate of interest\n",
    "r = 0.06\n",
    "\n",
    "# Recurring payment towards investment\n",
    "pmt = 0 \n",
    "\n",
    "# Number of periods till maturity\n",
    "n = 10 \n",
    "\n",
    "# Use the fv function from numpy_financial\n",
    "fv10_npf = npf.fv(r, n, pmt, -pv0, 0)\n",
    "\n",
    "# Print out results\n",
    "print('future value based on numpy_financial is', fv10_npf)\n"
   ]
  },
  {
   "cell_type": "code",
   "execution_count": 3,
   "id": "00a4e04d",
   "metadata": {},
   "outputs": [
    {
     "name": "stdout",
     "output_type": "stream",
     "text": [
      "future value based on formula is 17908.476965428545\n"
     ]
    }
   ],
   "source": [
    "# Use the formula to calculate future value\n",
    "fv10 = pv0*(1+r)**n\n",
    "print('future value based on formula is', fv10)\n"
   ]
  },
  {
   "cell_type": "code",
   "execution_count": 4,
   "id": "20baa14e",
   "metadata": {},
   "outputs": [
    {
     "name": "stdout",
     "output_type": "stream",
     "text": [
      "the future value of the annuity is 232759.69884994862\n"
     ]
    }
   ],
   "source": [
    "# Use numpy_financial to calculate annuity future value\n",
    "fv_annuity = -npf.fv(0.06, 15, 10000, 0, 0)\n",
    "print('the future value of the annuity is', fv_annuity)\n"
   ]
  },
  {
   "cell_type": "code",
   "execution_count": 5,
   "id": "97d95316",
   "metadata": {},
   "outputs": [
    {
     "name": "stdout",
     "output_type": "stream",
     "text": [
      "the present value is -385543.28942953143\n"
     ]
    }
   ],
   "source": [
    "# Future cash flow\n",
    "cf_10 = 1000000\n",
    "# Discount rate\n",
    "r = 0.10\n",
    "# Recurring payment towards investment\n",
    "pmt = 0 \n",
    "# Number of periods\n",
    "n = 10 \n",
    "\n",
    "# Use the pv function from numpy_financial\n",
    "pv0_npf = npf.pv(r, n, pmt, cf_10, 0)\n",
    "# Print out results\n",
    "print('the present value is', pv0_npf)\n"
   ]
  },
  {
   "cell_type": "code",
   "execution_count": 6,
   "id": "5aaae796",
   "metadata": {},
   "outputs": [
    {
     "name": "stdout",
     "output_type": "stream",
     "text": [
      "the total present value of cash flows is -125663.93436401302\n"
     ]
    }
   ],
   "source": [
    "# Import the numpy_financial package\n",
    "import numpy_financial as npf\n",
    "\n",
    "# Create a list of cash flows\n",
    "cfs = [10000,20000,30000,40000,50000]\n",
    "\n",
    "# Create a variable tpv, set the initial value to 0\n",
    "tpv = 0\n",
    "\n",
    "# Define interest rate\n",
    "r = 0.05\n",
    "\n",
    "# Iterate through the cash flows and calculate the fv of each\n",
    "for i in range(len(cfs)):\n",
    "    pvi = npf.pv(r, i+1, 0, cfs[i], 0)\n",
    "    tpv += pvi\n",
    "   \n",
    "# Print out the sum of future values\n",
    "print(\"the total present value of cash flows is\", tpv)\n"
   ]
  },
  {
   "cell_type": "code",
   "execution_count": 7,
   "id": "cd3f83e9",
   "metadata": {},
   "outputs": [
    {
     "name": "stdout",
     "output_type": "stream",
     "text": [
      "the present value of the annuity is $77.21734929184817m\n",
      "the present value of the perpetuity is $200.0m\n"
     ]
    }
   ],
   "source": [
    "# Import the numpy_financial package\n",
    "import numpy_financial as npf\n",
    "\n",
    "# Recurring payment amount\n",
    "pmt = 10\n",
    "# Discount rate\n",
    "r = 0.05\n",
    "\n",
    "# Calculate the value of the 10-year annuity\n",
    "pv_annuity = npf.pv(r, 10, -pmt, 0, 0)\n",
    "\n",
    "# Calculate the value of the perpetuity\n",
    "pv_perpetuity = pmt/r\n",
    "   \n",
    "# Print out the results\n",
    "print(f\"the present value of the annuity is ${pv_annuity}m\")\n",
    "print(f\"the present value of the perpetuity is ${pv_perpetuity}m\")\n"
   ]
  },
  {
   "cell_type": "code",
   "execution_count": 8,
   "id": "5145dff1",
   "metadata": {},
   "outputs": [
    {
     "name": "stdout",
     "output_type": "stream",
     "text": [
      "the present value of the annuity is $178152.95\n",
      "the annual value of the annuity is $11668.17\n",
      "Maria receives a monthly payment of $990.88\n"
     ]
    },
    {
     "name": "stderr",
     "output_type": "stream",
     "text": [
      "C:\\Users\\hlliu2\\AppData\\Local\\Temp\\ipykernel_23232\\3334660194.py:15: FutureWarning: Setting an item of incompatible dtype is deprecated and will raise an error in a future version of pandas. Value '0.99' has dtype incompatible with int64, please explicitly cast to a compatible dtype first.\n",
      "  df.loc[i,\"prob_survival\"]=survival #3\n"
     ]
    }
   ],
   "source": [
    "# Calculate the value of the annuity\n",
    "import numpy_financial as npf\n",
    "pv_annuity=npf.fv(0.035,5,0,-150000) # 1\n",
    "print(f\"the present value of the annuity is ${pv_annuity:.2f}\")\n",
    "# Create the age column in a pandas DataFrame\n",
    "import pandas as pd\n",
    "df=pd.DataFrame(range(65,121),columns=[\"age\"]) #2\n",
    "# create the mortality rate column\n",
    "df[\"mortality\"]=df[\"age\"].apply(lambda x: \n",
    "    1 if x==120 else 0.01+0.002*(x-65)) \n",
    "# calculate probabiliy of survival\n",
    "df[\"prob_survival\"]=1\n",
    "for i in range(1,len(df)):\n",
    "    survival=df.loc[i-1, \"prob_survival\"]*(1-df.loc[i-1, \"mortality\"])\n",
    "    df.loc[i,\"prob_survival\"]=survival #3\n",
    "# probabiliy of survival weighted discount factor\n",
    "df[\"discount\"]=df[\"prob_survival\"]/1.035**(df[\"age\"]-65) #4\n",
    "# Annual value\n",
    "annual_pmt=pv_annuity/df[\"discount\"].sum() #5\n",
    "print(f\"the annual value of the annuity is ${annual_pmt:.2f}\")\n",
    "# monthly payment\n",
    "monthly_pmt=npf.pmt(0.035/12,12,-annual_pmt,0) #6\n",
    "print(f\"Maria receives a monthly payment of ${monthly_pmt:.2f}\") \n"
   ]
  },
  {
   "cell_type": "code",
   "execution_count": 9,
   "id": "ceb59920",
   "metadata": {},
   "outputs": [
    {
     "name": "stdout",
     "output_type": "stream",
     "text": [
      "the present value of the annuity is $175260.10\n",
      "Maria receives a monthly payment of $1016.44\n"
     ]
    }
   ],
   "source": [
    "# Calculate the value of the annuity\n",
    "rets=[0.04,0.06,-0.02,0.05,0.03]\n",
    "pv_annuity=150000\n",
    "for ret in rets:\n",
    "    pv_annuity=pv_annuity*(1+ret)   \n",
    "print(f\"the present value of the annuity is ${pv_annuity:.2f}\")\n",
    "# monthly payment\n",
    "import numpy_financial as npf\n",
    "monthly_pmt=npf.pmt(0.035/12,12*20,-pv_annuity,0)\n",
    "print(f\"Maria receives a monthly payment of ${monthly_pmt:.2f}\")\n"
   ]
  },
  {
   "cell_type": "code",
   "execution_count": 10,
   "id": "e506de95",
   "metadata": {},
   "outputs": [
    {
     "name": "stdout",
     "output_type": "stream",
     "text": [
      "the bond price is $1043.7603196548544\n"
     ]
    }
   ],
   "source": [
    "# Import the numpy_financial package\n",
    "import numpy_financial as npf\n",
    "\n",
    "# Calculate the bond price\n",
    "p_bond = -npf.pv(0.05/2, 5*2, 30, 1000, 0)\n",
    "\n",
    "# Print out the result\n",
    "print(f\"the bond price is ${p_bond}\")\n"
   ]
  },
  {
   "cell_type": "code",
   "execution_count": 11,
   "id": "97c769f0",
   "metadata": {},
   "outputs": [
    {
     "name": "stdout",
     "output_type": "stream",
     "text": [
      "the stock price is 73.57142857142857\n"
     ]
    }
   ],
   "source": [
    "# Define a constant dividend growth model\n",
    "def StockPrice(div, g, r):\n",
    "    Price = (div*(1+g)/(r-g))\n",
    "    return Price\n",
    "\n",
    "# Apply the function to this case\n",
    "print(\"the stock price is\", StockPrice(5, 0.03, 0.1))\n"
   ]
  },
  {
   "cell_type": "code",
   "execution_count": 12,
   "id": "625ac4ac",
   "metadata": {},
   "outputs": [
    {
     "name": "stdout",
     "output_type": "stream",
     "text": [
      "the stock price at time 0 is -111.8343621399177\n"
     ]
    }
   ],
   "source": [
    "# Define current dividend level and short-term growth rate\n",
    "div = 5\n",
    "g1 = 0.06\n",
    "\n",
    "# Calculate the next three dividend payments\n",
    "div1 = div*(1+g1)\n",
    "div2 = div1*(1+g1)\n",
    "div3 = div2*(1+g1)\n",
    "\n",
    "# Calcualte P3 using the constant dividend growth model\n",
    "P3 = StockPrice(div3, 0.03, 0.08)\n",
    "\n",
    "# Create a list of cash flows\n",
    "cfs = [div1, div2, div3+P3]\n",
    "\n",
    "# Create a variable P0, set the initial value to 0\n",
    "P0 = 0\n",
    "\n",
    "# Define interest rate\n",
    "r = 0.08\n",
    "\n",
    "# Iterate through the cash flows and calculate the fv of each\n",
    "for i in range(len(cfs)):\n",
    "    pvi = npf.pv(r, i+1, 0, cfs[i], 0)\n",
    "    P0 += pvi\n",
    "   \n",
    "# Print out the sum of future values\n",
    "print(\"the stock price at time 0 is\", P0)\n"
   ]
  },
  {
   "cell_type": "code",
   "execution_count": null,
   "id": "93206b9f",
   "metadata": {},
   "outputs": [],
   "source": []
  }
 ],
 "metadata": {
  "kernelspec": {
   "display_name": "Python 3 (ipykernel)",
   "language": "python",
   "name": "python3"
  },
  "language_info": {
   "codemirror_mode": {
    "name": "ipython",
    "version": 3
   },
   "file_extension": ".py",
   "mimetype": "text/x-python",
   "name": "python",
   "nbconvert_exporter": "python",
   "pygments_lexer": "ipython3",
   "version": "3.9.12"
  }
 },
 "nbformat": 4,
 "nbformat_minor": 5
}
