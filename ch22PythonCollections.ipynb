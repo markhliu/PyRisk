{
 "cells": [
  {
   "cell_type": "markdown",
   "metadata": {},
   "source": [
    "# Chapter 22: Strings, Lists, Dictionaries, and Tuples\n",
    "\n",
    "\n",
    "Python employs strings, lists, dictionaries, and tuples as collections of elements to perform various tasks. In this chapter, you will explore each of these four types of collections individually, along with examples of their practical uses.\n",
    "\n",
    "Chapter Objectives\n",
    "\n",
    "1. Understand string indexing, slicing, and various string methods\n",
    "2. Learn how to create and manipulate lists\n",
    "3. Create and utilize Python dictionaries\n",
    "4. Create and use tuples, and understand their unique features"
   ]
  },
  {
   "cell_type": "code",
   "execution_count": 1,
   "metadata": {},
   "outputs": [
    {
     "name": "stdout",
     "output_type": "stream",
     "text": [
      "c\n"
     ]
    }
   ],
   "source": [
    "letters = \"abcde\"\n",
    "print(letters[2])"
   ]
  },
  {
   "cell_type": "code",
   "execution_count": 2,
   "metadata": {},
   "outputs": [
    {
     "name": "stdout",
     "output_type": "stream",
     "text": [
      "d\n"
     ]
    }
   ],
   "source": [
    "print(letters[-2])"
   ]
  },
  {
   "cell_type": "code",
   "execution_count": 3,
   "metadata": {},
   "outputs": [
    {
     "name": "stdout",
     "output_type": "stream",
     "text": [
      "abc\n"
     ]
    }
   ],
   "source": [
    "letters = \"abcde\"\n",
    "print(letters[0:3])"
   ]
  },
  {
   "cell_type": "code",
   "execution_count": 4,
   "metadata": {},
   "outputs": [
    {
     "name": "stdout",
     "output_type": "stream",
     "text": [
      "Financial+Risk+Management\n"
     ]
    }
   ],
   "source": [
    "original = \"Financial Risk Management\"\n",
    "new_str = original.replace(' ', '+')\n",
    "print(new_str)"
   ]
  },
  {
   "cell_type": "code",
   "execution_count": 5,
   "metadata": {},
   "outputs": [
    {
     "name": "stdout",
     "output_type": "stream",
     "text": [
      "True\n"
     ]
    }
   ],
   "source": [
    "original = \"Financial Risk Management\"\n",
    "new_str = \"financial risk management\"\n",
    "print(original.lower() == new_str.lower())"
   ]
  },
  {
   "cell_type": "code",
   "execution_count": 6,
   "metadata": {},
   "outputs": [
    {
     "name": "stdout",
     "output_type": "stream",
     "text": [
      "5\n",
      "12\n",
      "Garcia\n"
     ]
    }
   ],
   "source": [
    "email = \"Maria.Garcia@uc.edu\"\n",
    "index1 = email.find(\".\")     # \n",
    "print(index1)\n",
    "index2=email.find(\"@\")     #\n",
    "print(index2)\n",
    "last_name=email[(1+index1):index2]   \n",
    "print(last_name)"
   ]
  },
  {
   "cell_type": "code",
   "execution_count": 7,
   "metadata": {},
   "outputs": [
    {
     "name": "stdout",
     "output_type": "stream",
     "text": [
      "13\n"
     ]
    }
   ],
   "source": [
    "email = \"Maria.Garcia@uc.edu\"\n",
    "idx = email.find(\"uc.edu\")\n",
    "print(idx)"
   ]
  },
  {
   "cell_type": "code",
   "execution_count": 8,
   "metadata": {},
   "outputs": [
    {
     "name": "stdout",
     "output_type": "stream",
     "text": [
      "['Financial', 'Risk', 'Management']\n"
     ]
    }
   ],
   "source": [
    "msg=\"Financial Risk Management\"\n",
    "words=msg.split()\n",
    "print(words)"
   ]
  },
  {
   "cell_type": "code",
   "execution_count": 9,
   "metadata": {},
   "outputs": [
    {
     "name": "stdout",
     "output_type": "stream",
     "text": [
      "['Maria.Garcia', 'uc.edu']\n",
      "the first name is Maria\n"
     ]
    }
   ],
   "source": [
    "email=\"Maria.Garcia@uc.edu\"\n",
    "names=email.split(\"@\") #\n",
    "print(names)\n",
    "firstlast=names[0].split(\".\")  # \n",
    "print(\"the first name is\", firstlast[0])  #"
   ]
  },
  {
   "cell_type": "code",
   "execution_count": 10,
   "metadata": {},
   "outputs": [
    {
     "name": "stdout",
     "output_type": "stream",
     "text": [
      "Financial Risk  Management\n"
     ]
    }
   ],
   "source": [
    "link = (' ')  #\n",
    "words = ['Financial', 'Risk ', 'Management']  #\n",
    "a_str = link.join(words)  #\n",
    "print(a_str)"
   ]
  },
  {
   "cell_type": "code",
   "execution_count": 11,
   "metadata": {},
   "outputs": [],
   "source": [
    "lst = [2, \"b\", 3.45]"
   ]
  },
  {
   "cell_type": "code",
   "execution_count": 12,
   "metadata": {},
   "outputs": [],
   "source": [
    "lst_1=[]"
   ]
  },
  {
   "cell_type": "code",
   "execution_count": 13,
   "metadata": {},
   "outputs": [],
   "source": [
    "lst_2=list()"
   ]
  },
  {
   "cell_type": "code",
   "execution_count": 14,
   "metadata": {},
   "outputs": [
    {
     "name": "stdout",
     "output_type": "stream",
     "text": [
      "3.45\n"
     ]
    }
   ],
   "source": [
    "lst=[2, \"b\", 3.45]\n",
    "print(lst[2])"
   ]
  },
  {
   "cell_type": "code",
   "execution_count": 15,
   "metadata": {},
   "outputs": [
    {
     "name": "stdout",
     "output_type": "stream",
     "text": [
      "2\n",
      "b\n",
      "3.45\n"
     ]
    }
   ],
   "source": [
    "for i in range(len(lst)): print(lst[i])"
   ]
  },
  {
   "cell_type": "code",
   "execution_count": 16,
   "metadata": {},
   "outputs": [
    {
     "name": "stdout",
     "output_type": "stream",
     "text": [
      "2\n",
      "b\n",
      "3.45\n"
     ]
    }
   ],
   "source": [
    "for i in range(len(lst)): \n",
    "    print(lst[i])"
   ]
  },
  {
   "cell_type": "code",
   "execution_count": 17,
   "metadata": {},
   "outputs": [
    {
     "name": "stdout",
     "output_type": "stream",
     "text": [
      "[2, 'b', 3.45, 2, 'b', 3.45]\n",
      "[2, 'b', 3.45, 2, 'b', 3.45, 2, 'b', 3.45]\n"
     ]
    }
   ],
   "source": [
    "lst=[2, \"b\", 3.45]\n",
    "print(lst + lst)\n",
    "print(lst * 3)"
   ]
  },
  {
   "cell_type": "code",
   "execution_count": 18,
   "metadata": {},
   "outputs": [],
   "source": [
    "names=['Eve','Jimmy','Sarah']"
   ]
  },
  {
   "cell_type": "code",
   "execution_count": 19,
   "metadata": {},
   "outputs": [
    {
     "name": "stdout",
     "output_type": "stream",
     "text": [
      "0 Eve\n",
      "1 Jimmy\n",
      "2 Sarah\n"
     ]
    }
   ],
   "source": [
    "for idx, name in enumerate(names): \n",
    "    print(idx, name)"
   ]
  },
  {
   "cell_type": "code",
   "execution_count": 20,
   "metadata": {},
   "outputs": [
    {
     "name": "stdout",
     "output_type": "stream",
     "text": [
      "1 Eve\n",
      "2 Jimmy\n",
      "3 Sarah\n"
     ]
    }
   ],
   "source": [
    "names=['Eve','Jimmy','Sarah']\n",
    "for idx, name in enumerate(names, start=1): \n",
    "    print(idx, name)"
   ]
  },
  {
   "cell_type": "code",
   "execution_count": 21,
   "metadata": {},
   "outputs": [
    {
     "name": "stdout",
     "output_type": "stream",
     "text": [
      "[2, 'b', 3.45, 'hi']\n"
     ]
    }
   ],
   "source": [
    "lst=[2, \"b\", 3.45]\n",
    "lst.append(\"hi\") # \n",
    "print(lst)"
   ]
  },
  {
   "cell_type": "code",
   "execution_count": 22,
   "metadata": {},
   "outputs": [
    {
     "data": {
      "text/plain": [
       "[2, 'b', 3.45, 5, 10]"
      ]
     },
     "execution_count": 1,
     "metadata": {},
     "output_type": "execute_result"
    }
   ],
   "source": [
    "lst=[2, \"b\", 3.45]\n",
    "lst + [5, 10] "
   ]
  },
  {
   "cell_type": "code",
   "execution_count": 23,
   "metadata": {},
   "outputs": [
    {
     "name": "stdout",
     "output_type": "stream",
     "text": [
      "[2, 3.45]\n"
     ]
    }
   ],
   "source": [
    "lst=[2, \"b\", 3.45]\n",
    "lst.remove(\"b\") \n",
    "print(lst)"
   ]
  },
  {
   "cell_type": "code",
   "execution_count": 24,
   "metadata": {},
   "outputs": [
    {
     "name": "stdout",
     "output_type": "stream",
     "text": [
      "1\n"
     ]
    }
   ],
   "source": [
    "lst=[2, \"b\", 3.45]\n",
    "print(lst.index(\"b\"))"
   ]
  },
  {
   "cell_type": "code",
   "execution_count": 25,
   "metadata": {},
   "outputs": [
    {
     "name": "stdout",
     "output_type": "stream",
     "text": [
      "3\n",
      "1\n"
     ]
    }
   ],
   "source": [
    "lst=[2, \"b\", \"hi\", 2, 2]\n",
    "print(lst.count(2))\n",
    "print(lst.count(\"b\")) "
   ]
  },
  {
   "cell_type": "code",
   "execution_count": 26,
   "metadata": {},
   "outputs": [
    {
     "name": "stdout",
     "output_type": "stream",
     "text": [
      "[-11, 4, 6, 9]\n",
      "[9, 6, 4, -11]\n"
     ]
    }
   ],
   "source": [
    "lst=[6, 9, 4, -11]\n",
    "lst.sort()\n",
    "print(lst)\n",
    "lst.sort(reverse=True)\n",
    "print(lst)"
   ]
  },
  {
   "cell_type": "code",
   "execution_count": 27,
   "metadata": {},
   "outputs": [
    {
     "name": "stdout",
     "output_type": "stream",
     "text": [
      "['-100', '20', 'b', 'hi']\n"
     ]
    }
   ],
   "source": [
    "lst=[\"b\", \"hi\", \"20\", \"-100\"]\n",
    "lst.sort()\n",
    "print(lst)"
   ]
  },
  {
   "cell_type": "code",
   "execution_count": 28,
   "metadata": {},
   "outputs": [
    {
     "name": "stdout",
     "output_type": "stream",
     "text": [
      "the range of the numbers is 65\n",
      "the mean of the numbers is 13.8\n"
     ]
    }
   ],
   "source": [
    "lst=[55, 4, 1, 19, -10]\n",
    "print(\"the range of the numbers is\", max(lst)-min(lst))\n",
    "print(\"the mean of the numbers is\", sum(lst)/len(lst))"
   ]
  },
  {
   "cell_type": "code",
   "execution_count": 29,
   "metadata": {},
   "outputs": [
    {
     "name": "stdout",
     "output_type": "stream",
     "text": [
      "['f', 'i', 'n', 'a', 'n', 'c', 'e']\n"
     ]
    }
   ],
   "source": [
    "msg=\"finance\"\n",
    "letters=list(msg)\n",
    "print(letters)"
   ]
  },
  {
   "cell_type": "code",
   "execution_count": 30,
   "metadata": {},
   "outputs": [],
   "source": [
    "scores = {'home':22, 'guest':25}"
   ]
  },
  {
   "cell_type": "code",
   "execution_count": 31,
   "metadata": {},
   "outputs": [],
   "source": [
    "dictionary1=dict()\n",
    "dictionary2={}"
   ]
  },
  {
   "cell_type": "code",
   "execution_count": 32,
   "metadata": {},
   "outputs": [
    {
     "name": "stdout",
     "output_type": "stream",
     "text": [
      "{'quantity': 100}\n"
     ]
    }
   ],
   "source": [
    "dictionary3={}\n",
    "dictionary3['quantity'] = 100\n",
    "print(dictionary3)"
   ]
  },
  {
   "cell_type": "code",
   "execution_count": 33,
   "metadata": {},
   "outputs": [
    {
     "name": "stdout",
     "output_type": "stream",
     "text": [
      "22\n",
      "25\n"
     ]
    }
   ],
   "source": [
    "print(scores['home'])\n",
    "print(scores['guest']) "
   ]
  },
  {
   "cell_type": "code",
   "execution_count": 34,
   "metadata": {},
   "outputs": [
    {
     "name": "stdout",
     "output_type": "stream",
     "text": [
      "None\n",
      "0\n"
     ]
    }
   ],
   "source": [
    "scores = {'home':22, 'guest':25}\n",
    "print(scores.get('blue'))\n",
    "print(scores.get('blue',0))"
   ]
  },
  {
   "cell_type": "code",
   "execution_count": 35,
   "metadata": {},
   "outputs": [
    {
     "name": "stdout",
     "output_type": "stream",
     "text": [
      "['home', 'guest']\n"
     ]
    }
   ],
   "source": [
    "scores = {'home':22, 'guest':25}\n",
    "team_names=list(scores.keys())\n",
    "print(team_names) "
   ]
  },
  {
   "cell_type": "code",
   "execution_count": 36,
   "metadata": {},
   "outputs": [
    {
     "name": "stdout",
     "output_type": "stream",
     "text": [
      "[22, 25]\n"
     ]
    }
   ],
   "source": [
    "team_scores=list(scores.values())\n",
    "print(team_scores)"
   ]
  },
  {
   "cell_type": "code",
   "execution_count": 37,
   "metadata": {},
   "outputs": [
    {
     "name": "stdout",
     "output_type": "stream",
     "text": [
      "[('home', 22), ('guest', 25)]\n"
     ]
    }
   ],
   "source": [
    "print(list(scores.items()))"
   ]
  },
  {
   "cell_type": "code",
   "execution_count": 38,
   "metadata": {},
   "outputs": [],
   "source": [
    "words={1:\"one\",2:\"two\",3:\"three\"}\n",
    "numerals={v:k for k, v in words.items()}"
   ]
  },
  {
   "cell_type": "code",
   "execution_count": 39,
   "metadata": {},
   "outputs": [
    {
     "name": "stdout",
     "output_type": "stream",
     "text": [
      "{'one': 1, 'two': 2, 'three': 3}\n"
     ]
    }
   ],
   "source": [
    "print(numerals)"
   ]
  },
  {
   "cell_type": "code",
   "execution_count": 40,
   "metadata": {},
   "outputs": [],
   "source": [
    "words_and_numerals={**words, **numerals}"
   ]
  },
  {
   "cell_type": "code",
   "execution_count": 41,
   "metadata": {},
   "outputs": [
    {
     "name": "stdout",
     "output_type": "stream",
     "text": [
      "{1: 'one', 2: 'two', 3: 'three', 'one': 1, 'two': 2, 'three': 3}\n"
     ]
    }
   ],
   "source": [
    "print(words_and_numerals)"
   ]
  },
  {
   "cell_type": "code",
   "execution_count": 42,
   "metadata": {},
   "outputs": [
    {
     "ename": "AttributeError",
     "evalue": "'tuple' object has no attribute 'append'",
     "output_type": "error",
     "traceback": [
      "\u001b[1;31m---------------------------------------------------------------------------\u001b[0m",
      "\u001b[1;31mAttributeError\u001b[0m                            Traceback (most recent call last)",
      "Cell \u001b[1;32mIn[23], line 2\u001b[0m\n\u001b[0;32m      1\u001b[0m tpl\u001b[38;5;241m=\u001b[39m(\u001b[38;5;241m3\u001b[39m, \u001b[38;5;241m6\u001b[39m, \u001b[38;5;241m9\u001b[39m)\n\u001b[1;32m----> 2\u001b[0m tpl\u001b[38;5;241m.\u001b[39mappend(\u001b[38;5;241m1\u001b[39m)\n\u001b[0;32m      3\u001b[0m \u001b[38;5;28mprint\u001b[39m(tpl)\n",
      "\u001b[1;31mAttributeError\u001b[0m: 'tuple' object has no attribute 'append'"
     ]
    }
   ],
   "source": [
    "tpl=(3, 6, 9)\n",
    "tpl.append(1)\n",
    "print(tpl)"
   ]
  },
  {
   "cell_type": "code",
   "execution_count": 43,
   "metadata": {},
   "outputs": [
    {
     "name": "stdout",
     "output_type": "stream",
     "text": [
      "9\n",
      "(6, 9, 4)\n"
     ]
    }
   ],
   "source": [
    "tuple_=(3,6,9,4,8)\n",
    "print(tuple_[2])\n",
    "print(tuple_[1:4])"
   ]
  },
  {
   "cell_type": "code",
   "execution_count": 44,
   "metadata": {},
   "outputs": [
    {
     "name": "stdout",
     "output_type": "stream",
     "text": [
      "[(10, 7), (11, 0), (11, 2), (13, 9)]\n"
     ]
    }
   ],
   "source": [
    "lst=[(11,2),(13,9),(10,7),(11,0)]\n",
    "lst.sort()\n",
    "print(lst)"
   ]
  },
  {
   "cell_type": "code",
   "execution_count": 45,
   "metadata": {},
   "outputs": [],
   "source": []
  }
 ],
 "metadata": {
  "kernelspec": {
   "display_name": "Python 3 (ipykernel)",
   "language": "python",
   "name": "python3"
  },
  "language_info": {
   "codemirror_mode": {
    "name": "ipython",
    "version": 3
   },
   "file_extension": ".py",
   "mimetype": "text/x-python",
   "name": "python",
   "nbconvert_exporter": "python",
   "pygments_lexer": "ipython3",
   "version": "3.9.12"
  }
 },
 "nbformat": 4,
 "nbformat_minor": 4
}
