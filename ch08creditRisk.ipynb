{
 "cells": [
  {
   "cell_type": "markdown",
   "metadata": {},
   "source": [
    "# Chapter 8: Credit Risk and Credit Default Swap "
   ]
  },
  {
   "cell_type": "code",
   "execution_count": 3,
   "metadata": {},
   "outputs": [
    {
     "name": "stdout",
     "output_type": "stream",
     "text": [
      "the expected loss is 80.0\n",
      "EL = EAD*PD*LGD = 1000*0.2*0.4 = 80.0\n"
     ]
    }
   ],
   "source": [
    "# First method\n",
    "promised_pmt = 1000\n",
    "expected_pmt = 1000*0.8+600*0.2\n",
    "# EL is the difference between promosed and expected payments\n",
    "EL = promised_pmt - expected_pmt\n",
    "print(\"the expected loss is\", EL)\n",
    "\n",
    "# Second method\n",
    "EAD = 1000\n",
    "PD = 0.2\n",
    "LGD = 0.4\n",
    "print(f\"EL = EAD*PD*LGD = {EAD}*{PD}*{LGD} =\",EAD*PD*LGD)"
   ]
  },
  {
   "cell_type": "code",
   "execution_count": 4,
   "metadata": {},
   "outputs": [
    {
     "name": "stdout",
     "output_type": "stream",
     "text": [
      "EL = EAD*PD*LGD = 24000000*0.2*0.55 = 2640000.0\n"
     ]
    }
   ],
   "source": [
    "EAD = 300000 * 80\n",
    "PD = 0.2\n",
    "LGD = 1-0.45\n",
    "print(f\"EL = EAD*PD*LGD = {EAD}*{PD}*{LGD} =\",EAD*PD*LGD)\n"
   ]
  },
  {
   "cell_type": "code",
   "execution_count": 6,
   "metadata": {},
   "outputs": [
    {
     "name": "stdout",
     "output_type": "stream",
     "text": [
      "What's current assets (in $m)?\n",
      "26717\n",
      "What's current liabilities (in $m)?\n",
      "14248\n",
      "What's total assets (in $m)?\n",
      "52148\n",
      "What's retained earnings (in $m)?\n",
      "-5399\n",
      "What's EBIT (in $m)?\n",
      "1994\n",
      "What's market capitalization (in $m)?\n",
      "593871\n",
      "What's total liabilities (in $m)?\n",
      "28418\n",
      "What's total sales (in $m)?\n",
      "31536\n",
      "the Z-score is 13.411531285278544\n",
      "the company is unlikely to default in the next year\n"
     ]
    }
   ],
   "source": [
    "# Get current assets and current liabilities from you\n",
    "CA = float(input(\"What's current assets (in $m)?\\n\"))\n",
    "CL = float(input(\"What's current liabilities (in $m)?\\n\"))\n",
    "# Get total assets and retained earnings from you\n",
    "TA = float(input(\"What's total assets (in $m)?\\n\"))\n",
    "RR = float(input(\"What's retained earnings (in $m)?\\n\"))\n",
    "# Get EBIT and market capitalization from you\n",
    "EBIT = float(input(\"What's EBIT (in $m)?\\n\"))\n",
    "mkt_cap = float(input(\"What's market capitalization (in $m)?\\n\"))\n",
    "# Get total liabilities and sales from you\n",
    "TL = float(input(\"What's total liabilities (in $m)?\\n\"))\n",
    "SALES = float(input(\"What's total sales (in $m)?\\n\"))\n",
    "\n",
    "# Calculate A, B, C, D, and E\n",
    "A = (CA-CL)/TA\n",
    "B = RR/TA\n",
    "C = EBIT/TA\n",
    "D = mkt_cap/TL\n",
    "E = SALES/TA\n",
    "\n",
    "# Calcualte the Z-score and print out\n",
    "Z = 1.2*A + 1.4*B + 3.3*C + 0.6*D + E\n",
    "print(\"the Z-score is\", Z)\n",
    "\n",
    "# Predict default based on Z-score\n",
    "if Z>3.0:\n",
    "    print(\"the company is unlikely to default in the next year\")\n",
    "elif Z>2.7:\n",
    "    print(\"the company is on alert\")\n",
    "elif Z>1.8:\n",
    "    print(\"the company is likely to default in the next year\")\n",
    "else:\n",
    "    print(\"the company is highly likely to default in the next year\")"
   ]
  },
  {
   "cell_type": "code",
   "execution_count": 7,
   "metadata": {},
   "outputs": [
    {
     "name": "stdout",
     "output_type": "stream",
     "text": [
      "     fun: 2.4183249524966588e-08\n",
      "     jac: array([-0.00102973,  0.0001767 ])\n",
      " message: 'Optimization terminated successfully'\n",
      "    nfev: 18\n",
      "     nit: 5\n",
      "    njev: 5\n",
      "  status: 0\n",
      " success: True\n",
      "       x: array([ 0.21228832, 12.39556527])\n",
      "std_v is  0.21228831687082533\n",
      "V0 is  12.395565267315597\n",
      "d2  1.1409978407971217\n",
      "prob of default is 0.12693541076442616\n"
     ]
    }
   ],
   "source": [
    "\n",
    "from scipy.stats import norm\n",
    "from numpy import exp, log, sqrt\n",
    "import numpy as np\n",
    "from scipy.optimize import minimize\n",
    "\n",
    "S0 = 3\n",
    "std_s = 0.80\n",
    "r = 0.05\n",
    "T = 1\n",
    "D = 10\n",
    "\n",
    "\n",
    "def d1(s,r,t,x,std):\n",
    "    return (log(s/x)+(r+0.5*std**2)*t)/(std*sqrt(t))\n",
    "\n",
    "def d2(s,r,t,x,std):\n",
    "    return (log(s/x)+(r-0.5*std**2)*t)/(std*sqrt(t))\n",
    "    \n",
    "def equations(z):\n",
    "    std_v = z[0]\n",
    "    V0 = z[1]\n",
    "\n",
    "    f = np.zeros(2)\n",
    "    f[0] = S0-V0*norm.cdf(d1(V0,r,T,D,std_v))+D*exp(-r*T)*norm.cdf(d2(V0,r,T,D,std_v))\n",
    "    f[1] = std_s*S0-norm.cdf(d1(V0,r,T,D,std_v))*std_v*V0\n",
    "    return np.dot(f,f)\n",
    "\n",
    "def cons_x(z):\n",
    "    std_v = z[0]\n",
    "    V0 = z[1]\n",
    "    \n",
    "    f = np.zeros(3)\n",
    "    f[0] = V0-S0\n",
    "    f[1] = S0+D-V0\n",
    "    f[2] = std_v\n",
    "    return f\n",
    "\n",
    "cons = {'type' : 'ineq', 'fun': cons_x}\n",
    "res = minimize(equations, (std_s, S0), method='SLSQP', constraints=cons)\n",
    "\n",
    "print(res)\n",
    "\n",
    "std_v=res.x[0]\n",
    "V0=res.x[1]\n",
    "print(\"std_v is\", std_v)\n",
    "print(\"V0 is\", V0)\n",
    "print(\"d2 is\", d2(V0,r,T,D,std_v))\n",
    "print(\"prob of default is\", norm.cdf(-d2(V0,r,T,D,std_v)))"
   ]
  },
  {
   "cell_type": "code",
   "execution_count": 3,
   "metadata": {},
   "outputs": [
    {
     "name": "stdout",
     "output_type": "stream",
     "text": [
      "Requirement already satisfied: numpy_financial in c:\\users\\hlliu2\\.conda\\envs\\test\\lib\\site-packages (1.0.0)\n",
      "Requirement already satisfied: numpy>=1.15 in c:\\users\\hlliu2\\.conda\\envs\\test\\lib\\site-packages (from numpy_financial) (1.19.1)\n",
      "If the credit risk is unsystematic, the bond price is 867.9245283018868\n",
      "Yield to maturiy of the bond price is 0.15217391304347827\n",
      "credit spread is 0.09217391304347827\n"
     ]
    }
   ],
   "source": [
    "!pip install numpy_financial\n",
    "import numpy_financial as npf\n",
    "\n",
    "# Calculate expected cash flow and discount rate\n",
    "expected_pmt = 1000*0.8+600*0.2\n",
    "rf = 0.06\n",
    "# Calculate bond price\n",
    "P_unsystematic = expected_pmt/(1+rf)\n",
    "print(f\"If the credit risk is unsystematic, the bond price is\", P_unsystematic)\n",
    "# Calculate yield to maturity\n",
    "ymt_unsystematic = npf.irr([-P_unsystematic, 1000])\n",
    "print(f\"Yield to maturity of the bond price is\", ymt_unsystematic)\n",
    "# Calculate credit spread\n",
    "credit_spread_unsystematic = ymt_unsystematic - rf\n",
    "print(f\"credit spread is\", credit_spread_unsystematic)"
   ]
  },
  {
   "cell_type": "code",
   "execution_count": 5,
   "metadata": {},
   "outputs": [
    {
     "name": "stdout",
     "output_type": "stream",
     "text": [
      "If the credit risk is systematic, the bond price is 836.3636363636363\n",
      "Yield to maturity of the bond price is 0.19565217391304346\n",
      "credit spread is 0.13565217391304346\n"
     ]
    }
   ],
   "source": [
    "# Obtain the risk premium\n",
    "risk_premium = 0.04\n",
    "# Calculate bond price\n",
    "P_systematic = expected_pmt/(1+rf+risk_premium)\n",
    "print(f\"If the credit risk is systematic, the bond price is\", P_systematic)\n",
    "# Calculate yield to maturity\n",
    "ymt_systematic = npf.irr([-P_systematic, 1000])\n",
    "print(f\"Yield to maturity of the bond price is\", ymt_systematic)\n",
    "# Calculate credit spread\n",
    "credit_spread_systematic = ymt_systematic - rf\n",
    "print(f\"credit spread is\", credit_spread_systematic)\n"
   ]
  },
  {
   "cell_type": "code",
   "execution_count": 6,
   "metadata": {},
   "outputs": [
    {
     "name": "stdout",
     "output_type": "stream",
     "text": [
      "If the credit risk is unsystematic, CDS price is 75.47169811320748\n",
      "If the credit risk is systematic, CDS price is 107.03259005145799\n"
     ]
    }
   ],
   "source": [
    "# First calculate the risk-free bond price\n",
    "P_rf = 1000/(1+rf)\n",
    "# The CDS price if credit risk is unsystematic\n",
    "CDS_unsystematic = P_rf - P_unsystematic\n",
    "print(f\"If the credit risk is unsystematic, CDS price is\", CDS_unsystematic)\n",
    "# The CDS price if credit risk is systematic\n",
    "CDS_systematic = P_rf - P_systematic\n",
    "print(f\"If the credit risk is systematic, CDS price is\", CDS_systematic)"
   ]
  },
  {
   "cell_type": "markdown",
   "metadata": {},
   "source": [
    "Question 1:"
   ]
  },
  {
   "cell_type": "code",
   "execution_count": 1,
   "metadata": {},
   "outputs": [
    {
     "name": "stdout",
     "output_type": "stream",
     "text": [
      "the expected loss is 26400.0\n",
      "EL = EAD*PD*LGD = 240000.0*0.2*0.55 = 26400.000000000004\n"
     ]
    }
   ],
   "source": [
    "# First method\n",
    "promised_pmt = 300000*0.8\n",
    "expected_pmt = promised_pmt*0.8+0.45*promised_pmt*0.2\n",
    "# EL is the difference between promosed and expected payments\n",
    "EL = promised_pmt - expected_pmt\n",
    "print(\"the expected loss is\", EL)\n",
    "\n",
    "# Second method\n",
    "EAD = 300000*0.8\n",
    "PD = 0.2\n",
    "LGD = 1-0.45\n",
    "print(f\"EL = EAD*PD*LGD = {EAD}*{PD}*{LGD} =\",EAD*PD*LGD)"
   ]
  },
  {
   "cell_type": "markdown",
   "metadata": {},
   "source": [
    "Question 2:"
   ]
  },
  {
   "cell_type": "code",
   "execution_count": 2,
   "metadata": {},
   "outputs": [
    {
     "name": "stdout",
     "output_type": "stream",
     "text": [
      "the Z-score is 2.9050000000000002\n",
      "the company is on alert\n"
     ]
    }
   ],
   "source": [
    "NWC = 150000\n",
    "TA = 1000000\n",
    "Retained_Earnings = 400000\n",
    "EBIT = 50000\n",
    "mkt_cap = 500000\n",
    "TL = 300000\n",
    "SALES = 1000000\n",
    "\n",
    "# Calculate A, B, C, D, and E\n",
    "A = NWC/TA\n",
    "B = Retained_Earnings/TA\n",
    "C = EBIT/TA\n",
    "D = mkt_cap/TL\n",
    "E = SALES/TA\n",
    "\n",
    "# Calcualte the Z-score and print out\n",
    "Z = 1.2*A + 1.4*B + 3.3*C + 0.6*D + E\n",
    "print(\"the Z-score is\", Z)\n",
    "\n",
    "# Predict default based on Z-score\n",
    "if Z>3.0:\n",
    "    print(\"the company is unlikely to default in the next year\")\n",
    "elif Z>2.7:\n",
    "    print(\"the company is on alert\")\n",
    "elif Z>1.8:\n",
    "    print(\"the company is likely to default in the next year\")\n",
    "else:\n",
    "    print(\"the company is highly likely to default in the next year\")"
   ]
  },
  {
   "cell_type": "markdown",
   "metadata": {},
   "source": [
    "Question 4:"
   ]
  },
  {
   "cell_type": "code",
   "execution_count": 3,
   "metadata": {},
   "outputs": [
    {
     "name": "stdout",
     "output_type": "stream",
     "text": [
      "     fun: 3.141577682099605e-08\n",
      "     jac: array([0.00487506, 0.00031606])\n",
      " message: 'Optimization terminated successfully.'\n",
      "    nfev: 78\n",
      "     nit: 17\n",
      "    njev: 17\n",
      "  status: 0\n",
      " success: True\n",
      "       x: array([ 0.12717671, 24.36855877])\n",
      "std_v is 0.1271767094578302\n",
      "V0 is 24.36855877063606\n",
      "d2 is 1.7257444076513948\n",
      "prob of default is 0.042196702543413865\n"
     ]
    }
   ],
   "source": [
    "from scipy.stats import norm\n",
    "from numpy import exp, log, sqrt\n",
    "import numpy as np\n",
    "from scipy.optimize import minimize\n",
    "\n",
    "S0 = 5\n",
    "std_s = 0.60\n",
    "r = 0.03\n",
    "T = 1\n",
    "D = 20\n",
    "\n",
    "\n",
    "def d1(s,r,t,x,std):\n",
    "    return (log(s/x)+(r+0.5*std**2)*t)/(std*sqrt(t))\n",
    "\n",
    "def d2(s,r,t,x,std):\n",
    "    return (log(s/x)+(r-0.5*std**2)*t)/(std*sqrt(t))\n",
    "    \n",
    "def equations(z):\n",
    "    std_v = z[0]\n",
    "    V0 = z[1]\n",
    "\n",
    "    f = np.zeros(2)\n",
    "    f[0] = S0-V0*norm.cdf(d1(V0,r,T,D,std_v))+D*exp(-r*T)*norm.cdf(d2(V0,r,T,D,std_v))\n",
    "    f[1] = std_s*S0-norm.cdf(d1(V0,r,T,D,std_v))*std_v*V0\n",
    "    return np.dot(f,f)\n",
    "\n",
    "def cons_x(z):\n",
    "    std_v = z[0]\n",
    "    V0 = z[1]\n",
    "    \n",
    "    f = np.zeros(3)\n",
    "    f[0] = V0-S0\n",
    "    f[1] = S0+D-V0\n",
    "    f[2] = std_v\n",
    "    return f\n",
    "\n",
    "cons = {'type' : 'ineq', 'fun': cons_x}\n",
    "res = minimize(equations, (std_s, S0), method='SLSQP', constraints=cons)\n",
    "\n",
    "print(res)\n",
    "\n",
    "std_v=res.x[0]\n",
    "V0=res.x[1]\n",
    "print(\"std_v is\", std_v)\n",
    "print(\"V0 is\", V0)\n",
    "print(\"d2 is\", d2(V0,r,T,D,std_v))\n",
    "print(\"prob of default is\", norm.cdf(-d2(V0,r,T,D,std_v)))"
   ]
  },
  {
   "cell_type": "markdown",
   "metadata": {},
   "source": [
    "Question 6:"
   ]
  },
  {
   "cell_type": "code",
   "execution_count": 5,
   "metadata": {},
   "outputs": [
    {
     "name": "stdout",
     "output_type": "stream",
     "text": [
      "the price of the risk free bond is 952.3809523809523\n",
      "the expected loss is 30.0\n",
      "EL = EAD*PD*LGD = 1000*0.1*0.3 = 30.0\n"
     ]
    }
   ],
   "source": [
    "price_rf = 1000/(1+0.05)\n",
    "print(f\"the price of the risk free bond is {price_rf}\")\n",
    "\n",
    "# First method\n",
    "promised_pmt = 1000\n",
    "expected_pmt = promised_pmt*0.9+700*0.1\n",
    "# EL is the difference between promosed and expected payments\n",
    "EL = promised_pmt - expected_pmt\n",
    "print(\"the expected loss is\", EL)\n",
    "\n",
    "# Second method\n",
    "EAD = 1000\n",
    "PD = 0.1\n",
    "LGD = 0.3\n",
    "print(f\"EL = EAD*PD*LGD = {EAD}*{PD}*{LGD} =\",EAD*PD*LGD)"
   ]
  },
  {
   "cell_type": "code",
   "execution_count": 8,
   "metadata": {},
   "outputs": [
    {
     "name": "stdout",
     "output_type": "stream",
     "text": [
      "the price of the risky bond is 915.0943396226414\n",
      "the yield to maturity of the bond is 0.0927835051546392\n",
      "the credit spread of the bond is 0.042783505154639204\n"
     ]
    }
   ],
   "source": [
    "price_risky = expected_pmt/(1+0.06)\n",
    "print(f\"the price of the risky bond is {price_risky}\")\n",
    "\n",
    "# Calculate YTM using the numpy_financial module\n",
    "import numpy_financial as npf\n",
    "YTM = npf.rate(1, 0, price_risky, -1000, 0)\n",
    "print(f\"the yield to maturity of the bond is {YTM}\")\n",
    "credit_spread = YTM - 0.05\n",
    "print(f\"the credit spread of the bond is {credit_spread}\")"
   ]
  },
  {
   "cell_type": "markdown",
   "metadata": {},
   "source": [
    "Quesiton 7:"
   ]
  },
  {
   "cell_type": "code",
   "execution_count": 9,
   "metadata": {},
   "outputs": [
    {
     "name": "stdout",
     "output_type": "stream",
     "text": [
      "the price of the CDS is 37.286612758310866\n"
     ]
    }
   ],
   "source": [
    "CDS = price_rf - price_risky\n",
    "print(f\"the price of the CDS is {CDS}\")"
   ]
  },
  {
   "cell_type": "markdown",
   "metadata": {},
   "source": [
    "Question 9:"
   ]
  },
  {
   "cell_type": "code",
   "execution_count": 10,
   "metadata": {},
   "outputs": [
    {
     "name": "stdout",
     "output_type": "stream",
     "text": [
      "the discount rate of the risky bond should be 0.05\n",
      "the price of the risky bond is 923.8095238095237\n",
      "the yield to maturity of the bond is 0.08247422680412364\n",
      "the credit spread of the bond is 0.03247422680412364\n",
      "the price of the CDS is 28.571428571428555\n"
     ]
    }
   ],
   "source": [
    "print(f\"the discount rate of the risky bond should be 0.05\")\n",
    "price_risky = expected_pmt/(1+0.05)\n",
    "print(f\"the price of the risky bond is {price_risky}\")\n",
    "\n",
    "# Calculate YTM using the numpy_financial module\n",
    "import numpy_financial as npf\n",
    "YTM = npf.rate(1, 0, price_risky, -1000, 0)\n",
    "print(f\"the yield to maturity of the bond is {YTM}\")\n",
    "credit_spread = YTM - 0.05\n",
    "print(f\"the credit spread of the bond is {credit_spread}\")\n",
    "CDS = price_rf - price_risky\n",
    "print(f\"the price of the CDS is {CDS}\")"
   ]
  },
  {
   "cell_type": "code",
   "execution_count": null,
   "metadata": {},
   "outputs": [],
   "source": []
  }
 ],
 "metadata": {
  "kernelspec": {
   "display_name": "Python 3 (ipykernel)",
   "language": "python",
   "name": "python3"
  },
  "language_info": {
   "codemirror_mode": {
    "name": "ipython",
    "version": 3
   },
   "file_extension": ".py",
   "mimetype": "text/x-python",
   "name": "python",
   "nbconvert_exporter": "python",
   "pygments_lexer": "ipython3",
   "version": "3.11.3"
  }
 },
 "nbformat": 4,
 "nbformat_minor": 4
}
