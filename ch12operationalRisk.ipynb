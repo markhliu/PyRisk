{
 "cells": [
  {
   "cell_type": "markdown",
   "metadata": {},
   "source": [
    "# Chapter 12: Operational Risk"
   ]
  },
  {
   "cell_type": "code",
   "execution_count": 1,
   "metadata": {},
   "outputs": [
    {
     "name": "stderr",
     "output_type": "stream",
     "text": [
      "C:\\Users\\hlliu2\\.conda\\envs\\test\\lib\\site-packages\\numpy\\_distributor_init.py:32: UserWarning: loaded more than 1 DLL from .libs:\n",
      "C:\\Users\\hlliu2\\.conda\\envs\\test\\lib\\site-packages\\numpy\\.libs\\libopenblas.NOIJJG62EMASZI6NYURL6JBKM4EVBGM7.gfortran-win_amd64.dll\n",
      "C:\\Users\\hlliu2\\.conda\\envs\\test\\lib\\site-packages\\numpy\\.libs\\libopenblas.PYQHXLVVQ7VESDPUVUADXEVJOBGHJPAY.gfortran-win_amd64.dll\n",
      "  stacklevel=1)\n"
     ]
    },
    {
     "name": "stdout",
     "output_type": "stream",
     "text": [
      "the VaR is 673.1321712303431\n"
     ]
    }
   ],
   "source": [
    "import numpy as np\n",
    "\n",
    "# Simulation n 10000 times\n",
    "simulations = np.random.poisson(3, 10000)\n",
    "\n",
    "# Create a list to contain losses in each simulation\n",
    "losses = []\n",
    "\n",
    "# In each simulation, we look at n\n",
    "for simu in range(len(simulations)):\n",
    "    n = simulations[simu]\n",
    "    # If n>0 in that year, simulate losses\n",
    "    if n>0:\n",
    "        # Draw from a lognormal distribution\n",
    "        loss_n = np.random.lognormal(3, 1, n)\n",
    "        # Add the simulated total loss to losses\n",
    "        losses.append((loss_n.sum()))\n",
    "    # If n=0 in that simulation, total loss is 0\n",
    "    else:\n",
    "        losses.append(0.0)\n",
    "\n",
    "# Calculate the 99.9 percentile value as VaR\n",
    "VaR = np.percentile(np.array(losses), 99.9) \n",
    "print(\"the VaR is\", VaR)\n"
   ]
  },
  {
   "cell_type": "code",
   "execution_count": 2,
   "metadata": {},
   "outputs": [
    {
     "name": "stdout",
     "output_type": "stream",
     "text": [
      "the VaR is 20.0\n"
     ]
    }
   ],
   "source": [
    "import numpy as np\n",
    "\n",
    "# Simulation n 10000 times\n",
    "simulations = np.random.poisson(0.1, 10000)\n",
    "\n",
    "# Create a list to contain losses in each simulation\n",
    "losses = []\n",
    "\n",
    "# In each simulation, we look at n\n",
    "for simu in range(len(simulations)):\n",
    "    n = simulations[simu]\n",
    "    # If total loss is n times $10m\n",
    "    losses.append(n*10)\n",
    "\n",
    "# Calculate the 99.9 percentile value as VaR\n",
    "VaR = np.percentile(np.array(losses), 99.9) \n",
    "print(\"the VaR is\", VaR)\n"
   ]
  },
  {
   "cell_type": "code",
   "execution_count": 5,
   "metadata": {},
   "outputs": [
    {
     "name": "stdout",
     "output_type": "stream",
     "text": [
      "the change in interest income is 4.545454545454545\n",
      "the change in interest liability is 2.4545454545454546\n",
      "the change in shareholder value is 2.0909090909090904\n"
     ]
    }
   ],
   "source": [
    "# Define values\n",
    "duration_asset = 5\n",
    "duration_liability = 3\n",
    "assets = 100\n",
    "liabilities = 90\n",
    "delta_R = 0.01\n",
    "R = 0.1\n",
    "\n",
    "# Calculate change in interest income\n",
    "delta_income = duration_asset*assets*delta_R/(1+R)\n",
    "print(\"the change in interest income is\", delta_income)\n",
    "\n",
    "# Calculate change in interest liabilities\n",
    "delta_liability = duration_liability*liabilities*delta_R/(1+R)\n",
    "print(\"the change in interest liability is\", delta_liability)\n",
    "\n",
    "# Calculate shareholder value change\n",
    "delta_equity = delta_income - delta_liability\n",
    "print(\"the change in shareholder value is\", delta_equity)\n"
   ]
  },
  {
   "cell_type": "markdown",
   "metadata": {},
   "source": [
    "Question 3:"
   ]
  },
  {
   "cell_type": "code",
   "execution_count": 1,
   "metadata": {},
   "outputs": [
    {
     "name": "stdout",
     "output_type": "stream",
     "text": [
      "the VaR is 500.0\n"
     ]
    }
   ],
   "source": [
    "import numpy as np\n",
    "\n",
    "# Simulation n 10000 times\n",
    "simulations = np.random.poisson(0.01, 10000)\n",
    "\n",
    "# Create a list to contain losses in each simulation\n",
    "losses = []\n",
    "\n",
    "# In each simulation, we look at n\n",
    "for simu in range(len(simulations)):\n",
    "    n = simulations[simu]\n",
    "    # If n>0 in that year, simulate losses\n",
    "    if n>0:\n",
    "        # Calculate the total loss\n",
    "        loss_n = n*500.0\n",
    "        # Add the simulated total loss to losses\n",
    "        losses.append((loss_n.sum()))\n",
    "    # If n=0 in that simulation, total loss is 0\n",
    "    else:\n",
    "        losses.append(0.0)\n",
    "\n",
    "# Calculate the 99 percentile value as VaR\n",
    "VaR = np.percentile(np.array(losses), 99) \n",
    "print(\"the VaR is\", VaR)"
   ]
  }
 ],
 "metadata": {
  "kernelspec": {
   "display_name": "Python 3 (ipykernel)",
   "language": "python",
   "name": "python3"
  },
  "language_info": {
   "codemirror_mode": {
    "name": "ipython",
    "version": 3
   },
   "file_extension": ".py",
   "mimetype": "text/x-python",
   "name": "python",
   "nbconvert_exporter": "python",
   "pygments_lexer": "ipython3",
   "version": "3.11.3"
  }
 },
 "nbformat": 4,
 "nbformat_minor": 4
}
