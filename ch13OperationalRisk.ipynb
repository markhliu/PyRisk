{
 "cells": [
  {
   "cell_type": "markdown",
   "id": "7a3a1c4d",
   "metadata": {},
   "source": [
    "# Chapter 13: Operational Risk\n",
    "\n",
    "\n",
    "We explore operational risk in this chapter. You will learn how to measure and manage the operational risks that modern corporations face. Section 1 introduces various types of operational risk as defined by the Basel Accords. Section 2 discusses different approaches to measuring operational risk. Section 3 focuses on the implementation of operational risk measures.\n",
    "\n",
    "Chapter Objectives:\n",
    "\n",
    "1. Define various types of operational risk and operational risk management\n",
    "2. Discuss alternative methods for measuring operational risk\n",
    "3. Implement operational risk measures"
   ]
  },
  {
   "cell_type": "code",
   "execution_count": 1,
   "id": "a45cc0ed",
   "metadata": {},
   "outputs": [
    {
     "name": "stdout",
     "output_type": "stream",
     "text": [
      "net profit in year 1 is 10000.0\n",
      "net profit in year 2 is -90000.0\n"
     ]
    }
   ],
   "source": [
    "# Example 1\n",
    "# Rate1 for spot short-term CDS premium rate\n",
    "# rate2 for spot long-term CDS premium rate \n",
    "\n",
    "rate1=[0.01,0.01]\n",
    "rate2=[0.02,0.10]\n",
    "\n",
    "netprofit1=1000000*(rate2[0]-rate1[0])\n",
    "netprofit2=1000000*((rate2[0]-rate2[1]))-1000000*rate1[1]\n",
    "\n",
    "print(\"net profit in year 1 is\", netprofit1)\n",
    "print(\"net profit in year 2 is\", netprofit2)\n"
   ]
  },
  {
   "cell_type": "code",
   "execution_count": 2,
   "id": "618407c6",
   "metadata": {},
   "outputs": [
    {
     "name": "stdout",
     "output_type": "stream",
     "text": [
      "the aggregate operational risk charge for the bank is $211500.00\n"
     ]
    }
   ],
   "source": [
    "import numpy as np\n",
    "\n",
    "wgt = np.matrix([[0.18], [0.18], [0.12],[0.15],[0.18],[0.15],[0.12],[0.12]])\n",
    "rev = np.matrix([[100], [200], [500], [50], [100], [200], [300], [50]])\n",
    "\n",
    "capital = wgt.T*rev\n",
    "print(f\"the aggregate operational risk charge for the bank is ${capital.item(0,0)*1000:.2f}\")\n"
   ]
  },
  {
   "cell_type": "code",
   "execution_count": 3,
   "id": "b1afba37",
   "metadata": {},
   "outputs": [
    {
     "name": "stdout",
     "output_type": "stream",
     "text": [
      "The VaR is USD 20.0 million\n"
     ]
    }
   ],
   "source": [
    "import numpy as np\n",
    "\n",
    "# Simulation n 10000 times\n",
    "simulations = np.random.poisson(0.1, 10000) # 1\n",
    "\n",
    "# Create a list to contain losses in each simulation\n",
    "losses = []\n",
    "\n",
    "# In each simulation, we look at n\n",
    "for simu in range(len(simulations)):\n",
    "    n = simulations[simu]\n",
    "    # If total loss is n times $10m\n",
    "    losses.append(n*10) #2\n",
    "\n",
    "# Calculate the 99.9 percentile value as VaR\n",
    "VaR = np.percentile(np.array(losses), 99.9)\n",
    "print(f\"The VaR is USD {VaR} million\")\n"
   ]
  },
  {
   "cell_type": "code",
   "execution_count": 4,
   "id": "7e9967f2",
   "metadata": {},
   "outputs": [],
   "source": []
  },
  {
   "cell_type": "code",
   "execution_count": 5,
   "id": "2174f600",
   "metadata": {},
   "outputs": [],
   "source": []
  }
 ],
 "metadata": {
  "kernelspec": {
   "display_name": "Python 3 (ipykernel)",
   "language": "python",
   "name": "python3"
  },
  "language_info": {
   "codemirror_mode": {
    "name": "ipython",
    "version": 3
   },
   "file_extension": ".py",
   "mimetype": "text/x-python",
   "name": "python",
   "nbconvert_exporter": "python",
   "pygments_lexer": "ipython3",
   "version": "3.9.12"
  }
 },
 "nbformat": 4,
 "nbformat_minor": 5
}
