{
 "cells": [
  {
   "cell_type": "markdown",
   "metadata": {},
   "source": [
    "# Chapter 1: Risk Measurement"
   ]
  },
  {
   "cell_type": "code",
   "execution_count": 1,
   "metadata": {},
   "outputs": [
    {
     "name": "stdout",
     "output_type": "stream",
     "text": [
      "0.15\n"
     ]
    }
   ],
   "source": [
    "p1=0.01\n",
    "p2=0.02\n",
    "p3=0.05\n",
    "p4=0.07\n",
    "p_loss=p1+p2+p3+p4\n",
    "print(round(p_loss,2))"
   ]
  },
  {
   "cell_type": "code",
   "execution_count": 2,
   "metadata": {},
   "outputs": [
    {
     "name": "stdout",
     "output_type": "stream",
     "text": [
      "0.5\n"
     ]
    }
   ],
   "source": [
    "p_discrete = {1:1/6, 2:1/6, 3:1/6, 4:1/6, 5:1/6, 6:1/6,}\n",
    "cdf = 0\n",
    "for i in p_discrete.keys():\n",
    "    if i<=3:\n",
    "        cdf += p_discrete[i]\n",
    "print(cdf)        "
   ]
  },
  {
   "cell_type": "code",
   "execution_count": 3,
   "metadata": {},
   "outputs": [
    {
     "name": "stdout",
     "output_type": "stream",
     "text": [
      "Requirement already satisfied: scipy in c:\\users\\hlliu2\\anaconda3\\lib\\site-packages (1.4.1)\n",
      "Requirement already satisfied: numpy>=1.13.3 in c:\\users\\hlliu2\\anaconda3\\lib\\site-packages (from scipy) (1.18.1)\n",
      "0.0\n",
      "1.6448536269514722\n"
     ]
    }
   ],
   "source": [
    "!pip install scipy\n",
    "from scipy.stats import norm\n",
    "print(norm.ppf(0.5))\n",
    "print(norm.ppf(0.95))"
   ]
  },
  {
   "cell_type": "code",
   "execution_count": 4,
   "metadata": {},
   "outputs": [
    {
     "name": "stdout",
     "output_type": "stream",
     "text": [
      "0.3333333333333333\n"
     ]
    }
   ],
   "source": [
    "cdf34 = 0\n",
    "for i in p_discrete.keys():\n",
    "    if i>2 and i<5:\n",
    "        cdf34 += p_discrete[i]\n",
    "print(cdf34)        "
   ]
  },
  {
   "cell_type": "code",
   "execution_count": 5,
   "metadata": {},
   "outputs": [
    {
     "name": "stdout",
     "output_type": "stream",
     "text": [
      "720.0\n"
     ]
    }
   ],
   "source": [
    "losses = {20000:0.01, 10000:0.02, 5000:0.05, 1000:0.07, 0:0.85}\n",
    "mu1 = 0\n",
    "for loss, p in losses.items():\n",
    "    mu1 += loss*p\n",
    "print(mu1)        "
   ]
  },
  {
   "cell_type": "code",
   "execution_count": 6,
   "metadata": {},
   "outputs": [
    {
     "name": "stdout",
     "output_type": "stream",
     "text": [
      "150.0\n"
     ]
    }
   ],
   "source": [
    "losses_insured = {1000:0.15, 0:0.85}\n",
    "mu2 = 0\n",
    "for loss, p in losses_insured.items():\n",
    "    mu2 += loss*p\n",
    "print(mu2)  "
   ]
  },
  {
   "cell_type": "code",
   "execution_count": 7,
   "metadata": {},
   "outputs": [
    {
     "name": "stdout",
     "output_type": "stream",
     "text": [
      "the variance of loss before insurance is 6801600.0\n",
      "the standard deviation of loss before insurance is 2607.987730032486\n"
     ]
    }
   ],
   "source": [
    "import math\n",
    "var1 = 0\n",
    "for loss, p in losses.items():\n",
    "    var1 += p*(loss - mu1)*(loss - mu1)\n",
    "print(\"the variance of loss before insurance is\", var1)  \n",
    "std1 = math.sqrt(var1)\n",
    "print(\"the standard deviation of loss before insurance is\", std1)  "
   ]
  },
  {
   "cell_type": "code",
   "execution_count": 8,
   "metadata": {},
   "outputs": [
    {
     "name": "stdout",
     "output_type": "stream",
     "text": [
      "the variance of loss with insurance is 127500.0\n",
      "the standard deviation of loss with insurance is 357.0714214271425\n"
     ]
    }
   ],
   "source": [
    "var2 = 0\n",
    "for loss, p in losses_insured.items():\n",
    "    var2 += p*(loss - mu2)*(loss - mu2)\n",
    "print(\"the variance of loss with insurance is\", var2)  \n",
    "std2 = math.sqrt(var2)\n",
    "print(\"the standard deviation of loss with insurance is\", std2)  "
   ]
  },
  {
   "cell_type": "code",
   "execution_count": 9,
   "metadata": {},
   "outputs": [
    {
     "name": "stdout",
     "output_type": "stream",
     "text": [
      "the positive semivariance of loss before insurance is 6360960.0\n",
      "the negative semivariance of loss before insurance is 440640.0\n"
     ]
    }
   ],
   "source": [
    "posi_semi_var1 = 0\n",
    "nega_semi_var1 = 0\n",
    "for loss, p in losses.items():\n",
    "    if loss > mu1:\n",
    "        posi_semi_var1 += p*(loss - mu1)*(loss - mu1)\n",
    "    else:\n",
    "        nega_semi_var1 += p*(loss - mu1)*(loss - mu1)\n",
    "print(\"the positive semivariance of loss before insurance is\", posi_semi_var1)\n",
    "print(\"the negative semivariance of loss before insurance is\", nega_semi_var1)"
   ]
  },
  {
   "cell_type": "code",
   "execution_count": 10,
   "metadata": {},
   "outputs": [
    {
     "name": "stdout",
     "output_type": "stream",
     "text": [
      "the skewness of loss before insurance is 5.144479567976121\n"
     ]
    }
   ],
   "source": [
    "skew1 = 0\n",
    "for loss, p in losses.items():\n",
    "    skew1 += p*((loss - mu1)/std1)**3\n",
    "print(\"the skewness of loss before insurance is\", skew1)  "
   ]
  },
  {
   "cell_type": "code",
   "execution_count": 11,
   "metadata": {},
   "outputs": [
    {
     "name": "stdout",
     "output_type": "stream",
     "text": [
      "the curtosis of loss before insurance is 33.44188000432296\n"
     ]
    }
   ],
   "source": [
    "curtosis1 = 0\n",
    "for loss, p in losses.items():\n",
    "    curtosis1 += p*((loss - mu1)/std1)**4\n",
    "print(\"the curtosis of loss before insurance is\", curtosis1)  "
   ]
  },
  {
   "cell_type": "code",
   "execution_count": null,
   "metadata": {},
   "outputs": [],
   "source": []
  }
 ],
 "metadata": {
  "kernelspec": {
   "display_name": "Python 3 (ipykernel)",
   "language": "python",
   "name": "python3"
  },
  "language_info": {
   "codemirror_mode": {
    "name": "ipython",
    "version": 3
   },
   "file_extension": ".py",
   "mimetype": "text/x-python",
   "name": "python",
   "nbconvert_exporter": "python",
   "pygments_lexer": "ipython3",
   "version": "3.11.3"
  }
 },
 "nbformat": 4,
 "nbformat_minor": 4
}
