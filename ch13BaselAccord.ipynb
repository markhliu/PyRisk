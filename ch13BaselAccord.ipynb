{
 "cells": [
  {
   "cell_type": "markdown",
   "metadata": {},
   "source": [
    "# Chapter 13: Capital Adequacy Regulations and Basel Accords"
   ]
  },
  {
   "cell_type": "code",
   "execution_count": 1,
   "metadata": {},
   "outputs": [
    {
     "name": "stdout",
     "output_type": "stream",
     "text": [
      "the credit risk adjusted on-balance-sheet assets is 143.6 million dollars\n"
     ]
    }
   ],
   "source": [
    "assets = [10 + 15, 33, 64, 75, 20]\n",
    "weights = [0, 0.2, 0.5, 1, 1.5]\n",
    "risk_adjusted_assets = 0\n",
    "\n",
    "for i in range(len(assets)):\n",
    "    risk_adjusted_assets += assets[i]*weights[i]\n",
    "print(f\"the credit risk adjusted on-balance-sheet assets is {risk_adjusted_assets} million dollars\")  "
   ]
  },
  {
   "cell_type": "markdown",
   "metadata": {},
   "source": [
    "Question 2:"
   ]
  },
  {
   "cell_type": "code",
   "execution_count": 1,
   "metadata": {},
   "outputs": [
    {
     "name": "stdout",
     "output_type": "stream",
     "text": [
      "the credit risk adjusted assets are 1000.0 million dollars\n",
      "the CET1 risk-based ratio is 0.3\n",
      "the Tier1 risk-based ratio is 0.3\n",
      "the total risk-based capital ratio is 1.6\n",
      "the leverage ratio is 0.1875\n"
     ]
    }
   ],
   "source": [
    "# Calculate credit risk adjusted assets\n",
    "assets = [10 + 15, 1000, 500]\n",
    "weights = [0, 0.5, 1]\n",
    "risk_adjusted_assets = 0\n",
    "\n",
    "for i in range(len(assets)):\n",
    "    risk_adjusted_assets += assets[i]*weights[i]\n",
    "print(f\"the credit risk adjusted assets are {risk_adjusted_assets} million dollars\")  \n",
    "\n",
    "# Calculate CET1 risk based ratio\n",
    "CET1_ratio = (100+200)/risk_adjusted_assets\n",
    "print(f\"the CET1 risk-based ratio is {CET1_ratio}\")  \n",
    "\n",
    "# Calculate Tier I risk based ratio\n",
    "Tier1_ratio = (100+200)/risk_adjusted_assets\n",
    "print(f\"the Tier1 risk-based ratio is {Tier1_ratio}\")  \n",
    "\n",
    "# Calculate total risk based capital ratio\n",
    "total_capital_ratio = (100+200+1100+200)/risk_adjusted_assets\n",
    "print(f\"the total risk-based capital ratio is {total_capital_ratio}\")  \n",
    "\n",
    "# Calculate leverage ratio\n",
    "leverage_ratio = (100+200)/(100+200+1100+200)\n",
    "print(f\"the leverage ratio is {leverage_ratio}\")  "
   ]
  },
  {
   "cell_type": "code",
   "execution_count": null,
   "metadata": {},
   "outputs": [],
   "source": []
  }
 ],
 "metadata": {
  "kernelspec": {
   "display_name": "Python 3 (ipykernel)",
   "language": "python",
   "name": "python3"
  },
  "language_info": {
   "codemirror_mode": {
    "name": "ipython",
    "version": 3
   },
   "file_extension": ".py",
   "mimetype": "text/x-python",
   "name": "python",
   "nbconvert_exporter": "python",
   "pygments_lexer": "ipython3",
   "version": "3.11.3"
  }
 },
 "nbformat": 4,
 "nbformat_minor": 4
}
