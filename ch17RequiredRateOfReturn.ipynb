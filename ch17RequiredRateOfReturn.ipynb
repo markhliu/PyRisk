{
 "cells": [
  {
   "cell_type": "markdown",
   "id": "7a3a1c4d",
   "metadata": {},
   "source": [
    "# Chapter 17: Capital Asset Pricing Model\n",
    "\n",
    "\n",
    "In Chapter 16, we discussed the time value of money and the valuation of annuities, bonds, and stocks, assuming the rate of return on a financial asset was known. This chapter focuses on how to calculate that rate of return. You'll learn the market equilibrium rate of return on a financial asset and understand the risk-return trade-off, where higher-risk financial securities are associated with higher returns, and vice versa. We will distinguish between systematic and unsystematic risks, noting that only systematic risks impact security returns. We'll also introduce the Sharpe Ratio (SR), a standard measure of the risk-reward ratio. In an equilibrium state, all assets in the market should exhibit the same SR, based on the no-arbitrage principle. This discussion will lead to the Capital Asset Pricing Model (CAPM), which formally connects an asset's expected return to its market risk, quantified by beta.\n",
    "\n",
    "Chapter Objectives:\n",
    "\n",
    "1. Define the rate of returns\n",
    "2. Examine the risk and return trade-off\n",
    "3. Define systematic risk\n",
    "4. Define unsystematic risk\n",
    "5. Discuss the CAPM model"
   ]
  },
  {
   "cell_type": "code",
   "execution_count": 1,
   "id": "52f9d937",
   "metadata": {},
   "outputs": [
    {
     "name": "stdout",
     "output_type": "stream",
     "text": [
      "holding period return = 0.295\n"
     ]
    }
   ],
   "source": [
    "# calculate holding period return of a stock\n",
    "end_price=40.33\n",
    "begin_price=35\n",
    "dividends=5\n",
    "holding_return=(end_price-begin_price+dividends)/begin_price\n",
    "print('holding period return =', round(holding_return,3))\n"
   ]
  },
  {
   "cell_type": "code",
   "execution_count": 2,
   "id": "31685f09",
   "metadata": {},
   "outputs": [
    {
     "name": "stdout",
     "output_type": "stream",
     "text": [
      "the annual return = 0.138\n"
     ]
    }
   ],
   "source": [
    "# estimate annual return on stock investment\n",
    "holding_return=0.295\n",
    "annual_return=pow((1+holding_return),1/2)-1\n",
    "print('the annual return =', round(annual_return,3))"
   ]
  },
  {
   "cell_type": "code",
   "execution_count": 3,
   "id": "116c98e6",
   "metadata": {},
   "outputs": [
    {
     "name": "stdout",
     "output_type": "stream",
     "text": [
      "the annual return on the private equity = 0.137\n"
     ]
    }
   ],
   "source": [
    "# estimate annual return of private equity\n",
    "holding_return=0.9\n",
    "H=5\n",
    "annual_return=pow((1+holding_return),1/H)-1\n",
    "print('the annual return on the private equity =', round(annual_return,3))\n"
   ]
  },
  {
   "cell_type": "code",
   "execution_count": 4,
   "id": "238c2a3c",
   "metadata": {},
   "outputs": [
    {
     "name": "stdout",
     "output_type": "stream",
     "text": [
      "the annualized return = 0.196\n"
     ]
    }
   ],
   "source": [
    "holding_return=0.015\n",
    "h=30\n",
    "annual_return=pow((1+holding_return),360/h)-1\n",
    "print('the annualized return =', round(annual_return,3))\n"
   ]
  },
  {
   "cell_type": "code",
   "execution_count": 5,
   "id": "13feb071",
   "metadata": {},
   "outputs": [
    {
     "name": "stdout",
     "output_type": "stream",
     "text": [
      "The standard deviation is: 0.107\n"
     ]
    }
   ],
   "source": [
    "import pandas as pd\n",
    "\n",
    "dat={'year':[2018,2019,2020,2021,2022],\n",
    "'ret':[0.1189,0.2204,0.1234,0.0129,-0.0564]}\n",
    "dret=pd.DataFrame(dat)\n",
    "std= dret['ret'].std()\n",
    "print(\"The standard deviation is:\", round(std,3))\n"
   ]
  },
  {
   "cell_type": "code",
   "execution_count": 6,
   "id": "96970d9e",
   "metadata": {},
   "outputs": [
    {
     "name": "stdout",
     "output_type": "stream",
     "text": [
      "The Sharpe ratio is: 0.315\n"
     ]
    }
   ],
   "source": [
    "# Calculate Sharpe Ratio\n",
    "rf=0.05\n",
    "mret=dret['ret'].mean()\n",
    "sharpe_ratio=(mret-rf)/std\n",
    "print(\"The Sharpe ratio is:\", round(sharpe_ratio,3))\n"
   ]
  },
  {
   "cell_type": "code",
   "execution_count": 7,
   "id": "bd451370",
   "metadata": {},
   "outputs": [
    {
     "name": "stdout",
     "output_type": "stream",
     "text": [
      "[*********************100%***********************]  1 of 1 completed\n",
      "[*********************100%***********************]  1 of 1 completed\n",
      "the covariance between Microsoft and SP500 returns is 0.000299\n",
      "the variance of the SP500 return is 0.000233\n",
      "the beta of Microsoft stock is 1.284\n"
     ]
    },
    {
     "name": "stderr",
     "output_type": "stream",
     "text": [
      "C:\\Users\\hlliu2\\Anaconda3\\envs\\MLA\\lib\\site-packages\\yfinance\\utils.py:768: FutureWarning: The 'unit' keyword in TimedeltaIndex construction is deprecated and will be removed in a future version. Use pd.to_timedelta instead.\n",
      "  df.index += _pd.TimedeltaIndex(dst_error_hours, 'h')\n",
      "C:\\Users\\hlliu2\\Anaconda3\\envs\\MLA\\lib\\site-packages\\yfinance\\utils.py:768: FutureWarning: The 'unit' keyword in TimedeltaIndex construction is deprecated and will be removed in a future version. Use pd.to_timedelta instead.\n",
      "  df.index += _pd.TimedeltaIndex(dst_error_hours, 'h')\n"
     ]
    }
   ],
   "source": [
    "from pandas_datareader import data as pdr\n",
    "import yfinance\n",
    "yfinance.pdr_override()\n",
    "\n",
    "# set the start and end dates\n",
    "start_date = \"2022-01-01\"\n",
    "end_date = \"2022-12-31\"\n",
    "# choose market index (S&P500) and stock ticker symbols\n",
    "market = \"^GSPC\"\n",
    "ticker = \"MSFT\"\n",
    "sp = pdr.get_data_yahoo( market, start=start_date, end=end_date)\n",
    "stock = pdr.get_data_yahoo(ticker, start=start_date, end=end_date)\n",
    "sp['ret_sp'] =sp['Adj Close'].pct_change()\n",
    "stock['ret_stock'] =stock['Adj Close'].pct_change()\n",
    "cov=sp['ret_sp'].cov(stock['ret_stock'])\n",
    "print(f\"the covariance between Microsoft and SP500 returns is {cov:.6f}\")\n",
    "var=sp['ret_sp'].var()\n",
    "print(f\"the variance of the SP500 return is {var:.6f}\")\n",
    "beta_MSFT=cov/var\n",
    "print(f\"the beta of Microsoft stock is {beta_MSFT:.3f}\")\n"
   ]
  },
  {
   "cell_type": "code",
   "execution_count": 8,
   "id": "286aaa39",
   "metadata": {},
   "outputs": [
    {
     "name": "stdout",
     "output_type": "stream",
     "text": [
      "expected return on portfolio K is 0.097\n",
      "Treynor ratio of portfolio K is 0.06\n"
     ]
    }
   ],
   "source": [
    "# use CAPM to calculate expected return \n",
    "beta=0.95\n",
    "rf=0.04\n",
    "rm=0.1\n",
    "r=rf+beta*(rm-rf)\n",
    "print(\"expected return on portfolio K is\",round(r,4))\n",
    "\n",
    "# Treynor ratio\n",
    "TR=(r-rf)/beta\n",
    "print(\"Treynor ratio of portfolio K is\",round(TR,3)) \n"
   ]
  },
  {
   "cell_type": "code",
   "execution_count": 9,
   "id": "53ec82f8",
   "metadata": {},
   "outputs": [
    {
     "name": "stdout",
     "output_type": "stream",
     "text": [
      "market return is 0.18\n"
     ]
    }
   ],
   "source": [
    "# use CAPM to calculate market return\n",
    "r=0.2\n",
    "beta=1.2\n",
    "rf=0.08\n",
    "rm=(r-rf)/beta+rf\n",
    "print(\"market return is\",round(rm,2))\n"
   ]
  },
  {
   "cell_type": "code",
   "execution_count": 10,
   "id": "ea76dd3e",
   "metadata": {},
   "outputs": [
    {
     "name": "stdout",
     "output_type": "stream",
     "text": [
      "the expected return on asset A is 0.1000\n",
      "the expected return on asset B is 0.0800\n",
      "the expected return on asset C is 0.0900\n",
      "there is an arbitrage opportunity for asset A\n",
      "there is an arbitrage opportunity for asset B\n",
      "there is an arbitrage opportunity for asset C\n"
     ]
    }
   ],
   "source": [
    "# use APT to calculate expected asset returns\n",
    "beta_A1, beta_A2 = 1.5, 0.5\n",
    "beta_B1, beta_B2 = 0.5, 1.5\n",
    "beta_C1, beta_C2 = 1.0, 1.0\n",
    "premium1, premium2 = 0.04, 0.02\n",
    "rf=0.03\n",
    "APT_ret_A=rf+beta_A1*premium1+beta_A2*premium2\n",
    "APT_ret_B=rf+beta_B1*premium1+beta_B2*premium2\n",
    "APT_ret_C=rf+beta_C1*premium1+beta_C2*premium2\n",
    "print(f\"the expected return on asset A is {APT_ret_A:.4f}\")\n",
    "print(f\"the expected return on asset B is {APT_ret_B:.4f}\")\n",
    "print(f\"the expected return on asset C is {APT_ret_C:.4f}\")\n",
    "# determine if there is arbitrage opportunity\n",
    "ret_A, ret_B, ret_C = 0.09, 0.07, 0.10\n",
    "if ret_A==APT_ret_A:\n",
    "    print(\"there is no arbitrage opportunity for asset A\")\n",
    "else:\n",
    "    print(\"there is an arbitrage opportunity for asset A\")\n",
    "if ret_B==APT_ret_B:\n",
    "    print(\"there is no arbitrage opportunity for asset B\")\n",
    "else:\n",
    "    print(\"there is an arbitrage opportunity for asset B\")\n",
    "if ret_C==APT_ret_C:\n",
    "    print(\"there is no arbitrage opportunity for asset C\")\n",
    "else:\n",
    "    print(\"there is an arbitrage opportunity for asset C\")\n"
   ]
  },
  {
   "cell_type": "code",
   "execution_count": 11,
   "id": "8bd1a510",
   "metadata": {},
   "outputs": [
    {
     "name": "stdout",
     "output_type": "stream",
     "text": [
      "the expected return on the stock is 0.1230\n"
     ]
    }
   ],
   "source": [
    "# use 3-factor model to calculate the expected return\n",
    "rf=0.02\n",
    "rmrf, smb, hml = 0.06, 0.02, 0.03\n",
    "loading_m, loading_s, loading_h = 1.2, 0.5, 0.7\n",
    "exp_ret = rf + loading_m*rmrf + loading_s*smb + loading_h*hml\n",
    "print(f\"the expected return on the stock is {exp_ret:.4f}\")\n"
   ]
  },
  {
   "cell_type": "code",
   "execution_count": null,
   "id": "3b910303",
   "metadata": {},
   "outputs": [],
   "source": []
  },
  {
   "cell_type": "code",
   "execution_count": null,
   "id": "d13c85f9",
   "metadata": {},
   "outputs": [],
   "source": []
  },
  {
   "cell_type": "code",
   "execution_count": null,
   "id": "3d049532-8ed5-4f33-86e2-88eb3b40f716",
   "metadata": {},
   "outputs": [],
   "source": []
  },
  {
   "cell_type": "code",
   "execution_count": null,
   "id": "85d88b25",
   "metadata": {},
   "outputs": [],
   "source": []
  }
 ],
 "metadata": {
  "kernelspec": {
   "display_name": "Python 3 (ipykernel)",
   "language": "python",
   "name": "python3"
  },
  "language_info": {
   "codemirror_mode": {
    "name": "ipython",
    "version": 3
   },
   "file_extension": ".py",
   "mimetype": "text/x-python",
   "name": "python",
   "nbconvert_exporter": "python",
   "pygments_lexer": "ipython3",
   "version": "3.9.12"
  }
 },
 "nbformat": 4,
 "nbformat_minor": 5
}
