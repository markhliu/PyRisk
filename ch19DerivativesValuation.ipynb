{
 "cells": [
  {
   "cell_type": "markdown",
   "id": "7a3a1c4d",
   "metadata": {},
   "source": [
    "# Chapter 19: Derivative Valuation Models\n",
    "\n",
    "\n",
    "In this chapter, we start with option pricing using binomial trees, then move on to the classical Black-Scholes-Merton (BSM) option pricing model. We also cover the basic valuation model for forwards and futures, and finally, we discuss the pricing of credit default swaps (CDSs).\n",
    "\n",
    "Chapter Objectives\n",
    "\n",
    "1. Understand binomial option pricing\n",
    "2. Explore the Black-Scholes-Merton option pricing model\n",
    "3. Learn how to price forwards and futures\n",
    "4. Discuss the pricing of credit default swaps"
   ]
  },
  {
   "cell_type": "code",
   "execution_count": 1,
   "id": "9e028ab2",
   "metadata": {},
   "outputs": [
    {
     "name": "stdout",
     "output_type": "stream",
     "text": [
      "the option payoffs are:\n",
      "{'upstate': 20, 'downstate': 0}\n"
     ]
    }
   ],
   "source": [
    "# Stock payoffs in different states\n",
    "stock_payoffs = {\"upstate\":120, \"downstate\":80}\n",
    "\n",
    "# Strike price is $100\n",
    "X = 100\n",
    "# Calculate the option payoffs in the future\n",
    "option_payoffs = {}\n",
    "for key, value in stock_payoffs.items():\n",
    "    option_payoffs[key] = max(value-X,0)\n",
    "print(\"the option payoffs are:\")   \n",
    "print(option_payoffs)\n",
    "\n"
   ]
  },
  {
   "cell_type": "code",
   "execution_count": 2,
   "id": "239106e5",
   "metadata": {},
   "outputs": [
    {
     "name": "stdout",
     "output_type": "stream",
     "text": [
      "the replicating portfolio payoffs are:\n",
      "{'upstate': 20.0, 'downstate': 0.0}\n",
      "the cost of the replicating portfolio is 13.63636363636364\n",
      "the price of the option is 13.63636363636364\n"
     ]
    }
   ],
   "source": [
    "# Create a replicating portfolio\n",
    "num_stock = 0.5\n",
    "debt_fv = 40\n",
    "\n",
    "# Calculate the option payoffs in the future\n",
    "repli_payoffs = {}\n",
    "for key, value in stock_payoffs.items():\n",
    "    repli_payoffs[key] = value*num_stock - debt_fv\n",
    "print(\"the replicating portfolio payoffs are:\")   \n",
    "print(repli_payoffs)\n",
    "\n",
    "# Calculate the cost of the replicating portfolio\n",
    "stock_price = 100\n",
    "r = 0.1\n",
    "repli_price = num_stock*stock_price - debt_fv/(1+r)\n",
    "\n",
    "# Option price should be the same\n",
    "option_price = repli_price\n",
    "print('the cost of the replicating portfolio is', repli_price)\n",
    "print('the price of the option is', option_price)\n",
    "\n"
   ]
  },
  {
   "cell_type": "code",
   "execution_count": 3,
   "id": "a7e0712d",
   "metadata": {},
   "outputs": [
    {
     "name": "stdout",
     "output_type": "stream",
     "text": [
      "the hedging portfolio payoffs are:\n",
      "{'upstate': 40.0, 'downstate': 40.0}\n"
     ]
    }
   ],
   "source": [
    "# Create a hedging portfolio\n",
    "num_stock = 0.5\n",
    "num_option = -1\n",
    "\n",
    "# Calculate the hedging portfolio payoffs \n",
    "hedge_payoffs = {}\n",
    "for key, value in stock_payoffs.items():\n",
    "    hedge_payoffs[key] = value*num_stock + \\\n",
    "    option_payoffs[key]*num_option\n",
    "print(\"the hedging portfolio payoffs are:\")   \n",
    "print(hedge_payoffs)\n",
    "\n"
   ]
  },
  {
   "cell_type": "code",
   "execution_count": 4,
   "id": "e4980a92",
   "metadata": {},
   "outputs": [
    {
     "name": "stdout",
     "output_type": "stream",
     "text": [
      "the option price is 13.806503278561621\n"
     ]
    }
   ],
   "source": [
    "# One period binomial option pricing\n",
    "import math\n",
    "\n",
    "# Parameter values\n",
    "S0 = 100\n",
    "u = 1.2\n",
    "d = 0.8\n",
    "r = 0.1\n",
    "T = 1\n",
    "c_u = 20\n",
    "c_d = 0\n",
    "\n",
    "# Calcualte option price\n",
    "rho = (math.exp(r*T)-d)/(u-d)\n",
    "c = math.exp(-r*T)*(rho*c_u+(1-rho)*c_d)\n",
    "print('the option price is', c)\n",
    "\n"
   ]
  },
  {
   "cell_type": "code",
   "execution_count": 5,
   "id": "b40e6d1a",
   "metadata": {},
   "outputs": [
    {
     "name": "stdout",
     "output_type": "stream",
     "text": [
      "the option price at time 1 on the up node is 30.37\n",
      "the option price at time 1 on the down node is 0.0\n",
      "the option price at time 0 is 20.97\n"
     ]
    }
   ],
   "source": [
    "# Two period binomial option pricing\n",
    "import math\n",
    "\n",
    "# Parameter values\n",
    "S0 = 100\n",
    "u = 1.2\n",
    "d = 0.8\n",
    "r = 0.1\n",
    "T = 1\n",
    "c_uu = 44\n",
    "c_ud = 0\n",
    "c_du = 0\n",
    "c_dd = 0\n",
    "\n",
    "# Calcualte option price at time 1\n",
    "rho = (math.exp(r*T)-d)/(u-d)\n",
    "c_u = math.exp(-r*T)*(rho*c_uu+(1-rho)*c_ud)\n",
    "c_d = math.exp(-r*T)*(rho*c_du+(1-rho)*c_dd)\n",
    "print('the option price at time 1 on the up node is', round(c_u,2))\n",
    "print('the option price at time 1 on the down node is', round(c_d,2))  \n",
    "\n",
    "# Calcualte option price at time 0\n",
    "c = math.exp(-r*T)*(rho*c_u+(1-rho)*c_d)\n",
    "print('the option price at time 0 is', round(c,2))\n"
   ]
  },
  {
   "cell_type": "code",
   "execution_count": 6,
   "id": "4671c023",
   "metadata": {},
   "outputs": [
    {
     "name": "stdout",
     "output_type": "stream",
     "text": [
      "the value of d1 is 1.2571159009255848\n",
      "the value of d2 is 1.1156945446882756\n",
      "the value of call option is 7.29\n",
      "the value of put option is 0.34\n"
     ]
    }
   ],
   "source": [
    "from scipy.stats import norm\n",
    "from numpy import exp, log, sqrt\n",
    "import numpy as np\n",
    "from scipy.optimize import minimize\n",
    "\n",
    "S0 = 45\n",
    "std_s = 0.2\n",
    "r = 0.1\n",
    "T = 0.5\n",
    "K = 40\n",
    "\n",
    "def d1(s,r,t,x,std):\n",
    "    return (log(s/x)+(r+0.5*std**2)*t)/(std*sqrt(t))\n",
    "\n",
    "def d2(s,r,t,x,std):\n",
    "    return (log(s/x)+(r-0.5*std**2)*t)/(std*sqrt(t))\n",
    "    \n",
    "d_1 = d1(S0, r, T, K, std_s)\n",
    "d_2 = d2(S0, r, T, K, std_s)\n",
    "\n",
    "# Print out results\n",
    "print(\"the value of d1 is\", d_1)\n",
    "print(\"the value of d2 is\", d_2)  \n",
    "\n",
    "# Define the call and put option price functions\n",
    "def c_bsm(s,r,t,x,std):\n",
    "    d_1 = d1(s,r,t,x,std)\n",
    "    d_2 = d2(s,r,t,x,std)\n",
    "    c = S0*norm.cdf(d_1)-K*exp(-r*T)*norm.cdf(d_2)\n",
    "    return c\n",
    "\n",
    "def p_bsm(s,r,t,x,std):\n",
    "    d_1 = d1(s,r,t,x,std)\n",
    "    d_2 = d2(s,r,t,x,std)\n",
    "    p = K*exp(-r*T)*norm.cdf(-d_2)-S0*norm.cdf(-d_1)\n",
    "    return p\n",
    "\n",
    "# Print out results\n",
    "c = c_bsm(S0, r, T, K, std_s)\n",
    "p = p_bsm(S0, r, T, K, std_s)\n",
    "print(\"the value of call option is\", round(c,2))\n",
    "print(\"the value of put option is\", round(p,2))\n"
   ]
  },
  {
   "cell_type": "code",
   "execution_count": 7,
   "id": "01692b60",
   "metadata": {},
   "outputs": [
    {
     "name": "stdout",
     "output_type": "stream",
     "text": [
      "the forward price is 663.1\n"
     ]
    }
   ],
   "source": [
    "# Parameter values\n",
    "S0 = 600\n",
    "r = 0.1\n",
    "T = 1\n",
    "\n",
    "# Calcualte forward price\n",
    "forward_price = S0*math.exp(r*T)\n",
    "print(\"the forward price is\", round(forward_price,2))\n",
    "\n"
   ]
  },
  {
   "cell_type": "code",
   "execution_count": 8,
   "id": "ad0f0280",
   "metadata": {},
   "outputs": [
    {
     "name": "stdout",
     "output_type": "stream",
     "text": [
      "the forward price with dividend is 631.56\n"
     ]
    }
   ],
   "source": [
    "# Forward price when there is dividend payment\n",
    "import math\n",
    "\n",
    "S0 = 600\n",
    "r = 0.1\n",
    "T = 1\n",
    "# Dividend payment date\n",
    "tao = 0.5 \n",
    "# Dividend amount\n",
    "D = 30 \n",
    "\n",
    "# Calcualte forward price\n",
    "forward_price_d = (S0 - D*math.exp(-r*tao))*math.exp(r*T)\n",
    "print(\"the forward price with dividend is\", round(forward_price_d,2))\n",
    "\n"
   ]
  },
  {
   "cell_type": "code",
   "execution_count": 9,
   "id": "6cfec760",
   "metadata": {},
   "outputs": [
    {
     "name": "stdout",
     "output_type": "stream",
     "text": [
      "the forward price with storage cost is 729.41\n"
     ]
    }
   ],
   "source": [
    "# Forward price with storage cost\n",
    "import math\n",
    "\n",
    "S0 = 600\n",
    "r = 0.1\n",
    "T = 1\n",
    "# Storage cost\n",
    "C = S0 * 0.1 \n",
    "\n",
    "# Calcualte forward price\n",
    "forward_price_s = (S0 + C)*math.exp(r*T)\n",
    "print(\"the forward price with storage cost is\", round(forward_price_s,2))\n",
    "\n"
   ]
  },
  {
   "cell_type": "code",
   "execution_count": 10,
   "id": "7539d26a",
   "metadata": {},
   "outputs": [
    {
     "name": "stdout",
     "output_type": "stream",
     "text": [
      "   yr  p_default  p_survive      e_pv  recovery    payoff  pv_payoff\n",
      "1   1   0.030000   0.970000  0.923810       0.2  0.024000   0.022857\n",
      "2   2   0.029100   0.940900  0.853424       0.2  0.023280   0.021116\n",
      "3   3   0.028227   0.912673  0.788401       0.2  0.022582   0.019507\n",
      "4   4   0.027380   0.885293  0.728333       0.2  0.021904   0.018021\n",
      "5   5   0.026559   0.858734  0.672841       0.2  0.021247   0.016648\n",
      "the CDS spread is 0.02474\n"
     ]
    }
   ],
   "source": [
    "import numpy as np\n",
    "import pandas as pd\n",
    "                \n",
    "dfs= pd.DataFrame(index=[1,2,3,4,5],\n",
    "                  columns=['yr'])\n",
    "\n",
    "dfs['yr']=dfs.index\n",
    "\n",
    "dfs['p_default']=0.03\n",
    "dfs['p_survive']=0.97\n",
    "\n",
    "\n",
    "for i in (2,3,4,5):\n",
    "    dfs.at[i,'p_default']=dfs.at[i-1,'p_survive']*0.03\n",
    "    dfs.at[i,'p_survive']=dfs.at[i-1,'p_survive']-dfs.at[i,'p_default']  \n",
    "\n",
    "for i in (1,2,3,4,5):\n",
    "    dfs.at[i,'e_pv']=dfs.at[i,'p_survive']/1.05**i\n",
    "\n",
    "dfs['recovery']=0.2\n",
    "for i in (1,2,3,4,5):\n",
    "    dfs.at[i,'payoff']=dfs.at[i,'p_default']*(1-dfs.at[i,'recovery'])\n",
    "\n",
    "for i in (1,2,3,4,5):\n",
    "    dfs.at[i,'pv_payoff']=dfs.at[i,'payoff']/1.05**i\n",
    "\n",
    "print(dfs)\n",
    "\n",
    "e_pv_sum = dfs['e_pv'].sum()\n",
    "pv_payoff_sum = dfs['pv_payoff'].sum()\n",
    "\n",
    "CDS_spread = pv_payoff_sum/e_pv_sum\n",
    "\n",
    "print(\"the CDS spread is\", round(CDS_spread,5))\n"
   ]
  },
  {
   "cell_type": "code",
   "execution_count": null,
   "id": "e2d33642",
   "metadata": {},
   "outputs": [],
   "source": []
  }
 ],
 "metadata": {
  "kernelspec": {
   "display_name": "Python 3 (ipykernel)",
   "language": "python",
   "name": "python3"
  },
  "language_info": {
   "codemirror_mode": {
    "name": "ipython",
    "version": 3
   },
   "file_extension": ".py",
   "mimetype": "text/x-python",
   "name": "python",
   "nbconvert_exporter": "python",
   "pygments_lexer": "ipython3",
   "version": "3.9.12"
  }
 },
 "nbformat": 4,
 "nbformat_minor": 5
}
