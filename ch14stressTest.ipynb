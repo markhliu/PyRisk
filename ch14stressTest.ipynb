{
 "cells": [
  {
   "cell_type": "markdown",
   "metadata": {},
   "source": [
    "# Ch14: Stress Tests"
   ]
  },
  {
   "cell_type": "code",
   "execution_count": 26,
   "metadata": {},
   "outputs": [
    {
     "name": "stdout",
     "output_type": "stream",
     "text": [
      "the firm's stressed VaR is -4.802320744736841\n"
     ]
    }
   ],
   "source": [
    "from datetime import date, timedelta\n",
    "\n",
    "import statsmodels.api as sm\n",
    "from pandas_datareader import data as pdr\n",
    "\n",
    "# Set the start and end dates\n",
    "start_date = \"2008-07-01\" \n",
    "end_date = \"2009-06-29\"\n",
    "# Retieve prices\n",
    "SPY = pdr.get_data_yahoo(\"SPY\", start = start_date, end = end_date)\n",
    "LQD = pdr.get_data_yahoo(\"LQD\", start = start_date, end = end_date)\n",
    "HYG = pdr.get_data_yahoo(\"HYG\", start = start_date, end = end_date)\n",
    "\n",
    "# Calculate returns\n",
    "SPY['ret_spy'] =(SPY['Adj Close']/SPY['Adj Close'].shift(1))\n",
    "LQD['ret_lqd'] =(LQD['Adj Close']/LQD['Adj Close'].shift(1))\n",
    "HYG['ret_hyg'] =(HYG['Adj Close']/HYG['Adj Close'].shift(1))\n",
    "\n",
    "# Merge the three datasets, keep only returns\n",
    "df  = SPY[['ret_spy']].merge(LQD[['ret_lqd']],left_index=True, right_index=True) \n",
    "df  = df.merge(HYG[['ret_hyg']],left_index=True, right_index=True) \n",
    "df = df.iloc[1: , :]\n",
    "# Calculate portfolio value and gain/loss in each scenario\n",
    "df['port_value'] = 40*df['ret_spy'] + 30*df['ret_lqd'] + 30*df['ret_hyg'] \n",
    "df['gain_loss'] = df['port_value'] - 100\n",
    "# Calcuate one percentile value\n",
    "Stressed_VaR = df['gain_loss'].quantile([0.01])\n",
    "print(\"the firm's stressed VaR is\", Stressed_VaR[0.01])"
   ]
  },
  {
   "cell_type": "code",
   "execution_count": 29,
   "metadata": {},
   "outputs": [
    {
     "name": "stdout",
     "output_type": "stream",
     "text": [
      "             ret_spy   ret_lqd   ret_hyg  port_value  gain_loss\n",
      "Date                                                           \n",
      "2008-09-17  0.955037  0.954190  0.939940   95.025359  -4.974641\n",
      "2008-09-29  0.921639  0.908889  0.919026   91.702990  -8.297010\n",
      "2008-10-15  0.901552  1.000000  0.956363   94.752992  -5.247008\n",
      "the firm's stressed ES is -6.172886542392632\n"
     ]
    }
   ],
   "source": [
    "# Keep obsrevations that the gain/loss is beyond VaR\n",
    "df_es = df[df['gain_loss']<Stressed_VaR[0.01]]\n",
    "print(df_es)\n",
    "Stressed_ES = df_es['gain_loss'].mean()\n",
    "# Print out the value\n",
    "print(\"the firm's stressed ES is\", Stressed_ES)"
   ]
  },
  {
   "cell_type": "markdown",
   "metadata": {},
   "source": [
    "Question 1:"
   ]
  },
  {
   "cell_type": "code",
   "execution_count": 1,
   "metadata": {},
   "outputs": [
    {
     "name": "stdout",
     "output_type": "stream",
     "text": [
      "the firm's stressed VaR is -5.965214654810396\n"
     ]
    }
   ],
   "source": [
    "from datetime import date, timedelta\n",
    "\n",
    "import statsmodels.api as sm\n",
    "from pandas_datareader import data as pdr\n",
    "\n",
    "# Set the start and end dates\n",
    "start_date = \"2008-07-01\" \n",
    "end_date = \"2009-06-29\"\n",
    "# Retieve prices\n",
    "SPY = pdr.get_data_yahoo(\"SPY\", start = start_date, end = end_date)\n",
    "HYG = pdr.get_data_yahoo(\"HYG\", start = start_date, end = end_date)\n",
    "\n",
    "# Calculate returns\n",
    "SPY['ret_spy'] =(SPY['Adj Close']/SPY['Adj Close'].shift(1))\n",
    "HYG['ret_hyg'] =(HYG['Adj Close']/HYG['Adj Close'].shift(1))\n",
    "\n",
    "# Merge the three datasets, keep only returns\n",
    "df  = SPY[['ret_spy']].merge(HYG[['ret_hyg']],left_index=True, right_index=True) \n",
    "df = df.iloc[1: , :]\n",
    "# Calculate portfolio value and gain/loss in each scenario\n",
    "df['port_value'] = 60*df['ret_spy'] + 40*df['ret_hyg'] \n",
    "df['gain_loss'] = df['port_value'] - 100\n",
    "# Calcuate one percentile value\n",
    "Stressed_VaR = df['gain_loss'].quantile([0.01])\n",
    "print(\"the firm's stressed VaR is\", Stressed_VaR[0.01])"
   ]
  },
  {
   "cell_type": "code",
   "execution_count": 2,
   "metadata": {},
   "outputs": [
    {
     "name": "stdout",
     "output_type": "stream",
     "text": [
      "             ret_spy   ret_hyg  port_value  gain_loss\n",
      "Date                                                 \n",
      "2008-09-29  0.921639  0.919025   92.059324  -7.940676\n",
      "2008-10-15  0.901552  0.956363   92.347654  -7.652346\n",
      "2008-12-01  0.911422  0.979375   93.860344  -6.139656\n",
      "the firm's stressed ES is -7.244225915542174\n"
     ]
    }
   ],
   "source": [
    "# Keep obsrevations that the gain/loss is beyond VaR\n",
    "df_es = df[df['gain_loss']<Stressed_VaR[0.01]]\n",
    "print(df_es)\n",
    "Stressed_ES = df_es['gain_loss'].mean()\n",
    "# Print out the value\n",
    "print(\"the firm's stressed ES is\", Stressed_ES)"
   ]
  },
  {
   "cell_type": "code",
   "execution_count": null,
   "metadata": {},
   "outputs": [],
   "source": []
  }
 ],
 "metadata": {
  "kernelspec": {
   "display_name": "Python 3 (ipykernel)",
   "language": "python",
   "name": "python3"
  },
  "language_info": {
   "codemirror_mode": {
    "name": "ipython",
    "version": 3
   },
   "file_extension": ".py",
   "mimetype": "text/x-python",
   "name": "python",
   "nbconvert_exporter": "python",
   "pygments_lexer": "ipython3",
   "version": "3.11.3"
  }
 },
 "nbformat": 4,
 "nbformat_minor": 4
}
