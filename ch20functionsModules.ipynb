{
 "cells": [
  {
   "cell_type": "markdown",
   "metadata": {},
   "source": [
    "# Chapter 20: Python Functions and Modules"
   ]
  },
  {
   "cell_type": "code",
   "execution_count": 1,
   "metadata": {},
   "outputs": [
    {
     "name": "stdout",
     "output_type": "stream",
     "text": [
      "-10\n",
      "-5\n",
      "0\n",
      "5\n"
     ]
    }
   ],
   "source": [
    "for x in range(-10, 10, 5):\n",
    "    print(x)"
   ]
  },
  {
   "cell_type": "code",
   "execution_count": 2,
   "metadata": {},
   "outputs": [
    {
     "name": "stdout",
     "output_type": "stream",
     "text": [
      "0.1\n",
      "0.2\n",
      "0.30000000000000004\n",
      "0.4\n",
      "0.5\n",
      "0.6\n",
      "0.7000000000000001\n",
      "0.8\n",
      "0.9\n",
      "1.0\n"
     ]
    }
   ],
   "source": [
    "for x in [i*0.1+0.1 for i in range(10)]:\n",
    "    print(x)"
   ]
  },
  {
   "cell_type": "code",
   "execution_count": 3,
   "metadata": {},
   "outputs": [
    {
     "name": "stdout",
     "output_type": "stream",
     "text": [
      "What is your favorite number?6\n",
      "Your favorite number is 6.\n"
     ]
    }
   ],
   "source": [
    "number = input('What is your favorite number?')\n",
    "print(f'Your favorite number is {number}.')"
   ]
  },
  {
   "cell_type": "code",
   "execution_count": 4,
   "metadata": {},
   "outputs": [
    {
     "name": "stdout",
     "output_type": "stream",
     "text": [
      "Which city do you live in?\n",
      "Cincinnati\n",
      "What is your zip code?\n",
      "45221\n",
      "You live in Cincinnati with zip code 45221.\n"
     ]
    }
   ],
   "source": [
    "city = input('Which city do you live in?\\n')\n",
    "zip_code = input('What is your zip code?\\n')\n",
    "print(f'You live in {city} with zip code {zip_code}.')"
   ]
  },
  {
   "cell_type": "code",
   "execution_count": 10,
   "metadata": {},
   "outputs": [
    {
     "name": "stdout",
     "output_type": "stream",
     "text": [
      "Help on built-in function max in module builtins:\n",
      "\n",
      "max(...)\n",
      "    max(iterable, *[, default=obj, key=func]) -> value\n",
      "    max(arg1, arg2, *args, *[, key=func]) -> value\n",
      "    \n",
      "    With a single iterable argument, return its biggest item. The\n",
      "    default keyword-only argument specifies an object to return if\n",
      "    the provided iterable is empty.\n",
      "    With two or more arguments, return the largest argument.\n",
      "\n"
     ]
    }
   ],
   "source": [
    "help(max)"
   ]
  },
  {
   "cell_type": "code",
   "execution_count": 12,
   "metadata": {},
   "outputs": [
    {
     "name": "stdout",
     "output_type": "stream",
     "text": [
      "3.4011973816621555\n"
     ]
    }
   ],
   "source": [
    "import math\n",
    "print(math.log(30))"
   ]
  },
  {
   "cell_type": "code",
   "execution_count": 13,
   "metadata": {},
   "outputs": [
    {
     "name": "stdout",
     "output_type": "stream",
     "text": [
      "9.011968375907138\n"
     ]
    }
   ],
   "source": [
    "from math import sin, sqrt #\n",
    "print(sin(30)+sqrt(100))"
   ]
  },
  {
   "cell_type": "code",
   "execution_count": 1,
   "metadata": {},
   "outputs": [
    {
     "name": "stdout",
     "output_type": "stream",
     "text": [
      "1\n",
      "2\n",
      "3\n",
      "Hello!\n"
     ]
    }
   ],
   "source": [
    "def greeting(): \n",
    "    print('Hello!') \n",
    "for i in (1,2,3): \n",
    "    print(i)\n",
    "greeting()  "
   ]
  },
  {
   "cell_type": "code",
   "execution_count": 3,
   "metadata": {},
   "outputs": [],
   "source": [
    "def notes(name): \n",
    "    print(f\"Thank you for your help, {name}!\") "
   ]
  },
  {
   "cell_type": "code",
   "execution_count": 4,
   "metadata": {},
   "outputs": [
    {
     "name": "stdout",
     "output_type": "stream",
     "text": [
      "Thank you for your help, Kate!\n",
      "Thank you for your help, John!\n"
     ]
    }
   ],
   "source": [
    "notes(\"Kate\")\n",
    "notes(\"John\")"
   ]
  },
  {
   "cell_type": "code",
   "execution_count": 5,
   "metadata": {},
   "outputs": [
    {
     "name": "stdout",
     "output_type": "stream",
     "text": [
      "42.0\n"
     ]
    }
   ],
   "source": [
    "def StockPrice(div, g, r):\n",
    "    Price = (div*(1+g)/(r-g)) #\n",
    "    return Price #\n",
    "print(StockPrice(2, 0.05, 0.1)) #"
   ]
  },
  {
   "cell_type": "code",
   "execution_count": 6,
   "metadata": {},
   "outputs": [
    {
     "name": "stdout",
     "output_type": "stream",
     "text": [
      "900\n",
      "1900\n"
     ]
    }
   ],
   "source": [
    "def TotalSales(nums):\n",
    "    total = 0 #\n",
    "    for i in range(len(nums)): #\n",
    "        total = total + nums[i] #\n",
    "    return total\n",
    "print(TotalSales([200,300,400]))\n",
    "print(TotalSales([800,900,200]))  "
   ]
  }
 ],
 "metadata": {
  "kernelspec": {
   "display_name": "Python 3 (ipykernel)",
   "language": "python",
   "name": "python3"
  },
  "language_info": {
   "codemirror_mode": {
    "name": "ipython",
    "version": 3
   },
   "file_extension": ".py",
   "mimetype": "text/x-python",
   "name": "python",
   "nbconvert_exporter": "python",
   "pygments_lexer": "ipython3",
   "version": "3.11.3"
  }
 },
 "nbformat": 4,
 "nbformat_minor": 4
}
