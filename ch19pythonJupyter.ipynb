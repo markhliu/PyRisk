{
 "cells": [
  {
   "cell_type": "markdown",
   "metadata": {},
   "source": [
    "# Chapter 19: Installing Python and Jupyter Notebook"
   ]
  },
  {
   "cell_type": "code",
   "execution_count": 1,
   "metadata": {},
   "outputs": [
    {
     "name": "stdout",
     "output_type": "stream",
     "text": [
      "4\n"
     ]
    }
   ],
   "source": [
    "print(2+2)"
   ]
  },
  {
   "cell_type": "code",
   "execution_count": 2,
   "metadata": {},
   "outputs": [
    {
     "name": "stdout",
     "output_type": "stream",
     "text": [
      "Python programming is fun!\n"
     ]
    }
   ],
   "source": [
    "print(\"Python programming is fun!\")"
   ]
  },
  {
   "cell_type": "code",
   "execution_count": 3,
   "metadata": {},
   "outputs": [],
   "source": [
    "# this is my comment"
   ]
  },
  {
   "cell_type": "code",
   "execution_count": 4,
   "metadata": {},
   "outputs": [
    {
     "data": {
      "text/plain": [
       "'\\nMy comment line 1\\nMy comment line 2\\nMy comment line 3\\n'"
      ]
     },
     "execution_count": 4,
     "metadata": {},
     "output_type": "execute_result"
    }
   ],
   "source": [
    "\"\"\"\n",
    "My comment line 1\n",
    "My comment line 2\n",
    "My comment line 3\n",
    "\"\"\""
   ]
  },
  {
   "cell_type": "code",
   "execution_count": 5,
   "metadata": {},
   "outputs": [
    {
     "name": "stdout",
     "output_type": "stream",
     "text": [
      "448\n"
     ]
    }
   ],
   "source": [
    "print(8*56)"
   ]
  },
  {
   "cell_type": "code",
   "execution_count": 6,
   "metadata": {},
   "outputs": [],
   "source": [
    "str1 = 'Financial Risk Management '\n",
    "str2 = \"with Python\""
   ]
  },
  {
   "cell_type": "code",
   "execution_count": 7,
   "metadata": {},
   "outputs": [
    {
     "name": "stdout",
     "output_type": "stream",
     "text": [
      "<class 'str'>\n",
      "<class 'str'>\n"
     ]
    }
   ],
   "source": [
    "print(type(str1))\n",
    "print(type(str2))"
   ]
  },
  {
   "cell_type": "code",
   "execution_count": 9,
   "metadata": {},
   "outputs": [
    {
     "name": "stdout",
     "output_type": "stream",
     "text": [
      "Financial Risk Management with Python\n",
      "with Pythonwith Pythonwith Python\n"
     ]
    }
   ],
   "source": [
    "print(str1+str2)\n",
    "print(str2*3)"
   ]
  },
  {
   "cell_type": "code",
   "execution_count": 10,
   "metadata": {},
   "outputs": [],
   "source": [
    "x=12.34\n",
    "y=-56.789"
   ]
  },
  {
   "cell_type": "code",
   "execution_count": 11,
   "metadata": {},
   "outputs": [
    {
     "name": "stdout",
     "output_type": "stream",
     "text": [
      "<class 'float'>\n",
      "<class 'float'>\n",
      "12.34\n",
      "-56.8\n"
     ]
    }
   ],
   "source": [
    "print(type(x))\n",
    "print(type(y))\n",
    "print(round(x,3))\n",
    "print(round(y,1))"
   ]
  },
  {
   "cell_type": "code",
   "execution_count": 12,
   "metadata": {},
   "outputs": [],
   "source": [
    "a=8\n",
    "b=0\n",
    "c=-11"
   ]
  },
  {
   "cell_type": "code",
   "execution_count": 13,
   "metadata": {},
   "outputs": [
    {
     "name": "stdout",
     "output_type": "stream",
     "text": [
      "<class 'int'>\n",
      "<class 'int'>\n",
      "<class 'int'>\n",
      "12.3\n",
      "12.0\n"
     ]
    }
   ],
   "source": [
    "print(type(a))\n",
    "print(type(b))\n",
    "print(type(c))\n",
    "print(round(12.345,1))\n",
    "print(round(12.345,0)) "
   ]
  },
  {
   "cell_type": "code",
   "execution_count": 14,
   "metadata": {},
   "outputs": [
    {
     "name": "stdout",
     "output_type": "stream",
     "text": [
      "False\n",
      "True\n"
     ]
    }
   ],
   "source": [
    "print(5<=4)\n",
    "print(20>10)"
   ]
  },
  {
   "cell_type": "code",
   "execution_count": 15,
   "metadata": {},
   "outputs": [
    {
     "name": "stdout",
     "output_type": "stream",
     "text": [
      "5<=4\n",
      "<class 'bool'>\n",
      "<class 'str'>\n"
     ]
    }
   ],
   "source": [
    "print('5<=4')\n",
    "print(type(5<=5))\n",
    "print(type('5<=4'))"
   ]
  },
  {
   "cell_type": "code",
   "execution_count": 16,
   "metadata": {},
   "outputs": [
    {
     "name": "stdout",
     "output_type": "stream",
     "text": [
      "12\n",
      "-11\n",
      "23.4\n",
      "89.0\n"
     ]
    }
   ],
   "source": [
    "print(int(12.34))\n",
    "print(int(\"-11\")) \n",
    "print(str(23.4))\n",
    "print(float(89))"
   ]
  },
  {
   "cell_type": "code",
   "execution_count": 1,
   "metadata": {},
   "outputs": [
    {
     "name": "stdout",
     "output_type": "stream",
     "text": [
      "1\n",
      "0\n",
      "1.0\n",
      "False\n"
     ]
    }
   ],
   "source": [
    "print(int(True))\n",
    "print(int(False))\n",
    "print(float(True))\n",
    "print(str(False))"
   ]
  },
  {
   "cell_type": "code",
   "execution_count": 2,
   "metadata": {},
   "outputs": [
    {
     "name": "stdout",
     "output_type": "stream",
     "text": [
      "True\n",
      "True\n",
      "False\n",
      "True\n"
     ]
    }
   ],
   "source": [
    "print(bool(1))\n",
    "print(bool(-2))\n",
    "print(bool(0))\n",
    "print(bool('hello'))"
   ]
  },
  {
   "cell_type": "code",
   "execution_count": 8,
   "metadata": {},
   "outputs": [
    {
     "name": "stdout",
     "output_type": "stream",
     "text": [
      "['False', 'None', 'True', 'and', 'as', 'assert', 'async', 'await', 'break', 'class', 'continue', 'def', 'del', 'elif', 'else', 'except', 'finally', 'for', 'from', 'global', 'if', 'import', 'in', 'is', 'lambda', 'nonlocal', 'not', 'or', 'pass', 'raise', 'return', 'try', 'while', 'with', 'yield']\n",
      "['ArithmeticError', 'AssertionError', 'AttributeError', 'BaseException',\n",
      " 'BaseExceptionGroup', 'BlockingIOError', 'BrokenPipeError', 'BufferError',\n",
      " 'BytesWarning', 'ChildProcessError', 'ConnectionAbortedError',\n",
      " 'ConnectionError', 'ConnectionRefusedError', 'ConnectionResetError',\n",
      " 'DeprecationWarning', 'EOFError', 'Ellipsis', 'EncodingWarning',\n",
      " 'EnvironmentError', 'Exception', 'ExceptionGroup', 'False', 'FileExistsError',\n",
      " 'FileNotFoundError', 'FloatingPointError', 'FutureWarning', 'GeneratorExit',\n",
      " 'IOError', 'ImportError', 'ImportWarning', 'IndentationError', 'IndexError',\n",
      " 'InterruptedError', 'IsADirectoryError', 'KeyError', 'KeyboardInterrupt',\n",
      " 'LookupError', 'MemoryError', 'ModuleNotFoundError', 'NameError', 'None',\n",
      " 'NotADirectoryError', 'NotImplemented', 'NotImplementedError', 'OSError',\n",
      " 'OverflowError', 'PendingDeprecationWarning', 'PermissionError',\n",
      " 'ProcessLookupError', 'RecursionError', 'ReferenceError', 'ResourceWarning',\n",
      " 'RuntimeError', 'RuntimeWarning', 'StopAsyncIteration', 'StopIteration',\n",
      " 'SyntaxError', 'SyntaxWarning', 'SystemError', 'SystemExit', 'TabError',\n",
      " 'TimeoutError', 'True', 'TypeError', 'UnboundLocalError', 'UnicodeDecodeError',\n",
      " 'UnicodeEncodeError', 'UnicodeError', 'UnicodeTranslateError',\n",
      " 'UnicodeWarning', 'UserWarning', 'ValueError', 'Warning', 'WindowsError',\n",
      " 'ZeroDivisionError', '__IPYTHON__', '__build_class__', '__debug__', '__doc__',\n",
      " '__import__', '__loader__', '__name__', '__package__', '__spec__', 'abs',\n",
      " 'aiter', 'all', 'anext', 'any', 'ascii', 'bin', 'bool', 'breakpoint',\n",
      " 'bytearray', 'bytes', 'callable', 'chr', 'classmethod', 'compile', 'complex',\n",
      " 'copyright', 'credits', 'delattr', 'dict', 'dir', 'display', 'divmod',\n",
      " 'enumerate', 'eval', 'exec', 'execfile', 'filter', 'float', 'format',\n",
      " 'frozenset', 'get_ipython', 'getattr', 'globals', 'hasattr', 'hash', 'help',\n",
      " 'hex', 'id', 'input', 'int', 'isinstance', 'issubclass', 'iter', 'len',\n",
      " 'license', 'list', 'locals', 'map', 'max', 'memoryview', 'min', 'next',\n",
      " 'object', 'oct', 'open', 'ord', 'pow', 'print', 'property', 'range', 'repr',\n",
      " 'reversed', 'round', 'runfile', 'set', 'setattr', 'slice', 'sorted',\n",
      " 'staticmethod', 'str', 'sum', 'super', 'tuple', 'type', 'vars', 'zip']\n"
     ]
    }
   ],
   "source": [
    "from keyword import kwlist\n",
    "from pprint import pprint\n",
    "\n",
    "print(kwlist)\n",
    "pprint(dir(__builtins__), compact=True)"
   ]
  },
  {
   "cell_type": "code",
   "execution_count": 9,
   "metadata": {},
   "outputs": [
    {
     "name": "stdout",
     "output_type": "stream",
     "text": [
      "x is nonnegative\n"
     ]
    }
   ],
   "source": [
    "x=10\n",
    "if x>=0:\n",
    "    print('x is nonnegative')\n",
    "else: \n",
    "    print('x is negative')"
   ]
  },
  {
   "cell_type": "code",
   "execution_count": 10,
   "metadata": {},
   "outputs": [
    {
     "name": "stdout",
     "output_type": "stream",
     "text": [
      "y is positive\n"
     ]
    }
   ],
   "source": [
    "y=10\n",
    "if y>0:\n",
    "    print('y is positive')\n",
    "elif y==0:\n",
    "    print('y is zero')\n",
    "else: \n",
    "    print('y is negative')"
   ]
  },
  {
   "cell_type": "code",
   "execution_count": 11,
   "metadata": {},
   "outputs": [
    {
     "name": "stdout",
     "output_type": "stream",
     "text": [
      "letter grade is C\n"
     ]
    }
   ],
   "source": [
    "number_grade = 75\n",
    "if number_grade < 70:\n",
    "    print('letter grade is E')\n",
    "elif number_grade < 80:\n",
    "    print('letter grade is C')\n",
    "elif number_grade < 90:\n",
    "    print('letter grade is B')\n",
    "else:\n",
    "    print('letter grade is A')"
   ]
  },
  {
   "cell_type": "code",
   "execution_count": 14,
   "metadata": {},
   "outputs": [
    {
     "name": "stdout",
     "output_type": "stream",
     "text": [
      "3\n",
      "2\n",
      "1\n",
      "0\n",
      "Lift off!\n"
     ]
    }
   ],
   "source": [
    "t=4\n",
    "while t>0: #\n",
    "   t=t-1 #\n",
    "   print(t) #\n",
    "print('Lift off!') #"
   ]
  },
  {
   "cell_type": "code",
   "execution_count": 15,
   "metadata": {},
   "outputs": [
    {
     "name": "stdout",
     "output_type": "stream",
     "text": [
      "3\n",
      "2\n",
      "1\n",
      "0\n",
      "Lift off!\n"
     ]
    }
   ],
   "source": [
    "for t in range(4,0,-1): #\n",
    "    t=t-1 \n",
    "    print(t)\n",
    "print('Lift off!')"
   ]
  },
  {
   "cell_type": "code",
   "execution_count": 16,
   "metadata": {},
   "outputs": [
    {
     "name": "stdout",
     "output_type": "stream",
     "text": [
      "this is x1\n",
      "this is x2\n",
      "this is x3\n",
      "this is y1\n",
      "this is y2\n",
      "this is y3\n"
     ]
    }
   ],
   "source": [
    "for letter in (\"x\",\"y\"): #\n",
    "    for num in (1,2,3): #\n",
    "        print(f\"this is {letter}{num}\")"
   ]
  },
  {
   "cell_type": "code",
   "execution_count": 18,
   "metadata": {},
   "outputs": [
    {
     "name": "stdout",
     "output_type": "stream",
     "text": [
      "3\n",
      "2\n",
      "0\n",
      "end of the program\n"
     ]
    }
   ],
   "source": [
    "for t in range(4,0,-1):\n",
    "    t=t-1\n",
    "    if t==1:\n",
    "        continue\n",
    "    print(t) #\n",
    "print('end of the program')"
   ]
  },
  {
   "cell_type": "code",
   "execution_count": 19,
   "metadata": {},
   "outputs": [
    {
     "name": "stdout",
     "output_type": "stream",
     "text": [
      "3\n",
      "2\n",
      "end of the program\n"
     ]
    }
   ],
   "source": [
    "for t in range(4,0,-1):\n",
    "    t=t-1\n",
    "    if t==1:\n",
    "        break\n",
    "    print(t) #\n",
    "print('end of the program')"
   ]
  },
  {
   "cell_type": "code",
   "execution_count": 20,
   "metadata": {},
   "outputs": [
    {
     "name": "stdout",
     "output_type": "stream",
     "text": [
      "3\n",
      "2\n",
      "1\n",
      "0\n",
      "end of the program\n"
     ]
    }
   ],
   "source": [
    "for t in range(4,0,-1):\n",
    "    t=t-1\n",
    "    if t==1:\n",
    "        pass\n",
    "    print(t)\n",
    "print('end of the program')"
   ]
  }
 ],
 "metadata": {
  "kernelspec": {
   "display_name": "Python 3 (ipykernel)",
   "language": "python",
   "name": "python3"
  },
  "language_info": {
   "codemirror_mode": {
    "name": "ipython",
    "version": 3
   },
   "file_extension": ".py",
   "mimetype": "text/x-python",
   "name": "python",
   "nbconvert_exporter": "python",
   "pygments_lexer": "ipython3",
   "version": "3.11.3"
  }
 },
 "nbformat": 4,
 "nbformat_minor": 4
}
