{
 "cells": [
  {
   "cell_type": "markdown",
   "id": "7a3a1c4d",
   "metadata": {},
   "source": [
    "# Chapter 5: Risk Management and Firm Value\n",
    "\n",
    "\n",
    "This chapter explores the standard procedures of risk management and its impact on enhancing firm value. We start by examining how efficient risk management can increase firm value by reducing costs and improving firm productivity. Other ways of increasing firm value include enhancing operational efficiency and reducing financial burdens. Overall, we demonstrate that risk management is pivotal in boosting shareholder value through increased future cash flows or lower discount rates.\n",
    "\n",
    "Chapter Objectives:\n",
    "\n",
    "1. Understand the risk management process\n",
    "2. Explore the relationship between firm value and risk management\n",
    "3. Analyze the impact of risk management on expected cash flows: \n",
    "  * The effect of risk management on the external cost of capital\n",
    "  * The influence of risk management on costs related to financial distress\n",
    "  * The impact of risk management on tax obligations "
   ]
  },
  {
   "cell_type": "code",
   "execution_count": 1,
   "id": "0abcb57d",
   "metadata": {},
   "outputs": [
    {
     "name": "stdout",
     "output_type": "stream",
     "text": [
      "Collecting numpy_financial\n",
      "  Using cached numpy_financial-1.0.0-py3-none-any.whl (14 kB)\n",
      "Requirement already satisfied: numpy>=1.15 in c:\\users\\hlliu2\\appdata\\roaming\\python\\python39\\site-packages (from numpy_financial) (1.23.5)\n",
      "Installing collected packages: numpy_financial\n",
      "Successfully installed numpy_financial-1.0.0\n"
     ]
    }
   ],
   "source": [
    "!pip install numpy_financial"
   ]
  },
  {
   "cell_type": "code",
   "execution_count": 2,
   "id": "bb92ce42",
   "metadata": {},
   "outputs": [
    {
     "name": "stdout",
     "output_type": "stream",
     "text": [
      "The firm value is 73.03 million dollars\n"
     ]
    }
   ],
   "source": [
    "cfs = [0, 20, 30, 40]\n",
    "V = 0\n",
    "R = 0.1\n",
    "for i in range(len(cfs)):\n",
    "    V += cfs[i]/((1+R)**i)\n",
    "V = round(V,2)\n",
    "print(f\"The firm value is {V} million dollars\")\n"
   ]
  },
  {
   "cell_type": "code",
   "execution_count": 3,
   "id": "566eefe4",
   "metadata": {},
   "outputs": [
    {
     "name": "stdout",
     "output_type": "stream",
     "text": [
      "The firm value is 73.03 million dollars\n"
     ]
    }
   ],
   "source": [
    "import numpy_financial as np\n",
    "cfs = [0, 20, 30, 40]\n",
    "R = 0.1\n",
    "V = np.npv(R, cfs)\n",
    "V = round(V,2)\n",
    "print(f\"The firm value is {V} million dollars\")\n"
   ]
  },
  {
   "cell_type": "code",
   "execution_count": 4,
   "id": "b8d12eeb",
   "metadata": {},
   "outputs": [
    {
     "name": "stdout",
     "output_type": "stream",
     "text": [
      "the firm value is 8.0 million dollars\n"
     ]
    }
   ],
   "source": [
    "cf1 = {10:0.8, (10-6):0.2}\n",
    "expected_cf1 = 0\n",
    "for cf, p in cf1.items():\n",
    "    expected_cf1 += p*cf\n",
    "V = np.npv(R, [0,expected_cf1])\n",
    "V = round(V,2)\n",
    "print(f\"the firm value is {V} million dollars\")\n"
   ]
  },
  {
   "cell_type": "code",
   "execution_count": 5,
   "id": "7d3e4519",
   "metadata": {},
   "outputs": [
    {
     "name": "stdout",
     "output_type": "stream",
     "text": [
      "the firm value is 15.44 million dollars\n"
     ]
    }
   ],
   "source": [
    "cf1 = {10:0.8, (10-6):0.2}\n",
    "expected_cf1 = 0\n",
    "R = 0.1\n",
    "for cf, p in cf1.items():\n",
    "    expected_cf1 += p*cf\n",
    "cf2 = {10:0.8, (10-5):0.2}\n",
    "expected_cf2 = 0\n",
    "for cf, p in cf2.items():\n",
    "    expected_cf2 += p*cf    \n",
    "V = np.npv(R, [0,expected_cf1,expected_cf2])\n",
    "V = round(V,2)\n",
    "print(f\"the firm value is {V} million dollars\")\n"
   ]
  },
  {
   "cell_type": "code",
   "execution_count": 5,
   "id": "618407c6",
   "metadata": {},
   "outputs": [
    {
     "name": "stdout",
     "output_type": "stream",
     "text": [
      "the expected wage cost without insurance is 85000.0\n",
      "the expected wage cost with insurance is 71500.0\n",
      "the increase in cash flow due to risk management is 13500.0\n"
     ]
    }
   ],
   "source": [
    "wages = {100000:0.85, 0:0.15}\n",
    "wages_insured = {70000:0.85, 0:0.15}\n",
    "insurance = 12000\n",
    "\n",
    "expected_wage = 0\n",
    "for wage, p in wages.items():\n",
    "    expected_wage += wage*p\n",
    "expected_wage_insured = 0\n",
    "for wage, p in wages_insured.items():\n",
    "    expected_wage_insured += wage*p\n",
    "print(f\"the expected wage cost without insurance is {expected_wage}\")\n",
    "cost_insured = expected_wage_insured+insurance\n",
    "print(f\"the expected wage cost with insurance is {cost_insured}\")\n",
    "increased_cf = expected_wage - cost_insured\n",
    "print(f\"the increase in cash flow due to risk management is {increased_cf}\")"
   ]
  },
  {
   "cell_type": "code",
   "execution_count": 6,
   "id": "05f81e0b",
   "metadata": {},
   "outputs": [
    {
     "name": "stdout",
     "output_type": "stream",
     "text": [
      "the expected wage cost without insurance is 85000.0\n",
      "the expected wage cost with insurance is 71500.0\n",
      "the increase in cash flow due to risk management is 13500.0\n"
     ]
    }
   ],
   "source": [
    "wages = {100000:0.85, 0:0.15}\n",
    "wages_insured = {70000:0.85, 0:0.15}\n",
    "insurance = 12000\n",
    "\n",
    "expected_wage = 0\n",
    "for wage, p in wages.items():\n",
    "    expected_wage += wage*p\n",
    "expected_wage_insured = 0\n",
    "for wage, p in wages_insured.items():\n",
    "    expected_wage_insured += wage*p\n",
    "print(f\"the expected wage cost without insurance is {expected_wage}\")\n",
    "cost_insured = expected_wage_insured+insurance\n",
    "print(f\"the expected wage cost with insurance is {cost_insured}\")\n",
    "increased_cf = expected_wage - cost_insured\n",
    "print(f\"the increase in cash flow due to risk management is {increased_cf}\")\n"
   ]
  },
  {
   "cell_type": "code",
   "execution_count": 7,
   "id": "6767b3f5",
   "metadata": {},
   "outputs": [
    {
     "name": "stdout",
     "output_type": "stream",
     "text": [
      "the gain from risk management is 5.0 million dollars\n"
     ]
    }
   ],
   "source": [
    "value = {600:0.9, 0:0.1}\n",
    "value_insured = 600\n",
    "tangible_assets = 500\n",
    "expected_value = 0\n",
    "for v, p in value.items():\n",
    "    expected_value += v*p\n",
    "loading = 0.1\n",
    "premium = tangible_assets*0.1*(1+loading)\n",
    "gain = value_insured - premium - expected_value\n",
    "print(f\"the gain from risk management is {gain} million dollars\")\n"
   ]
  },
  {
   "cell_type": "code",
   "execution_count": 8,
   "id": "867e45dc",
   "metadata": {},
   "outputs": [
    {
     "name": "stdout",
     "output_type": "stream",
     "text": [
      "the gain from risk management with high loading is -5.0 million dollars\n"
     ]
    }
   ],
   "source": [
    "high_loading = 0.3\n",
    "high_premium = tangible_assets*0.1*(1+high_loading)\n",
    "gain_high_premium = value_insured - high_premium - expected_value\n",
    "print(f\"the gain from risk management with high loading is {gain_high_premium} million dollars\")\n"
   ]
  },
  {
   "cell_type": "code",
   "execution_count": 9,
   "id": "a4ee43b5",
   "metadata": {},
   "outputs": [
    {
     "name": "stdout",
     "output_type": "stream",
     "text": [
      "the expected tax without insurance is $29.7m\n",
      "the expected after-tax income without insurance is $68.3m\n",
      "the expected tax with insurance is $29.4m\n",
      "the expected after-tax income with insurance is $68.6m\n"
     ]
    }
   ],
   "source": [
    "EBIT={100:0.99, -100:0.01}\n",
    "tax_rate=0.3\n",
    "tax_uninsured=0\n",
    "earnings_uninsured=0\n",
    "for v, p in EBIT.items():\n",
    "    tax_uninsured += p*tax_rate*max(0,v)\n",
    "    earnings_uninsured += p*v-p*tax_rate*max(0,v) \n",
    "print(f\"the expected tax without insurance is ${tax_uninsured}m\")\n",
    "print(f\"the expected after-tax income without insurance is ${earnings_uninsured}m\")\n",
    "tax_insured=(100-2)*tax_rate\n",
    "earnings_insured=100-2-tax_insured\n",
    "print(f\"the expected tax with insurance is ${tax_insured}m\")\n",
    "print(f\"the expected after-tax income with insurance is ${earnings_insured}m\") \n"
   ]
  },
  {
   "cell_type": "code",
   "execution_count": 10,
   "id": "4e65aace",
   "metadata": {},
   "outputs": [
    {
     "name": "stdout",
     "output_type": "stream",
     "text": [
      "expected tax without hedging is 3.5 million dollars\n",
      "expected after-tax income without hedging is 16.5 million dollars\n",
      "total tax with hedging is 3.0 million dollars\n",
      "tax savings due to risk management is 0.5 million dollars\n",
      "expected after-tax income with hedging is 17.0 million dollars\n"
     ]
    }
   ],
   "source": [
    "def tax(amount):\n",
    "    if 0<= amount <= 10:\n",
    "        return amount*0.1\n",
    "    elif 10<amount<=20:\n",
    "        return 10*0.1+(amount-10)*0.2\n",
    "    elif 20<amount<=30:\n",
    "        return 10*0.1+(20-10)*0.2+(amount-20)*0.3\n",
    "    else:\n",
    "        print(\"no a valid amount\")\n",
    "      \n",
    "income = {10:0.5, 30:0.5}\n",
    "expected_income = 0\n",
    "expected_tax = 0\n",
    "for v, p in income.items():\n",
    "    expected_income += p*v\n",
    "    expected_tax += p*tax(v)\n",
    "print(f\"expected tax without hedging is {expected_tax} million dollars\")\n",
    "print(f\"expected after-tax income without hedging is {expected_income-expected_tax} million dollars\")\n",
    "tax_hedged = round(tax(expected_income),4)\n",
    "print(f\"total tax with hedging is {tax_hedged} million dollars\")\n",
    "tax_savings = round(expected_tax - tax_hedged, 4)\n",
    "print(f\"tax savings due to risk management is {tax_savings} million dollars\") \n",
    "print(f\"expected after-tax income with hedging is {expected_income-tax_hedged} million dollars\") \n"
   ]
  },
  {
   "cell_type": "code",
   "execution_count": 11,
   "id": "3d928e7d",
   "metadata": {},
   "outputs": [
    {
     "name": "stdout",
     "output_type": "stream",
     "text": [
      "tax with equity financing is $30000.0\n",
      "tax with debt financing is $15000.0\n",
      "the interest tax shield is $15000.0\n"
     ]
    }
   ],
   "source": [
    "EBIT=100000\n",
    "tax_rate=0.3\n",
    "# Equity financing\n",
    "interest_E=0\n",
    "taxable_income_E=EBIT-interest_E\n",
    "tax_E=taxable_income_E*tax_rate\n",
    "print(f\"tax with equity financing is ${tax_E}\")\n",
    "# Debt financing\n",
    "interest_D=50000\n",
    "taxable_income_D=EBIT-interest_D\n",
    "tax_D=taxable_income_D*tax_rate\n",
    "print(f\"tax with debt financing is ${tax_D}\")\n",
    "# Interest tax shield\n",
    "tax_shield=tax_E-tax_D\n",
    "print(f\"the interest tax shield is ${tax_shield}\") \n"
   ]
  },
  {
   "cell_type": "code",
   "execution_count": null,
   "id": "be7aacc1",
   "metadata": {},
   "outputs": [],
   "source": []
  }
 ],
 "metadata": {
  "kernelspec": {
   "display_name": "Python 3 (ipykernel)",
   "language": "python",
   "name": "python3"
  },
  "language_info": {
   "codemirror_mode": {
    "name": "ipython",
    "version": 3
   },
   "file_extension": ".py",
   "mimetype": "text/x-python",
   "name": "python",
   "nbconvert_exporter": "python",
   "pygments_lexer": "ipython3",
   "version": "3.9.12"
  }
 },
 "nbformat": 4,
 "nbformat_minor": 5
}
