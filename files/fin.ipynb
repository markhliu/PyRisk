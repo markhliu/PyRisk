{
 "cells": [
  {
   "cell_type": "code",
   "execution_count": 1,
   "metadata": {},
   "outputs": [
    {
     "name": "stdout",
     "output_type": "stream",
     "text": [
      "Enter your WRDS username [hlliu2]:chemmanu\n",
      "Enter your password:········\n",
      "WRDS recommends setting up a .pgpass file.\n",
      "Create .pgpass file now [y/n]?: n\n",
      "You can create this file yourself at any time with the create_pgpass_file() function.\n",
      "Loading library list...\n",
      "Done\n",
      "File not found on server, 000000/6207/0000006207-10-000017.txt\n",
      "File not found on server, 000000/8328/0000008328-11-000029.txt\n",
      "File not found on server, 000007/72971/0000072971-15-000449.txt\n"
     ]
    },
    {
     "ename": "FileNotFoundError",
     "evalue": "[Errno 2] No such file or directory: '/wrds/sec/wrds_clean_filings/000007/72971/0000072971-15-000449.txt'",
     "output_type": "error",
     "traceback": [
      "\u001b[1;31m---------------------------------------------------------------------------\u001b[0m",
      "\u001b[1;31mFileNotFoundError\u001b[0m                         Traceback (most recent call last)",
      "\u001b[1;32m~\\AppData\\Local\\Temp\\ipykernel_15604\\3768049746.py\u001b[0m in \u001b[0;36m<module>\u001b[1;34m\u001b[0m\n\u001b[0;32m     28\u001b[0m \u001b[1;33m\u001b[0m\u001b[0m\n\u001b[0;32m     29\u001b[0m \u001b[0mmpth\u001b[0m\u001b[1;33m=\u001b[0m\u001b[1;34m'/wrds/sec/wrds_clean_filings/000007/72971/0000072971-15-000449.txt'\u001b[0m\u001b[1;33m\u001b[0m\u001b[1;33m\u001b[0m\u001b[0m\n\u001b[1;32m---> 30\u001b[1;33m \u001b[1;32mwith\u001b[0m \u001b[0mopen\u001b[0m\u001b[1;33m(\u001b[0m\u001b[0mmpth\u001b[0m\u001b[1;33m)\u001b[0m \u001b[1;32mas\u001b[0m \u001b[0mf\u001b[0m\u001b[1;33m:\u001b[0m\u001b[1;33m\u001b[0m\u001b[1;33m\u001b[0m\u001b[0m\n\u001b[0m\u001b[0;32m     31\u001b[0m     \u001b[0mtxts\u001b[0m\u001b[1;33m=\u001b[0m\u001b[0mf\u001b[0m\u001b[1;33m.\u001b[0m\u001b[0mread\u001b[0m\u001b[1;33m(\u001b[0m\u001b[1;33m)\u001b[0m\u001b[1;33m\u001b[0m\u001b[1;33m\u001b[0m\u001b[0m\n\u001b[0;32m     32\u001b[0m \u001b[1;33m\u001b[0m\u001b[0m\n",
      "\u001b[1;31mFileNotFoundError\u001b[0m: [Errno 2] No such file or directory: '/wrds/sec/wrds_clean_filings/000007/72971/0000072971-15-000449.txt'"
     ]
    }
   ],
   "source": [
    "# https://www.fredasongdrechsler.com/textual-analysis/wrds-sec\n",
    "\n",
    "import wrds\n",
    "import os\n",
    "import pandas as pd\n",
    "import numpy as np\n",
    "\n",
    "# establish connection\n",
    "conn = wrds.Connection()\n",
    "\n",
    "# explore table components within wrds sec library\n",
    "conn.list_tables(library = 'wrdssec')\n",
    "\n",
    "addresses=[\"000000/6207/0000006207-10-000017.txt\",\n",
    "       \"000000/8328/0000008328-11-000029.txt\",\n",
    "       \"000007/72971/0000072971-15-000449.txt\"] \n",
    "path = '/wrds/sec/wrds_clean_filings'\n",
    "# empty text list to store filing content\n",
    "textLst = []\n",
    "\n",
    "for item in addresses:\n",
    "    wrdsLoc = os.path.join(path, item)\n",
    "    try:\n",
    "        with open(wrdsLoc) as f:\n",
    "            textLst.append(f.read())\n",
    "    except:\n",
    "        print('File not found on server, '+item)\n",
    "        \n",
    "mpth='/wrds/sec/wrds_clean_filings/000007/72971/0000072971-15-000449.txt'        \n",
    "with open(mpth) as f:\n",
    "    txts=f.read()        \n",
    "        "
   ]
  },
  {
   "cell_type": "code",
   "execution_count": null,
   "metadata": {},
   "outputs": [],
   "source": []
  }
 ],
 "metadata": {
  "kernelspec": {
   "display_name": "Python 3 (ipykernel)",
   "language": "python",
   "name": "python3"
  },
  "language_info": {
   "codemirror_mode": {
    "name": "ipython",
    "version": 3
   },
   "file_extension": ".py",
   "mimetype": "text/x-python",
   "name": "python",
   "nbconvert_exporter": "python",
   "pygments_lexer": "ipython3",
   "version": "3.10.9"
  }
 },
 "nbformat": 4,
 "nbformat_minor": 4
}
