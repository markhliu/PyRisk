{
 "cells": [
  {
   "cell_type": "markdown",
   "id": "7a3a1c4d",
   "metadata": {},
   "source": [
    "# Chapter 15: Stress Tests\n",
    "\n",
    "\n",
    "In this chapter, we explore the concept of stress tests and their application in financial institutions. Stress tests are essential tools used to evaluate the resilience and stability of financial institutions under adverse economic scenarios. We begin with a general overview of stress tests, outlining their key elements. Following this, we discuss stressed Value at Risk (VaR) and stressed Expected Shortfall (ES), which are crucial measures for determining companies' required capital positions during stressful situations. Lastly, we examine stress testing frameworks mandated by the US Federal Reserve, including the Comprehensive Capital Analysis and Review (CCAR) and the Dodd-Frank Act Stress Testing (DFAST). This chapter aims to provide a thorough understanding of stress tests and their significance in assessing the robustness of financial institutions during challenging economic conditions.\n",
    "\n",
    "Chapter Objectives:\n",
    "\n",
    "1. Introduce stress tests: overview and key elements\n",
    "2. Define stress VaR and stress ES\n",
    "3. Discuss stress tests in the United States and Europe"
   ]
  },
  {
   "cell_type": "code",
   "execution_count": 1,
   "id": "07fbe7c1",
   "metadata": {},
   "outputs": [
    {
     "name": "stdout",
     "output_type": "stream",
     "text": [
      "[*********************100%***********************]  1 of 1 completed\n",
      "[*********************100%***********************]  1 of 1 completed\n",
      "[*********************100%***********************]  1 of 1 completed\n",
      "the firm's stressed VaR is -0.0481\n"
     ]
    }
   ],
   "source": [
    "from pandas_datareader import data as pdr\n",
    "import yfinance\n",
    "yfinance.pdr_override()\n",
    "import warnings\n",
    "warnings.filterwarnings(\"ignore\")\n",
    "\n",
    "# Set the start and end dates\n",
    "start_date = \"2008-07-01\" # 1\n",
    "end_date = \"2009-06-29\"\n",
    "# Retieve prices # 2\n",
    "SPY = pdr.get_data_yahoo(\"SPY\", start = start_date, end = end_date)\n",
    "LQD = pdr.get_data_yahoo(\"LQD\", start = start_date, end = end_date)\n",
    "HYG = pdr.get_data_yahoo(\"HYG\", start = start_date, end = end_date)\n",
    "\n",
    "# Calculate returns # 3\n",
    "SPY['ret_spy'] =(SPY['Adj Close']/SPY['Adj Close'].shift(1))\n",
    "LQD['ret_lqd'] =(LQD['Adj Close']/LQD['Adj Close'].shift(1))\n",
    "HYG['ret_hyg'] =(HYG['Adj Close']/HYG['Adj Close'].shift(1))\n",
    "\n",
    "# Merge the three datasets, keep only returns # 4\n",
    "df  = SPY[['ret_spy']].merge(LQD[['ret_lqd']],left_index=True, right_index=True)\n",
    "df  = df.merge(HYG[['ret_hyg']],left_index=True, right_index=True)\n",
    "df = df.iloc[1: , :]\n",
    "# Calculate portfolio value and gain/loss in each scenario # 5\n",
    "df['port_value'] = 0.4*df['ret_spy'] + 0.3*df['ret_lqd'] + 0.3*df['ret_hyg']\n",
    "df['gain_loss'] = df['port_value'] - 1\n",
    "# Calcuate one percentile value # 6\n",
    "Stressed_VaR = df['gain_loss'].quantile([0.01])\n",
    "print(\"the firm's stressed VaR is\", round(Stressed_VaR[0.01],4))\n"
   ]
  },
  {
   "cell_type": "code",
   "execution_count": 2,
   "id": "2470c4f2",
   "metadata": {},
   "outputs": [
    {
     "name": "stdout",
     "output_type": "stream",
     "text": [
      "             ret_spy   ret_lqd   ret_hyg  port_value  gain_loss\n",
      "Date                                                           \n",
      "2008-09-17  0.955037  0.954189  0.939941    0.950254  -0.049746\n",
      "2008-09-29  0.921639  0.908889  0.919026    0.917030  -0.082970\n",
      "2008-10-15  0.901552  1.000000  0.956363    0.947530  -0.052470\n",
      "the firm’s stressed ES is -0.0617\n"
     ]
    }
   ],
   "source": [
    "# Keep obsrevations that the gain/loss is beyond VaR\n",
    "df_es = df[df[\"gain_loss\"]<Stressed_VaR[0.01]]\n",
    "print(df_es)\n",
    "Stressed_ES = df_es[\"gain_loss\"].mean()\n",
    "# Print out the value\n",
    "print(\"the firm’s stressed ES is\", round(Stressed_ES,4))\n"
   ]
  },
  {
   "cell_type": "code",
   "execution_count": null,
   "id": "3898ab2b",
   "metadata": {},
   "outputs": [],
   "source": []
  }
 ],
 "metadata": {
  "kernelspec": {
   "display_name": "Python 3 (ipykernel)",
   "language": "python",
   "name": "python3"
  },
  "language_info": {
   "codemirror_mode": {
    "name": "ipython",
    "version": 3
   },
   "file_extension": ".py",
   "mimetype": "text/x-python",
   "name": "python",
   "nbconvert_exporter": "python",
   "pygments_lexer": "ipython3",
   "version": "3.9.12"
  }
 },
 "nbformat": 4,
 "nbformat_minor": 5
}
