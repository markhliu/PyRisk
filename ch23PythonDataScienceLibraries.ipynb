{
 "cells": [
  {
   "cell_type": "markdown",
   "metadata": {},
   "source": [
    "# Chapter 23: Python Data Science Libraries\n",
    "\n",
    "\n",
    "As a general-purpose programming language, Python is now the most popular programming language in the world. It’s easy to use and has great community support. This chapter introduces you to four useful Python data science libraries in finance: NumPy, NumPy Financial, Pandas, and Matplotlib. These libraries will be your tools for processing financial data, conducting analyses, performing financial calculations, and creating visualizations such as graphs and charts.\n",
    "\n",
    "Chapter Objectives\n",
    "\n",
    "1. Manipulate multidimensional data using NumPy\n",
    "2. Conduct financial calculations using NumPy Financial\n",
    "3. Process tabular data with Pandas.\n",
    "4. Create plots and charts with Matplotlib."
   ]
  },
  {
   "cell_type": "code",
   "execution_count": 1,
   "metadata": {},
   "outputs": [
    {
     "name": "stdout",
     "output_type": "stream",
     "text": [
      "Requirement already satisfied: pandas in c:\\users\\yut3\\anaconda3\\lib\\site-packages (2.0.2)\n",
      "Requirement already satisfied: matplotlib in c:\\users\\yut3\\anaconda3\\lib\\site-packages (3.3.4)\n",
      "Requirement already satisfied: numpy in c:\\users\\yut3\\anaconda3\\lib\\site-packages (1.22.4)\n",
      "Requirement already satisfied: numpy-financial in c:\\users\\yut3\\anaconda3\\lib\\site-packages (1.0.0)\n",
      "Requirement already satisfied: python-dateutil>=2.1 in c:\\users\\yut3\\anaconda3\\lib\\site-packages (from matplotlib) (2.8.2)\n",
      "Requirement already satisfied: kiwisolver>=1.0.1 in c:\\users\\yut3\\anaconda3\\lib\\site-packages (from matplotlib) (1.3.1)\n",
      "Requirement already satisfied: pillow>=6.2.0 in c:\\users\\yut3\\anaconda3\\lib\\site-packages (from matplotlib) (8.2.0)\n",
      "Requirement already satisfied: pyparsing!=2.0.4,!=2.1.2,!=2.1.6,>=2.0.3 in c:\\users\\yut3\\anaconda3\\lib\\site-packages (from matplotlib) (2.4.7)\n",
      "Requirement already satisfied: cycler>=0.10 in c:\\users\\yut3\\anaconda3\\lib\\site-packages (from matplotlib) (0.10.0)\n",
      "Requirement already satisfied: six in c:\\users\\yut3\\anaconda3\\lib\\site-packages (from cycler>=0.10->matplotlib) (1.15.0)\n",
      "Requirement already satisfied: pytz>=2020.1 in c:\\users\\yut3\\anaconda3\\lib\\site-packages (from pandas) (2023.3)\n",
      "Requirement already satisfied: tzdata>=2022.1 in c:\\users\\yut3\\anaconda3\\lib\\site-packages (from pandas) (2023.3)\n"
     ]
    }
   ],
   "source": [
    "!pip install pandas matplotlib numpy numpy-financial\n",
    "\n",
    "GMAT = [550, 640, 710, 590, 560, 585, 720, 660, 600, 610,\n",
    "        570, 580, 630, 690, 675]"
   ]
  },
  {
   "cell_type": "code",
   "execution_count": 2,
   "metadata": {},
   "outputs": [
    {
     "name": "stdout",
     "output_type": "stream",
     "text": [
      "the number of students who scored above 650 is 5\n"
     ]
    }
   ],
   "source": [
    "num = 0\n",
    "for score in GMAT:\n",
    "    if score > 650:\n",
    "        num += 1\n",
    "print(\"the number of students who scored above 650 is\", num)"
   ]
  },
  {
   "cell_type": "code",
   "execution_count": 3,
   "metadata": {},
   "outputs": [
    {
     "name": "stdout",
     "output_type": "stream",
     "text": [
      "5\n"
     ]
    }
   ],
   "source": [
    "import numpy as np #1\n",
    "\n",
    "GMAT = [550, 640, 710, 590, 560, 585, 720, 660, 600, 610,\n",
    "        570, 580, 630, 690, 675] #2\n",
    "GMAT_arr = np.array(GMAT) #3\n",
    "print((GMAT_arr>650).sum()) #4"
   ]
  },
  {
   "cell_type": "code",
   "execution_count": 4,
   "metadata": {},
   "outputs": [
    {
     "name": "stdout",
     "output_type": "stream",
     "text": [
      "30\n",
      "(30,)\n",
      "[[550.   640.   710.   590.   560.   585.   720.   660.   600.   610.\n",
      "  570.   580.   630.   690.   675.  ]\n",
      " [  3.     3.12   3.14   3.56   3.33   3.1    3.78   3.94   4.     3.66\n",
      "    3.45   3.88   3.92   3.03   3.22]]\n",
      "(2, 15)\n"
     ]
    }
   ],
   "source": [
    "GPA = [3.0, 3.12, 3.14, 3.56, 3.33, 3.10, 3.78, 3.94, 4.0,\n",
    "        3.66, 3.45, 3.88, 3.92, 3.03, 3.22] #1\n",
    "GMAT_GPA = GMAT + GPA #2\n",
    "GMAT_GPA_arr = np.array(GMAT_GPA)\n",
    "print(GMAT_GPA_arr.size) #3\n",
    "print(GMAT_GPA_arr.shape)\n",
    "\n",
    "GMAT_GPA_arr=GMAT_GPA_arr.reshape((2,15)) #4\n",
    "print(GMAT_GPA_arr)\n",
    "print(GMAT_GPA_arr.shape)"
   ]
  },
  {
   "cell_type": "code",
   "execution_count": 5,
   "metadata": {},
   "outputs": [
    {
     "name": "stdout",
     "output_type": "stream",
     "text": [
      "560\n"
     ]
    }
   ],
   "source": [
    "print(GMAT_arr[4])"
   ]
  },
  {
   "cell_type": "code",
   "execution_count": 6,
   "metadata": {},
   "outputs": [
    {
     "name": "stdout",
     "output_type": "stream",
     "text": [
      "3.66\n"
     ]
    }
   ],
   "source": [
    "print(GMAT_GPA_arr[1,9])"
   ]
  },
  {
   "cell_type": "code",
   "execution_count": 7,
   "metadata": {},
   "outputs": [
    {
     "name": "stdout",
     "output_type": "stream",
     "text": [
      "the GMAT scores of the first two students are [550. 640.]\n",
      "the GPAs of the last three students are [3.92 3.03 3.22]\n",
      "the GMAT score and GPA of the sixth student are [585.    3.1]\n"
     ]
    }
   ],
   "source": [
    "print(\"the GMAT scores of the first two students are\", GMAT_GPA_arr[0, 0:2])\n",
    "print(\"the GPAs of the last three students are\", GMAT_GPA_arr[1, -3:])\n",
    "print(\"the GMAT score and GPA of the sixth student are\", GMAT_GPA_arr[:, 5])"
   ]
  },
  {
   "cell_type": "code",
   "execution_count": 8,
   "metadata": {},
   "outputs": [
    {
     "name": "stdout",
     "output_type": "stream",
     "text": [
      "the average GMAT score of all students is 624.6666666666666\n",
      "the average GPA of all students is 3.4753333333333334\n"
     ]
    }
   ],
   "source": [
    "print(\"the average GMAT score of all students is\", GMAT_GPA_arr[0, :].mean())\n",
    "print(\"the average GPA of all students is\", GMAT_GPA_arr[1, :].mean())"
   ]
  },
  {
   "cell_type": "code",
   "execution_count": 9,
   "metadata": {},
   "outputs": [
    {
     "name": "stdout",
     "output_type": "stream",
     "text": [
      "the sum of GMAT score of all students is 9370.0\n",
      "the lowest GMAT score of all students is 550.0\n",
      "the highest GPA of all students is 4.0\n"
     ]
    }
   ],
   "source": [
    "print(\"the sum of GMAT score of all students is\", GMAT_GPA_arr[0, :].sum())\n",
    "print(\"the lowest GMAT score of all students is\", GMAT_GPA_arr[0, :].min())\n",
    "print(\"the highest GPA of all students is\", GMAT_GPA_arr[1, :].max())"
   ]
  },
  {
   "cell_type": "code",
   "execution_count": 10,
   "metadata": {},
   "outputs": [
    {
     "name": "stdout",
     "output_type": "stream",
     "text": [
      "the index of the lowest GMAT score is 0\n",
      "the index of the highest GPA is 8\n"
     ]
    }
   ],
   "source": [
    "print(\"the index of the lowest GMAT score is\", GMAT_GPA_arr[0, :].argmin())\n",
    "print(\"the index of the highest GPA is\", GMAT_GPA_arr[1, :].argmax())"
   ]
  },
  {
   "cell_type": "code",
   "execution_count": 11,
   "metadata": {},
   "outputs": [
    {
     "name": "stdout",
     "output_type": "stream",
     "text": [
      "the 5th percentile value of GMAT scores is 557.0\n",
      "the median value of GMAT scores is 610.0\n",
      "the median value of GPAs is 3.45\n",
      "the 90th percentile value of GPSs is 3.932\n"
     ]
    }
   ],
   "source": [
    "print(\"the 5th percentile value of GMAT scores is\", np.percentile(GMAT_GPA_arr[0, :], 5))\n",
    "print(\"the median value of GMAT scores is\", np.percentile(GMAT_GPA_arr[0, :], 50))\n",
    "print(\"the median value of GPAs is\", np.percentile(GMAT_GPA_arr[1, :], 50))\n",
    "print(\"the 90th percentile value of GPSs is\", np.percentile(GMAT_GPA_arr[1, :], 90))"
   ]
  },
  {
   "cell_type": "code",
   "execution_count": 12,
   "metadata": {},
   "outputs": [
    {
     "name": "stdout",
     "output_type": "stream",
     "text": [
      "[ True False False  True  True  True False False  True False  True  True\n",
      " False False False]\n",
      "[False False False False False False False False  True False False False\n",
      " False False False]\n",
      "number of GMAT scores below or equal to 600 is 7\n",
      "number of 4.0 GPA is 1\n"
     ]
    }
   ],
   "source": [
    "mask1 = (GMAT_GPA_arr[0, :]<=600)\n",
    "mask2 = (GMAT_GPA_arr[1, :]==4.0)\n",
    "print(mask1)\n",
    "print(mask2)\n",
    "print(\"number of GMAT scores below or equal to 600 is\", mask1.sum())\n",
    "print(\"number of 4.0 GPA is\", mask2.sum())"
   ]
  },
  {
   "cell_type": "code",
   "execution_count": 13,
   "metadata": {},
   "outputs": [
    {
     "name": "stdout",
     "output_type": "stream",
     "text": [
      "the balance is USD 6890306.17\n"
     ]
    }
   ],
   "source": [
    "import numpy_financial as npf\n",
    "rate=0.1\n",
    "nper=100\n",
    "pmt=0\n",
    "pv=-500\n",
    "balance=npf.fv(rate,nper,pmt,pv)\n",
    "print(f\"the balance is USD {round(balance,2)}\")"
   ]
  },
  {
   "cell_type": "code",
   "execution_count": 14,
   "metadata": {},
   "outputs": [
    {
     "name": "stdout",
     "output_type": "stream",
     "text": [
      "the investment needed is USD -83104.13\n"
     ]
    }
   ],
   "source": [
    "rate=0.05\n",
    "nper=18\n",
    "pmt=0\n",
    "fv=200000\n",
    "investment=npf.pv(rate,nper,pmt,fv)\n",
    "print(f\"the investment needed is USD {round(investment,2)}\")"
   ]
  },
  {
   "cell_type": "code",
   "execution_count": 15,
   "metadata": {},
   "outputs": [
    {
     "name": "stdout",
     "output_type": "stream",
     "text": [
      "the interest rate is 0.0905\n"
     ]
    }
   ],
   "source": [
    "nper=8\n",
    "pmt=0\n",
    "pv=-1000\n",
    "fv=2000\n",
    "r=npf.rate(nper,pmt,pv,fv)\n",
    "print(f\"the interest rate is {round(r,4)}\")"
   ]
  },
  {
   "cell_type": "code",
   "execution_count": 16,
   "metadata": {},
   "outputs": [
    {
     "name": "stdout",
     "output_type": "stream",
     "text": [
      "the number of months to pay off the debt is 7.076583912842856\n"
     ]
    }
   ],
   "source": [
    "rate=0.18/12\n",
    "pmt=-300\n",
    "pv=2000\n",
    "n=npf.nper(rate,pmt,pv)\n",
    "print(f\"the number of months to pay off the debt is {n}\")"
   ]
  },
  {
   "cell_type": "code",
   "execution_count": 17,
   "metadata": {},
   "outputs": [
    {
     "name": "stdout",
     "output_type": "stream",
     "text": [
      "the monthly mortgage payment is USD -1199.10\n",
      "the principal payment in month 3 is USD -201.10\n",
      "the interest payment in month 3 is USD -998.00\n"
     ]
    }
   ],
   "source": [
    "rate=0.06/12\n",
    "pv=200000\n",
    "nper=30*12\n",
    "per=3\n",
    "pmt=npf.pmt(rate,nper,pv)\n",
    "ppmt=npf.ppmt(rate,per,nper,pv)\n",
    "ipmt=npf.ipmt(rate,per,nper,pv)\n",
    "print(f\"the monthly mortgage payment is USD {pmt:.2f}\")\n",
    "print(f\"the principal payment in month 3 is USD {ppmt:.2f}\")\n",
    "print(f\"the interest payment in month 3 is USD {ipmt:.2f}\")"
   ]
  },
  {
   "cell_type": "code",
   "execution_count": 18,
   "metadata": {},
   "outputs": [
    {
     "name": "stdout",
     "output_type": "stream",
     "text": [
      "the NPV of the project is USD 7264.95\n",
      "the IRR of the project is 0.2949\n"
     ]
    }
   ],
   "source": [
    "rate=0.14\n",
    "values=[-31000,22000,15000,11000]\n",
    "NPV=npf.npv(rate,values)\n",
    "IRR=npf.irr(values)\n",
    "print(f\"the NPV of the project is USD {NPV:.2f}\")\n",
    "print(f\"the IRR of the project is {IRR:.4f}\")"
   ]
  },
  {
   "cell_type": "code",
   "execution_count": 19,
   "metadata": {},
   "outputs": [
    {
     "name": "stdout",
     "output_type": "stream",
     "text": [
      "James Smith        550\n",
      "Michael Smith      640\n",
      "Maria Garcia       710\n",
      "David Smith        590\n",
      "Maria Rodriguez    560\n",
      "Mary Smith         585\n",
      "Maria Hernandez    720\n",
      "Maria Martinez     660\n",
      "James Johnson      600\n",
      "Mary Liu           610\n",
      "Gloria Zhang       570\n",
      "Raj Gupta          580\n",
      "Anna Ivanov        630\n",
      "Ali Sayed          690\n",
      "Lakisha Jones      675\n",
      "dtype: int64\n"
     ]
    }
   ],
   "source": [
    "import pandas as pd\n",
    "\n",
    "names = [\"James Smith\",\"Michael Smith\",\"Maria Garcia\",\"David Smith\",\n",
    "         \"Maria Rodriguez\",\"Mary Smith\",\"Maria Hernandez\",\"Maria Martinez\",\n",
    "         \"James Johnson\",\"Mary Liu\",\"Gloria Zhang\",\"Raj Gupta\",\"Anna Ivanov\",\n",
    "         \"Ali Sayed\",\"Lakisha Jones\"]\n",
    "\n",
    "GMAT = [550, 640, 710, 590, 560, 585, 720, 660, 600, 610,\n",
    "        570, 580, 630, 690, 675]\n",
    "\n",
    "GMAT_series = pd.Series(data=GMAT, index=names)\n",
    "print(GMAT_series) "
   ]
  },
  {
   "cell_type": "code",
   "execution_count": 20,
   "metadata": {},
   "outputs": [
    {
     "name": "stdout",
     "output_type": "stream",
     "text": [
      "the GMAT score of David Smith is 590\n",
      "the GMAT score of Anna Ivanov is 630\n"
     ]
    }
   ],
   "source": [
    "print(\"the GMAT score of David Smith is\", GMAT_series[\"David Smith\"])\n",
    "print(\"the GMAT score of Anna Ivanov is\", GMAT_series[\"Anna Ivanov\"]) "
   ]
  },
  {
   "cell_type": "code",
   "execution_count": 21,
   "metadata": {},
   "outputs": [
    {
     "name": "stdout",
     "output_type": "stream",
     "text": [
      "                 GMAT_score  GPAs\n",
      "James Smith             550  3.00\n",
      "Michael Smith           640  3.12\n",
      "Maria Garcia            710  3.14\n",
      "David Smith             590  3.56\n",
      "Maria Rodriguez         560  3.33\n",
      "Mary Smith              585  3.10\n",
      "Maria Hernandez         720  3.78\n",
      "Maria Martinez          660  3.94\n",
      "James Johnson           600  4.00\n",
      "Mary Liu                610  3.66\n",
      "Gloria Zhang            570  3.45\n",
      "Raj Gupta               580  3.88\n",
      "Anna Ivanov             630  3.92\n",
      "Ali Sayed               690  3.03\n",
      "Lakisha Jones           675  3.22\n"
     ]
    }
   ],
   "source": [
    "GPA = [3.0, 3.12, 3.14, 3.56, 3.33, 3.10, 3.78, 3.94, 4.0,\n",
    "        3.66, 3.45, 3.88, 3.92, 3.03, 3.22]\n",
    "\n",
    "dataset = {\"GMAT_score\":GMAT, \"GPAs\":GPA}\n",
    "\n",
    "df = pd.DataFrame(data=dataset, index=names)\n",
    "print(df) "
   ]
  },
  {
   "cell_type": "code",
   "execution_count": 22,
   "metadata": {},
   "outputs": [
    {
     "name": "stdout",
     "output_type": "stream",
     "text": [
      "James Smith        550\n",
      "Michael Smith      640\n",
      "Maria Garcia       710\n",
      "David Smith        590\n",
      "Maria Rodriguez    560\n",
      "Mary Smith         585\n",
      "Maria Hernandez    720\n",
      "Maria Martinez     660\n",
      "James Johnson      600\n",
      "Mary Liu           610\n",
      "Gloria Zhang       570\n",
      "Raj Gupta          580\n",
      "Anna Ivanov        630\n",
      "Ali Sayed          690\n",
      "Lakisha Jones      675\n",
      "Name: GMAT_score, dtype: int64\n",
      "the GMAT score of Maria Garcia is 710\n"
     ]
    }
   ],
   "source": [
    "print(df[\"GMAT_score\"])\n",
    "print(\"the GMAT score of Maria Garcia is\",\\\n",
    " df[\"GMAT_score\"][\"Maria Garcia\"]) "
   ]
  },
  {
   "cell_type": "code",
   "execution_count": 23,
   "metadata": {},
   "outputs": [
    {
     "name": "stdout",
     "output_type": "stream",
     "text": [
      "the GPA of Ali Sayed is 3.03\n"
     ]
    }
   ],
   "source": [
    "print(\"the GPA of Ali Sayed is\", df.at[\"Ali Sayed\",\"GPAs\"])"
   ]
  },
  {
   "cell_type": "code",
   "execution_count": 24,
   "metadata": {},
   "outputs": [
    {
     "name": "stdout",
     "output_type": "stream",
     "text": [
      "the GMAT score and GPA of Gloria Zhang is\n",
      " GMAT_score    570.00\n",
      "GPAs            3.45\n",
      "Name: Gloria Zhang, dtype: float64\n"
     ]
    }
   ],
   "source": [
    "print(\"the GMAT score and GPA of Gloria Zhang is\\n\",\\\n",
    " df.loc[\"Gloria Zhang\"])"
   ]
  },
  {
   "cell_type": "code",
   "execution_count": 25,
   "metadata": {},
   "outputs": [
    {
     "name": "stdout",
     "output_type": "stream",
     "text": [
      "              names  GMAT_score  GPAs nationality\n",
      "0       James Smith         550  3.00          US\n",
      "1     Michael Smith         640  3.12          US\n",
      "2      Maria Garcia         710  3.14          US\n",
      "3       David Smith         590  3.56          US\n",
      "4   Maria Rodriguez         560  3.33          US\n",
      "5        Mary Smith         585  3.10          US\n",
      "6   Maria Hernandez         720  3.78       Brzil\n",
      "7    Maria Martinez         660  3.94        Peru\n",
      "8     James Johnson         600  4.00          US\n",
      "9          Mary Liu         610  3.66       China\n",
      "10     Gloria Zhang         570  3.45       China\n",
      "11        Raj Gupta         580  3.88       India\n",
      "12      Anna Ivanov         630  3.92      Russia\n",
      "13        Ali Sayed         690  3.03        Iran\n",
      "14    Lakisha Jones         675  3.22          US\n"
     ]
    }
   ],
   "source": [
    "df1 = pd.read_csv(\"files/student_info.csv\")\n",
    "print(df1) "
   ]
  },
  {
   "cell_type": "code",
   "execution_count": 26,
   "metadata": {},
   "outputs": [
    {
     "name": "stdout",
     "output_type": "stream",
     "text": [
      "the shape of df1 is (15, 4)\n",
      "the size of df1 is 60\n"
     ]
    }
   ],
   "source": [
    "print(\"the shape of df1 is\", df1.shape)\n",
    "print(\"the size of df1 is\", df1.size)"
   ]
  },
  {
   "cell_type": "code",
   "execution_count": 27,
   "metadata": {},
   "outputs": [
    {
     "name": "stdout",
     "output_type": "stream",
     "text": [
      "             names  GMAT_score  GPAs nationality\n",
      "0      James Smith         550  3.00          US\n",
      "1    Michael Smith         640  3.12          US\n",
      "2     Maria Garcia         710  3.14          US\n",
      "3      David Smith         590  3.56          US\n",
      "4  Maria Rodriguez         560  3.33          US\n",
      "            names  GMAT_score  GPAs nationality\n",
      "12    Anna Ivanov         630  3.92      Russia\n",
      "13      Ali Sayed         690  3.03        Iran\n",
      "14  Lakisha Jones         675  3.22          US\n"
     ]
    }
   ],
   "source": [
    "print(df1.head())\n",
    "print(df1.tail(n=3))"
   ]
  },
  {
   "cell_type": "code",
   "execution_count": 28,
   "metadata": {},
   "outputs": [
    {
     "name": "stdout",
     "output_type": "stream",
     "text": [
      "<class 'pandas.core.frame.DataFrame'>\n",
      "RangeIndex: 15 entries, 0 to 14\n",
      "Data columns (total 4 columns):\n",
      " #   Column       Non-Null Count  Dtype  \n",
      "---  ------       --------------  -----  \n",
      " 0   names        15 non-null     object \n",
      " 1   GMAT_score   15 non-null     int64  \n",
      " 2   GPAs         15 non-null     float64\n",
      " 3   nationality  15 non-null     object \n",
      "dtypes: float64(1), int64(1), object(2)\n",
      "memory usage: 608.0+ bytes\n",
      "None\n"
     ]
    }
   ],
   "source": [
    "print(df1.info())"
   ]
  },
  {
   "cell_type": "code",
   "execution_count": 29,
   "metadata": {},
   "outputs": [
    {
     "name": "stdout",
     "output_type": "stream",
     "text": [
      "names          Maria Garcia\n",
      "GMAT_score              710\n",
      "GPAs                   3.14\n",
      "nationality              US\n",
      "Name: 2, dtype: object\n",
      "             names  GMAT_score  GPAs nationality\n",
      "2     Maria Garcia         710  3.14          US\n",
      "3      David Smith         590  3.56          US\n",
      "4  Maria Rodriguez         560  3.33          US\n"
     ]
    }
   ],
   "source": [
    "print(df1.iloc[2])\n",
    "print(df1.iloc[2:5])"
   ]
  },
  {
   "cell_type": "code",
   "execution_count": 30,
   "metadata": {},
   "outputs": [
    {
     "name": "stdout",
     "output_type": "stream",
     "text": [
      "the median GMAT score is 610.0\n",
      "the standard deviation of GPAs is 0.3662135728675016\n"
     ]
    }
   ],
   "source": [
    "print(\"the median GMAT score is\", df1[\"GMAT_score\"].median())\n",
    "print(\"the standard deviation of GPAs is\", df1[\"GPAs\"].std())"
   ]
  },
  {
   "cell_type": "code",
   "execution_count": 31,
   "metadata": {},
   "outputs": [
    {
     "data": {
      "image/png": "[encoded data removed]",
      "text/plain": [
       "<Figure size 432x288 with 1 Axes>"
      ]
     },
     "metadata": {
      "needs_background": "light"
     },
     "output_type": "display_data"
    }
   ],
   "source": [
    "import matplotlib.pyplot as plt\n",
    "\n",
    "x = np.random.rand(1000) - 0.5\n",
    "y = x**2\n",
    "\n",
    "plt.scatter(x, y)\n",
    "plt.xlabel('x')\n",
    "plt.ylabel('$y=x^2$')\n",
    "plt.title('function $y=x^2$')\n",
    "plt.show()\n"
   ]
  },
  {
   "cell_type": "code",
   "execution_count": 32,
   "metadata": {},
   "outputs": [
    {
     "data": {
      "text/plain": [
       "<AxesSubplot:title={'center':'GMAT Scores'}>"
      ]
     },
     "execution_count": 32,
     "metadata": {},
     "output_type": "execute_result"
    },
    {
     "data": {
      "image/png": "[encoded data removed]",
      "text/plain": [
       "<Figure size 432x288 with 1 Axes>"
      ]
     },
     "metadata": {
      "needs_background": "light"
     },
     "output_type": "display_data"
    }
   ],
   "source": [
    "import pandas as pd\n",
    "df1 = pd.read_csv(\"files/student_info.csv\")\n",
    "\n",
    "df1.plot(y = 'GMAT_score', title = 'GMAT Scores')\n"
   ]
  },
  {
   "cell_type": "code",
   "execution_count": 33,
   "metadata": {},
   "outputs": [
    {
     "data": {
      "image/png": "[encoded data removed]",
      "text/plain": [
       "<Figure size 2000x1600 with 1 Axes>"
      ]
     },
     "metadata": {
      "needs_background": "light"
     },
     "output_type": "display_data"
    }
   ],
   "source": [
    "fig=plt.figure(dpi=200, figsize=(10,8))\n",
    "nationality_cnt = df1['nationality'].value_counts()\n",
    "plt.style.use('ggplot')\n",
    "nationality_cnt.plot(kind ='bar')\n",
    "plt.show()"
   ]
  },
  {
   "cell_type": "code",
   "execution_count": 34,
   "metadata": {},
   "outputs": [],
   "source": []
  },
  {
   "cell_type": "code",
   "execution_count": 35,
   "metadata": {},
   "outputs": [],
   "source": []
  }
 ],
 "metadata": {
  "kernelspec": {
   "display_name": "Python 3 (ipykernel)",
   "language": "python",
   "name": "python3"
  },
  "language_info": {
   "codemirror_mode": {
    "name": "ipython",
    "version": 3
   },
   "file_extension": ".py",
   "mimetype": "text/x-python",
   "name": "python",
   "nbconvert_exporter": "python",
   "pygments_lexer": "ipython3",
   "version": "3.9.12"
  }
 },
 "nbformat": 4,
 "nbformat_minor": 4
}
