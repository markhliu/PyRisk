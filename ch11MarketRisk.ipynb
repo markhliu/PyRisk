{
 "cells": [
  {
   "cell_type": "markdown",
   "id": "7a3a1c4d",
   "metadata": {},
   "source": [
    "# Chapter 11: Market Risk\n",
    "\n",
    "\n",
    "In this chapter, we will introduce the concept of market risk, focusing on the potential losses arising from unusual market price fluctuations. We will explore various approaches to measuring market risk, including the parametric RiskMetrics model, the nonparametric historical (back) simulation model, the Monte Carlo simulation model, and the method of quantifying expected shortfall (ES).\n",
    "\n",
    "Chapter Objectives:\n",
    "\n",
    "1. Understand market risk.\n",
    "2. Learn about the RiskMetrics model.\n",
    "3. Explore historical (back) simulations.\n",
    "4. Examine the Monte Carlo simulation.\n",
    "5. Understand and quantify expected shortfall"
   ]
  },
  {
   "cell_type": "code",
   "execution_count": 1,
   "id": "618407c6",
   "metadata": {},
   "outputs": [
    {
     "name": "stdout",
     "output_type": "stream",
     "text": [
      "Daily value at risk of the stock investment is $186107.83\n"
     ]
    }
   ],
   "source": [
    "from scipy.stats import norm\n",
    "\n",
    "equity=4000000\n",
    "mean=0\n",
    "std=0.02\n",
    "dear_stk=equity*std*norm.ppf(0.99)\n",
    "print(f\"Daily value at risk of the stock investment is ${dear_stk:.2f}\")\n"
   ]
  },
  {
   "cell_type": "code",
   "execution_count": 2,
   "id": "8818e891",
   "metadata": {},
   "outputs": [
    {
     "name": "stdout",
     "output_type": "stream",
     "text": [
      "The adverse change in bond yield is 0.0035\n",
      "Daily value at risk of the bond investment is $166167.71\n"
     ]
    }
   ],
   "source": [
    "bond=5000000\n",
    "y=0.05\n",
    "duration=10\n",
    "mean_y=0\n",
    "std_y=0.0015\n",
    "yield_chg=std_y*norm.ppf(0.99)\n",
    "mod_dur=duration/(1+y)\n",
    "dear_b=bond*mod_dur*yield_chg\n",
    "print(\"The adverse change in bond yield is\", round(yield_chg,4))\n",
    "print(f\"Daily value at risk of the bond investment is ${dear_b:.2f}\")\n"
   ]
  },
  {
   "cell_type": "code",
   "execution_count": 3,
   "id": "ee7308bd",
   "metadata": {},
   "outputs": [
    {
     "name": "stdout",
     "output_type": "stream",
     "text": [
      "The value of the FX position is $12500000.00\n",
      "Daily value at risk of the currency investment is $72698.37\n"
     ]
    }
   ],
   "source": [
    "pound=10000000\n",
    "fx=1.25\n",
    "mean_fx=0\n",
    "std_fx=0.0025\n",
    "fx_chg=std_fx*norm.ppf(0.99)\n",
    "dollars=pound*fx\n",
    "dear_fx=dollars*fx_chg\n",
    "print(f\"The value of the FX position is ${dollars:.2f}\")\n",
    "print(f\"Daily value at risk of the currency investment is ${dear_fx:.2f}\")\n"
   ]
  },
  {
   "cell_type": "code",
   "execution_count": 4,
   "id": "24c168eb",
   "metadata": {},
   "outputs": [
    {
     "name": "stdout",
     "output_type": "stream",
     "text": [
      "DEAR for the portfolio is $300244.69\n"
     ]
    }
   ],
   "source": [
    "import numpy as np\n",
    "\n",
    "corr12=0.4\n",
    "corr13=0.1\n",
    "corr23=-0.2\n",
    "dear_p = np.sqrt(dear_stk**2 + dear_b**2 + dear_fx**2+ \\\n",
    "                 2*corr12*dear_stk*dear_b\\\n",
    "+ 2*corr13*dear_stk*dear_fx + 2*corr23*dear_b*dear_fx)\n",
    "print(f\"DEAR for the portfolio is ${dear_p:.2f}\")\n"
   ]
  },
  {
   "cell_type": "code",
   "execution_count": 5,
   "id": "4f2e6dca",
   "metadata": {},
   "outputs": [
    {
     "name": "stdout",
     "output_type": "stream",
     "text": [
      "DEAR for the portfolio is $300244.69\n"
     ]
    }
   ],
   "source": [
    "MU = np.matrix([[dear_stk,\n",
    "                dear_b,\n",
    "                dear_fx]])  \n",
    "SIGMA = np.matrix([[1, 0.4, 0.1],\n",
    "                   [0.4, 1, -0.2],\n",
    "                   [0.1, -0.2, 1]])\n",
    "DEAR_P_MATRIX = np.sqrt(MU*SIGMA*MU.T).item(0,0)\n",
    "print(f\"DEAR for the portfolio is ${DEAR_P_MATRIX:.2f}\")\n"
   ]
  },
  {
   "cell_type": "code",
   "execution_count": 6,
   "id": "769fdda4",
   "metadata": {},
   "outputs": [
    {
     "name": "stdout",
     "output_type": "stream",
     "text": [
      "Requirement already satisfied: pandas_datareader in c:\\users\\hlliu2\\anaconda3\\envs\\mla\\lib\\site-packages (0.10.0)\n",
      "Requirement already satisfied: yfinance in c:\\users\\hlliu2\\anaconda3\\envs\\mla\\lib\\site-packages (0.2.26)\n",
      "Requirement already satisfied: lxml in c:\\users\\hlliu2\\anaconda3\\envs\\mla\\lib\\site-packages (from pandas_datareader) (4.9.2)\n",
      "Requirement already satisfied: requests>=2.19.0 in c:\\users\\hlliu2\\appdata\\roaming\\python\\python39\\site-packages (from pandas_datareader) (2.31.0)\n",
      "Requirement already satisfied: pandas>=0.23 in c:\\users\\hlliu2\\anaconda3\\envs\\mla\\lib\\site-packages (from pandas_datareader) (2.2.2)\n",
      "Requirement already satisfied: numpy>=1.16.5 in c:\\users\\hlliu2\\appdata\\roaming\\python\\python39\\site-packages (from yfinance) (1.23.5)\n",
      "Requirement already satisfied: multitasking>=0.0.7 in c:\\users\\hlliu2\\anaconda3\\envs\\mla\\lib\\site-packages (from yfinance) (0.0.11)\n",
      "Requirement already satisfied: frozendict>=2.3.4 in c:\\users\\hlliu2\\anaconda3\\envs\\mla\\lib\\site-packages (from yfinance) (2.3.8)\n",
      "Requirement already satisfied: pytz>=2022.5 in c:\\users\\hlliu2\\anaconda3\\envs\\mla\\lib\\site-packages (from yfinance) (2023.3)\n",
      "Requirement already satisfied: beautifulsoup4>=4.11.1 in c:\\users\\hlliu2\\anaconda3\\envs\\mla\\lib\\site-packages (from yfinance) (4.12.2)\n",
      "Requirement already satisfied: html5lib>=1.1 in c:\\users\\hlliu2\\anaconda3\\envs\\mla\\lib\\site-packages (from yfinance) (1.1)\n",
      "Requirement already satisfied: appdirs>=1.4.4 in c:\\users\\hlliu2\\anaconda3\\envs\\mla\\lib\\site-packages (from yfinance) (1.4.4)\n",
      "Requirement already satisfied: soupsieve>1.2 in c:\\users\\hlliu2\\anaconda3\\envs\\mla\\lib\\site-packages (from beautifulsoup4>=4.11.1->yfinance) (2.4)\n",
      "Requirement already satisfied: webencodings in c:\\users\\hlliu2\\anaconda3\\envs\\mla\\lib\\site-packages (from html5lib>=1.1->yfinance) (0.5.1)\n",
      "Requirement already satisfied: six>=1.9 in c:\\users\\hlliu2\\anaconda3\\envs\\mla\\lib\\site-packages (from html5lib>=1.1->yfinance) (1.16.0)\n",
      "Requirement already satisfied: python-dateutil>=2.8.2 in c:\\users\\hlliu2\\anaconda3\\envs\\mla\\lib\\site-packages (from pandas>=0.23->pandas_datareader) (2.8.2)\n",
      "Requirement already satisfied: tzdata>=2022.7 in c:\\users\\hlliu2\\anaconda3\\envs\\mla\\lib\\site-packages (from pandas>=0.23->pandas_datareader) (2024.1)\n",
      "Requirement already satisfied: certifi>=2017.4.17 in c:\\users\\hlliu2\\appdata\\roaming\\python\\python39\\site-packages (from requests>=2.19.0->pandas_datareader) (2023.5.7)\n",
      "Requirement already satisfied: idna<4,>=2.5 in c:\\users\\hlliu2\\appdata\\roaming\\python\\python39\\site-packages (from requests>=2.19.0->pandas_datareader) (3.4)\n",
      "Requirement already satisfied: charset-normalizer<4,>=2 in c:\\users\\hlliu2\\appdata\\roaming\\python\\python39\\site-packages (from requests>=2.19.0->pandas_datareader) (3.1.0)\n",
      "Requirement already satisfied: urllib3<3,>=1.21.1 in c:\\users\\hlliu2\\appdata\\roaming\\python\\python39\\site-packages (from requests>=2.19.0->pandas_datareader) (1.26.16)\n",
      "[*********************100%***********************]  1 of 1 completed\n",
      "the VaR for MSFT is -0.04541\n"
     ]
    },
    {
     "name": "stderr",
     "output_type": "stream",
     "text": [
      "C:\\Users\\hlliu2\\Anaconda3\\envs\\MLA\\lib\\site-packages\\yfinance\\utils.py:768: FutureWarning: The 'unit' keyword in TimedeltaIndex construction is deprecated and will be removed in a future version. Use pd.to_timedelta instead.\n",
      "  df.index += _pd.TimedeltaIndex(dst_error_hours, 'h')\n"
     ]
    }
   ],
   "source": [
    "!pip install pandas_datareader yfinance\n",
    "from datetime import date, timedelta\n",
    "from pandas_datareader import data as pdr\n",
    "import yfinance\n",
    "yfinance.pdr_override()\n",
    "\n",
    "# Get the ticker symbol\n",
    "ticker = 'MSFT' # 1\n",
    "# Set the start and end dates\n",
    "end_date = date.today().strftime(\"%Y-%m-%d\")  # 2\n",
    "start_date = (date.today() - timedelta(days=365*5)).strftime(\"%Y-%m-%d\")\n",
    "# Retieve prices\n",
    "stock = pdr.get_data_yahoo(ticker, start = start_date, end = end_date) # 3\n",
    "# Calculate returns\n",
    "stock['ret_stock'] = (stock['Adj Close']/stock['Adj Close'].shift(1))-1 # 4\n",
    "# Get the one percentile value\n",
    "VaR = stock['ret_stock'].quantile([0.01]) # 5\n",
    "print(\"the VaR for MSFT is\", round(VaR.iloc[0],5)) # 6\n"
   ]
  },
  {
   "cell_type": "code",
   "execution_count": 7,
   "id": "bf6985f4",
   "metadata": {},
   "outputs": [
    {
     "name": "stdout",
     "output_type": "stream",
     "text": [
      "[*********************100%***********************]  1 of 1 completed\n",
      "the VaR for S&P500 is -0.03594\n"
     ]
    },
    {
     "name": "stderr",
     "output_type": "stream",
     "text": [
      "C:\\Users\\hlliu2\\Anaconda3\\envs\\MLA\\lib\\site-packages\\yfinance\\utils.py:768: FutureWarning: The 'unit' keyword in TimedeltaIndex construction is deprecated and will be removed in a future version. Use pd.to_timedelta instead.\n",
      "  df.index += _pd.TimedeltaIndex(dst_error_hours, 'h')\n"
     ]
    }
   ],
   "source": [
    "# Use the ticker symbol of S&P500\n",
    "ticker = '^GSPC'\n",
    "# Set the start and end dates\n",
    "end_date = date.today().strftime(\"%Y-%m-%d\")\n",
    "start_date = (date.today() - timedelta(days=365*5)).strftime(\"%Y-%m-%d\")\n",
    "# Retieve prices\n",
    "stock = pdr.get_data_yahoo(ticker, start = start_date, end = end_date)\n",
    "# Calculate returns\n",
    "stock['ret_stock'] = (stock['Adj Close']/stock['Adj Close'].shift(1))-1\n",
    "# Get the one percentile value\n",
    "VaR = stock['ret_stock'].quantile([0.01])\n",
    "print(\"the VaR for S&P500 is\", round(VaR.iloc[0],5))\n"
   ]
  },
  {
   "cell_type": "code",
   "execution_count": 8,
   "id": "3d24b561",
   "metadata": {},
   "outputs": [
    {
     "name": "stdout",
     "output_type": "stream",
     "text": [
      "the VaR on the portfolio is -0.01327048830515097\n"
     ]
    }
   ],
   "source": [
    "# import numpy and generate two numpy arrays\n",
    "import numpy as np\n",
    "\n",
    "ret_mkt = np.zeros((10000,)) # 1\n",
    "ret_p = np.zeros((10000,))\n",
    "\n",
    "for i in range(len(ret_mkt)): # 2\n",
    "    ret_mkt[i] = np.random.normal(0.0002, 0.005, 1)[0] # 3\n",
    "    ret_p[i] = 0.0001 + 1.2 * ret_mkt[i] # 4\n",
    "   \n",
    "# Find the one percentile of the value of ret_p\n",
    "one_pct = np.percentile(ret_p, 1) # 5\n",
    "print(\"the VaR on the portfolio is\", one_pct)\n"
   ]
  },
  {
   "cell_type": "code",
   "execution_count": 9,
   "id": "01330e6d",
   "metadata": {},
   "outputs": [
    {
     "name": "stdout",
     "output_type": "stream",
     "text": [
      "Estimated Expected Shortfall (ES): 2.66\n"
     ]
    }
   ],
   "source": [
    "import numpy as np\n",
    "import scipy.stats as stats\n",
    "# Define parameters for the normal distribution (mean and standard deviation)\n",
    "mu = 0\n",
    "sigma = 1\n",
    "# Define the number of intervals within the 99th to 100th percentile\n",
    "n_intervals = 999\n",
    "# Generate percentile values from 99.001% to 99.999%\n",
    "percentiles = np.linspace(99.001, 99.999, n_intervals)\n",
    "# Calculate VaR at each percentile\n",
    "vars_at_percentiles = stats.norm.ppf(percentiles / 100, mu, sigma)\n",
    "# Calculate the average of these VaR values to estimate ES\n",
    "estimated_es = np.mean(vars_at_percentiles)\n",
    "print(f\"Estimated Expected Shortfall (ES): {estimated_es:.2f}\")\n"
   ]
  },
  {
   "cell_type": "code",
   "execution_count": 10,
   "id": "5080ee16",
   "metadata": {},
   "outputs": [
    {
     "name": "stdout",
     "output_type": "stream",
     "text": [
      "the value at risk is -0.04653\n",
      "the expected shortfall is -0.05328\n"
     ]
    }
   ],
   "source": [
    "from scipy.stats import norm # 1\n",
    "\n",
    "std = 0.02 # 2\n",
    "\n",
    "VaR = - std*norm.ppf(0.99)  # 3\n",
    "print(\"the value at risk is\", round(VaR,5))\n",
    "\n",
    "expected_shortfalls = [] # 4\n",
    "\n",
    "for i in range(1000):  # 5\n",
    "    confidence = 0.99+i*0.00001  # 6\n",
    "    loss = -std * norm.ppf(confidence)\n",
    "    expected_shortfalls.append(loss)\n",
    "   \n",
    "expected_shortfall = sum(expected_shortfalls)/len(expected_shortfalls) # 7\n",
    "print(\"the expected shortfall is\", round(expected_shortfall,5))\n"
   ]
  },
  {
   "cell_type": "code",
   "execution_count": 11,
   "id": "5cf7cb14",
   "metadata": {},
   "outputs": [
    {
     "name": "stdout",
     "output_type": "stream",
     "text": [
      "Estimated Expected Shortfall (ES): 0.0533\n"
     ]
    }
   ],
   "source": [
    "import scipy.stats as stats\n",
    "# Given data\n",
    "mu = 0\n",
    "sigma = 0.02\n",
    "p = 0.99\n",
    "\n",
    "# Calculate the z-score for the 99% percentile\n",
    "z_p = stats.norm.ppf(p)\n",
    "\n",
    "# Calculate the probability density at the z-score\n",
    "phi_z_p = stats.norm.pdf(z_p)\n",
    "\n",
    "# Calculate the Expected Shortfall for the distribution\n",
    "ES = mu + sigma * phi_z_p / (1 - p)\n",
    "print(f\"Estimated Expected Shortfall (ES): {ES:.4f}\")\n"
   ]
  },
  {
   "cell_type": "code",
   "execution_count": 12,
   "id": "ed4c7f02",
   "metadata": {},
   "outputs": [
    {
     "name": "stdout",
     "output_type": "stream",
     "text": [
      "Expected shortfall for distribution a is -100 million\n",
      "Expected shortfall for distribution b is -90.0 million\n"
     ]
    }
   ],
   "source": [
    "payoff_a = {100:0.6, 50:0.39, -100:0.01}\n",
    "for payoff, p in payoff_a.items():\n",
    "    if p==0.01:\n",
    "        es_a = payoff\n",
    "print(\"Expected shortfall for distribution a is\", es_a,\"million\")\n",
    "       \n",
    "payoff_b = {100:0.6, 50:0.39, -60:0.0025, -100:0.0075}\n",
    "avg_b=0\n",
    "p_b=0\n",
    "for payoff, p in payoff_b.items():\n",
    "    if p==0.0025 or p==0.0075:\n",
    "        avg_b += payoff*p\n",
    "        p_b += p\n",
    "es_b=avg_b/p_b\n",
    "print(\"Expected shortfall for distribution b is\", es_b,\"million\")\n"
   ]
  },
  {
   "cell_type": "code",
   "execution_count": null,
   "id": "e8d41990",
   "metadata": {},
   "outputs": [],
   "source": []
  }
 ],
 "metadata": {
  "kernelspec": {
   "display_name": "Python 3 (ipykernel)",
   "language": "python",
   "name": "python3"
  },
  "language_info": {
   "codemirror_mode": {
    "name": "ipython",
    "version": 3
   },
   "file_extension": ".py",
   "mimetype": "text/x-python",
   "name": "python",
   "nbconvert_exporter": "python",
   "pygments_lexer": "ipython3",
   "version": "3.9.12"
  }
 },
 "nbformat": 4,
 "nbformat_minor": 5
}
