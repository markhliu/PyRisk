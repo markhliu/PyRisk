{
 "cells": [
  {
   "cell_type": "markdown",
   "id": "7a3a1c4d",
   "metadata": {},
   "source": [
    "# Chapter 6: Insurance Products and Contractual Provisions\n",
    "\n",
    "\n",
    "Insurance serves as a crucial tool in managing and transferring pure risks among risk-averse individuals and corporations. This chapter examines various insurance contracts and explores the concept of reinsurance. We also discuss the limitations faced by insurers in risk management, along with specific contractual strategies employed to mitigate these limitations. \n",
    "\n",
    "Chapter Objectives:\n",
    "\n",
    "1. Examine various insurance products\n",
    "2. Understand the operations of the reinsurance market\n",
    "3. Analyze key insurance contractual provisions\n"
   ]
  },
  {
   "cell_type": "code",
   "execution_count": 1,
   "id": "0abcb57d",
   "metadata": {},
   "outputs": [
    {
     "name": "stdout",
     "output_type": "stream",
     "text": [
      "the fair premium is $3333.00\n"
     ]
    }
   ],
   "source": [
    "mortality_rate=0.003333\n",
    "facevalue=1000000\n",
    "term_premium=facevalue*mortality_rate\n",
    "print(f'the fair premium is ${term_premium:.2f}')"
   ]
  },
  {
   "cell_type": "code",
   "execution_count": 2,
   "id": "bb92ce42",
   "metadata": {},
   "outputs": [
    {
     "name": "stdout",
     "output_type": "stream",
     "text": [
      "Cash value of the life insurance policy is 18998.3\n"
     ]
    }
   ],
   "source": [
    "premium=10000\n",
    "cashvalue=10000\n",
    "fv=300000\n",
    "rate=0.003339\n",
    "cashvalue=cashvalue+premium-fv*rate\n",
    "print('Cash value of the life insurance policy is', round(cashvalue, 2))\n"
   ]
  },
  {
   "cell_type": "code",
   "execution_count": 3,
   "id": "566eefe4",
   "metadata": {},
   "outputs": [
    {
     "name": "stdout",
     "output_type": "stream",
     "text": [
      "Annuity value after 5-year accumulation is $178152.95\n",
      "Monthly payment is $1033.22 if paid in 20 years\n",
      "Total payment is $247971.68 in 20 years\n",
      "Monthly payment is $799.99 if paid in 30 years\n",
      "Total payment is $287995.08 in 30 years\n"
     ]
    }
   ],
   "source": [
    "import numpy_financial as npf\n",
    "balance=npf.fv(0.035,5,0,-150000)\n",
    "print(f\"Annuity value after 5-year accumulation is ${balance:.2f}\")\n",
    "pmt20=npf.pmt(0.035/12,20*12,-balance,0)\n",
    "total20=pmt20*20*12\n",
    "print(f\"Monthly payment is ${pmt20:.2f} if paid in 20 years\")\n",
    "print(f\"Total payment is ${total20:.2f} in 20 years\")\n",
    "pmt30=npf.pmt(0.035/12,30*12,-balance,0)\n",
    "total30=pmt30*30*12\n",
    "print(f\"Monthly payment is ${pmt30:.2f} if paid in 30 years\")\n",
    "print(f\"Total payment is ${total30:.2f} in 30 years\")\n"
   ]
  },
  {
   "cell_type": "code",
   "execution_count": 4,
   "id": "b8d12eeb",
   "metadata": {},
   "outputs": [
    {
     "name": "stdout",
     "output_type": "stream",
     "text": [
      "Annuity value after 5-year accumulation is $175260.10\n",
      "Monthly payment is $1016.44 if paid in 20 years\n",
      "Total payment is $243945.12 in 20 years\n",
      "Monthly payment is $787.00 if paid in 30 years\n",
      "Total payment is $283318.63 in 30 years\n"
     ]
    }
   ],
   "source": [
    "rets=[0.04, 0.06, -0.02, 0.05, 0.03]\n",
    "balance=150000\n",
    "for r in rets:\n",
    "    balance = balance*(1+r)\n",
    "print(f\"Annuity value after 5-year accumulation is ${balance:.2f}\")\n",
    "pmt20=npf.pmt(0.035/12,20*12,-balance,0)\n",
    "total20=pmt20*20*12\n",
    "print(f\"Monthly payment is ${pmt20:.2f} if paid in 20 years\")\n",
    "print(f\"Total payment is ${total20:.2f} in 20 years\")\n",
    "pmt30=npf.pmt(0.035/12,30*12,-balance,0)\n",
    "total30=pmt30*30*12\n",
    "print(f\"Monthly payment is ${pmt30:.2f} if paid in 30 years\")\n",
    "print(f\"Total payment is ${total30:.2f} in 30 years\")\n"
   ]
  },
  {
   "cell_type": "code",
   "execution_count": 5,
   "id": "618407c6",
   "metadata": {},
   "outputs": [
    {
     "name": "stdout",
     "output_type": "stream",
     "text": [
      "net premium to the reinsurer is $24.0m\n",
      "net income to Citywide is $48.0m\n"
     ]
    }
   ],
   "source": [
    "total_premium=100\n",
    "cession_rate=0.3\n",
    "commission=0.2\n",
    "premium_to_reinsurer=total_premium*cession_rate*(1-commission)\n",
    "print(f\"net premium to the reinsurer is ${premium_to_reinsurer}m\")\n",
    "total_claim=40\n",
    "claim_from_reinsurer=total_claim*cession_rate\n",
    "net_income=total_premium-total_claim-premium_to_reinsurer+\\\n",
    "    claim_from_reinsurer\n",
    "print(f\"net income to Citywide is ${net_income}m\")\n"
   ]
  },
  {
   "cell_type": "code",
   "execution_count": 6,
   "id": "7f59469d",
   "metadata": {},
   "outputs": [
    {
     "name": "stdout",
     "output_type": "stream",
     "text": [
      "the reinsurance premium is $6.25m\n",
      "net income for Stable Insurance is $-141.25m\n"
     ]
    }
   ],
   "source": [
    "insured_amount=500\n",
    "reinsurace_coverage=0.5\n",
    "reinsurace_premium_rate=0.025\n",
    "coverage_ceded=reinsurace_coverage*insured_amount\n",
    "reinsurace_premium=coverage_ceded*reinsurace_premium_rate\n",
    "print(f\"the reinsurance premium is ${reinsurace_premium}m\")\n",
    "premium_received=insured_amount*0.03\n",
    "total_claim=300\n",
    "pmt_from_reinsurer=reinsurace_coverage*total_claim\n",
    "net_income=premium_received-reinsurace_premium-total_claim\\\n",
    "    +pmt_from_reinsurer\n",
    "print(f\"net income for Stable Insurance is ${net_income}m\")\n"
   ]
  },
  {
   "cell_type": "code",
   "execution_count": 7,
   "id": "2b5274a4",
   "metadata": {},
   "outputs": [
    {
     "name": "stdout",
     "output_type": "stream",
     "text": [
      "Insurance price without deductible is 4800.0\n",
      "Insurance price with deductible is 2200.0\n"
     ]
    }
   ],
   "source": [
    "dist = {1000:0.8,10000:0.2}\n",
    "cost=2000\n",
    "deductible=1000\n",
    "price1=0\n",
    "for loss, p in dist.items():\n",
    "    price1 += p*(loss+cost)\n",
    "print(\"Insurance price without deductible is\", round(price1,2))\n",
    "\n",
    "price2=0\n",
    "for loss, p in dist.items():\n",
    "    if loss>deductible:\n",
    "        price2 += p*(loss+cost-deductible)\n",
    "print(\"Insurance price with deductible is\", round(price2,2))\n"
   ]
  },
  {
   "cell_type": "code",
   "execution_count": null,
   "id": "a747bf52",
   "metadata": {},
   "outputs": [],
   "source": []
  }
 ],
 "metadata": {
  "kernelspec": {
   "display_name": "Python 3 (ipykernel)",
   "language": "python",
   "name": "python3"
  },
  "language_info": {
   "codemirror_mode": {
    "name": "ipython",
    "version": 3
   },
   "file_extension": ".py",
   "mimetype": "text/x-python",
   "name": "python",
   "nbconvert_exporter": "python",
   "pygments_lexer": "ipython3",
   "version": "3.9.12"
  }
 },
 "nbformat": 4,
 "nbformat_minor": 5
}
