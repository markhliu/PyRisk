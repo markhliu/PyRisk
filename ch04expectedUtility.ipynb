{
 "cells": [
  {
   "cell_type": "markdown",
   "metadata": {},
   "source": [
    "# Chapter 4: Expected Utility under Uncertainty and Information Asymmetry"
   ]
  },
  {
   "cell_type": "markdown",
   "metadata": {},
   "source": [
    "Question 1:"
   ]
  },
  {
   "cell_type": "code",
   "execution_count": 1,
   "metadata": {},
   "outputs": [
    {
     "name": "stdout",
     "output_type": "stream",
     "text": [
      "the agent's expected payoff is 100.0\n",
      "the agent's expected utility is 9.65685424949238\n",
      "the agent's utility of the expected payoff is 10.0\n"
     ]
    }
   ],
   "source": [
    "import math\n",
    "\n",
    "# Define utility function\n",
    "def U(w):\n",
    "    if w>=0:\n",
    "        return math.sqrt(w)\n",
    "    else:\n",
    "        print(\"the argument has to be positive in the utility function\")\n",
    "\n",
    "# Payoff structure\n",
    "payoff = {200:0.2, 100:0.4, 50:0.4}\n",
    "# Calculate the expected payoff\n",
    "mu = 0\n",
    "for v, p in payoff.items():\n",
    "    mu += p*v\n",
    "print(f\"the agent's expected payoff is {mu}\") \n",
    "\n",
    "# Calculate the expected utility\n",
    "exp_U = 0\n",
    "for v, p in payoff.items():\n",
    "    exp_U += p*U(v)\n",
    "print(f\"the agent's expected utility is {exp_U}\") \n",
    "\n",
    "# Calculate the utility of the expected payoff\n",
    "U_mu = U(mu)\n",
    "print(f\"the agent's utility of the expected payoff is {U_mu}\") "
   ]
  },
  {
   "cell_type": "markdown",
   "metadata": {},
   "source": [
    "Question 2:"
   ]
  },
  {
   "cell_type": "code",
   "execution_count": 3,
   "metadata": {},
   "outputs": [
    {
     "name": "stdout",
     "output_type": "stream",
     "text": [
      "the certainty equivalent is 93.25483399593904\n",
      "the risk premium is 6.7451660040609625\n"
     ]
    }
   ],
   "source": [
    "CE = exp_U**2\n",
    "print(f\"the certainty equivalent is {CE}\") \n",
    "risk_premium = mu - CE\n",
    "print(f\"the risk premium is {risk_premium}\") "
   ]
  },
  {
   "cell_type": "markdown",
   "metadata": {},
   "source": [
    "Question 3:"
   ]
  },
  {
   "cell_type": "code",
   "execution_count": 4,
   "metadata": {},
   "outputs": [
    {
     "name": "stdout",
     "output_type": "stream",
     "text": [
      "Mr. Blue's expected utility is 444.66772697216106\n"
     ]
    }
   ],
   "source": [
    "import math\n",
    "\n",
    "# Define utility function\n",
    "def U(w):\n",
    "    if w>=0:\n",
    "        return math.sqrt(w)\n",
    "    else:\n",
    "        print(\"the argument has to be positive in the utility function\")\n",
    "\n",
    "# loss structure\n",
    "loss = {50000:0.01, 30000:0.02, 15000:0.05, 5000:0.07, 0:0.85}\n",
    "\n",
    "# Calculate the expected utility\n",
    "exp_U = 0\n",
    "wealth = 200000\n",
    "for v, p in loss.items():\n",
    "    exp_U += p*U(wealth-v)\n",
    "print(f\"Mr. Blue's expected utility is {exp_U}\") "
   ]
  },
  {
   "cell_type": "markdown",
   "metadata": {},
   "source": [
    "Question 4:"
   ]
  },
  {
   "cell_type": "code",
   "execution_count": 5,
   "metadata": {},
   "outputs": [
    {
     "name": "stdout",
     "output_type": "stream",
     "text": [
      "Mr. Blue's expected utility with insurance is 445.24818303095856\n"
     ]
    }
   ],
   "source": [
    "premium = 1000\n",
    "deductible = 5000 \n",
    "\n",
    "# Calculate the expected utility with insurance\n",
    "exp_U_insured = 0\n",
    "for v, p in loss.items():\n",
    "    exp_U_insured += p*U(wealth-premium-v+max(0,v-5000))\n",
    "print(f\"Mr. Blue's expected utility with insurance is {exp_U_insured}\") "
   ]
  },
  {
   "cell_type": "code",
   "execution_count": null,
   "metadata": {},
   "outputs": [],
   "source": []
  }
 ],
 "metadata": {
  "kernelspec": {
   "display_name": "Python 3 (ipykernel)",
   "language": "python",
   "name": "python3"
  },
  "language_info": {
   "codemirror_mode": {
    "name": "ipython",
    "version": 3
   },
   "file_extension": ".py",
   "mimetype": "text/x-python",
   "name": "python",
   "nbconvert_exporter": "python",
   "pygments_lexer": "ipython3",
   "version": "3.11.3"
  }
 },
 "nbformat": 4,
 "nbformat_minor": 4
}
